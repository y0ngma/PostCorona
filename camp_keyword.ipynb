{
 "cells": [
  {
   "cell_type": "code",
   "execution_count": 1,
   "metadata": {},
   "outputs": [],
   "source": [
    "import os \n",
    "import glob\n",
    "import sys\n",
    "import warnings\n",
    "warnings.filterwarnings(\"ignore\")\n",
    "\n",
    "import pandas as pd\n",
    "import numpy as np\n",
    "import plotly.graph_objs as go\n",
    "import plotly.express as px\n",
    "import plotly.figure_factory as ff\n",
    "from plotly.subplots import make_subplots\n",
    "\n",
    "# 결측치 확인용\n",
    "import seaborn as sns\n",
    "import matplotlib.pyplot as plt\n",
    "from matplotlib import font_manager,rc\n",
    "\n",
    "#폰트 경로\n",
    "font_path = \"C:/Windows/Fonts/gulim.ttc\"\n",
    " \n",
    "#폰트 이름 얻어오기\n",
    "font_name = font_manager.FontProperties(fname=font_path).get_name()\n",
    " \n",
    "#font 설정\n",
    "rc('font',family=font_name)"
   ]
  },
  {
   "cell_type": "code",
   "execution_count": 2,
   "metadata": {},
   "outputs": [],
   "source": [
    "BASE_DIR = os.path.dirname(os.path.abspath('.')) + \"\\\\data\\\\PostCorona\\\\\"\n",
    "\n",
    "article = pd.read_csv(BASE_DIR + \"Camp_Keyword.csv\")"
   ]
  },
  {
   "cell_type": "code",
   "execution_count": 7,
   "metadata": {},
   "outputs": [
    {
     "name": "stdout",
     "output_type": "stream",
     "text": [
      "<class 'pandas.core.frame.DataFrame'>\n",
      "RangeIndex: 12039 entries, 0 to 12038\n",
      "Data columns (total 5 columns):\n",
      " #   Column   Non-Null Count  Dtype \n",
      "---  ------   --------------  ----- \n",
      " 0   Title    12039 non-null  object\n",
      " 1   Post     12039 non-null  object\n",
      " 2   Date     12039 non-null  object\n",
      " 3   Keyword  12039 non-null  object\n",
      " 4   pn       12039 non-null  int64 \n",
      "dtypes: int64(1), object(4)\n",
      "memory usage: 470.4+ KB\n"
     ]
    }
   ],
   "source": [
    "article.info()"
   ]
  },
  {
   "cell_type": "code",
   "execution_count": 4,
   "metadata": {},
   "outputs": [],
   "source": [
    "article['pn']=0"
   ]
  },
  {
   "cell_type": "code",
   "execution_count": 11,
   "metadata": {
    "scrolled": true
   },
   "outputs": [
    {
     "data": {
      "text/html": [
       "<div>\n",
       "<style scoped>\n",
       "    .dataframe tbody tr th:only-of-type {\n",
       "        vertical-align: middle;\n",
       "    }\n",
       "\n",
       "    .dataframe tbody tr th {\n",
       "        vertical-align: top;\n",
       "    }\n",
       "\n",
       "    .dataframe thead th {\n",
       "        text-align: right;\n",
       "    }\n",
       "</style>\n",
       "<table border=\"1\" class=\"dataframe\">\n",
       "  <thead>\n",
       "    <tr style=\"text-align: right;\">\n",
       "      <th></th>\n",
       "      <th>Title</th>\n",
       "      <th>Post</th>\n",
       "      <th>Date</th>\n",
       "      <th>Keyword</th>\n",
       "      <th>pn</th>\n",
       "    </tr>\n",
       "  </thead>\n",
       "  <tbody>\n",
       "    <tr>\n",
       "      <th>0</th>\n",
       "      <td>구로 천왕도시자연공원에 가족캠핑장 조성</td>\n",
       "      <td>국민일보</td>\n",
       "      <td>2020-01-01</td>\n",
       "      <td>['구로', '천왕', '천왕도시자연공원', '도시', '자연', '공원', '가족...</td>\n",
       "      <td>0</td>\n",
       "    </tr>\n",
       "    <tr>\n",
       "      <th>1</th>\n",
       "      <td>새해 바뀌는 소비생활 제도들...알아두면 편하고 쏠쏠해</td>\n",
       "      <td>소비자가 만드는 신문</td>\n",
       "      <td>2020-01-01</td>\n",
       "      <td>['새해', '소비', '소비생활', '생활', '제도']</td>\n",
       "      <td>0</td>\n",
       "    </tr>\n",
       "    <tr>\n",
       "      <th>2</th>\n",
       "      <td>[트래블투데이] 2020 관광 비전, 트래블아이 어워즈 수상지역 기관장 인터뷰 - ...</td>\n",
       "      <td>트래블투데이</td>\n",
       "      <td>2020-01-01</td>\n",
       "      <td>['트래블', '트래블투데이', '투데이', '2020', '관광', '비전', '...</td>\n",
       "      <td>0</td>\n",
       "    </tr>\n",
       "    <tr>\n",
       "      <th>3</th>\n",
       "      <td>&lt;김주수 의성군수 신년사&gt;</td>\n",
       "      <td>에너지경제</td>\n",
       "      <td>2020-01-01</td>\n",
       "      <td>['김', '김주수', '주수', '의성', '의성군수', '군수', '신년사']</td>\n",
       "      <td>0</td>\n",
       "    </tr>\n",
       "    <tr>\n",
       "      <th>4</th>\n",
       "      <td>최대호 시장이 안양시민에 띄우는 신년편지</td>\n",
       "      <td>파이낸셜뉴스</td>\n",
       "      <td>2020-01-01</td>\n",
       "      <td>['대호', '시장', '안양', '안양시민', '시민', '신년', '신년편지',...</td>\n",
       "      <td>0</td>\n",
       "    </tr>\n",
       "  </tbody>\n",
       "</table>\n",
       "</div>"
      ],
      "text/plain": [
       "                                               Title         Post        Date  \\\n",
       "0                              구로 천왕도시자연공원에 가족캠핑장 조성         국민일보  2020-01-01   \n",
       "1                     새해 바뀌는 소비생활 제도들...알아두면 편하고 쏠쏠해  소비자가 만드는 신문  2020-01-01   \n",
       "2  [트래블투데이] 2020 관광 비전, 트래블아이 어워즈 수상지역 기관장 인터뷰 - ...       트래블투데이  2020-01-01   \n",
       "3                                     <김주수 의성군수 신년사>        에너지경제  2020-01-01   \n",
       "4                             최대호 시장이 안양시민에 띄우는 신년편지       파이낸셜뉴스  2020-01-01   \n",
       "\n",
       "                                             Keyword  pn  \n",
       "0  ['구로', '천왕', '천왕도시자연공원', '도시', '자연', '공원', '가족...   0  \n",
       "1                   ['새해', '소비', '소비생활', '생활', '제도']   0  \n",
       "2  ['트래블', '트래블투데이', '투데이', '2020', '관광', '비전', '...   0  \n",
       "3      ['김', '김주수', '주수', '의성', '의성군수', '군수', '신년사']   0  \n",
       "4  ['대호', '시장', '안양', '안양시민', '시민', '신년', '신년편지',...   0  "
      ]
     },
     "execution_count": 11,
     "metadata": {},
     "output_type": "execute_result"
    }
   ],
   "source": [
    "article.head()"
   ]
  },
  {
   "cell_type": "code",
   "execution_count": 5,
   "metadata": {
    "scrolled": false
   },
   "outputs": [
    {
     "name": "stdout",
     "output_type": "stream",
     "text": [
      "0 : 구로 천왕도시자연공원에 가족캠핑장 조성\n",
      "1\n",
      "1 : 새해 바뀌는 소비생활 제도들...알아두면 편하고 쏠쏠해\n",
      "0\n",
      "2 : [트래블투데이] 2020 관광 비전, 트래블아이 어워즈 수상지역 기관장 인터뷰 - 강원 동해 심규언 시장\n",
      "1\n",
      "3 : <김주수 의성군수 신년사>\n",
      "1\n",
      "4 : 최대호 시장이 안양시민에 띄우는 신년편지\n",
      "1\n"
     ]
    }
   ],
   "source": [
    "# for i in range(len(article['pn'])):\n",
    "for i in range(5):\n",
    "    print(i,':',article['Title'][i])\n",
    "    article['pn'][i]=input()\n",
    "    "
   ]
  },
  {
   "cell_type": "code",
   "execution_count": 6,
   "metadata": {},
   "outputs": [
    {
     "data": {
      "text/html": [
       "<div>\n",
       "<style scoped>\n",
       "    .dataframe tbody tr th:only-of-type {\n",
       "        vertical-align: middle;\n",
       "    }\n",
       "\n",
       "    .dataframe tbody tr th {\n",
       "        vertical-align: top;\n",
       "    }\n",
       "\n",
       "    .dataframe thead th {\n",
       "        text-align: right;\n",
       "    }\n",
       "</style>\n",
       "<table border=\"1\" class=\"dataframe\">\n",
       "  <thead>\n",
       "    <tr style=\"text-align: right;\">\n",
       "      <th></th>\n",
       "      <th>Title</th>\n",
       "      <th>Post</th>\n",
       "      <th>Date</th>\n",
       "      <th>Keyword</th>\n",
       "      <th>pn</th>\n",
       "    </tr>\n",
       "  </thead>\n",
       "  <tbody>\n",
       "    <tr>\n",
       "      <th>0</th>\n",
       "      <td>구로 천왕도시자연공원에 가족캠핑장 조성</td>\n",
       "      <td>국민일보</td>\n",
       "      <td>2020-01-01</td>\n",
       "      <td>['구로', '천왕', '천왕도시자연공원', '도시', '자연', '공원', '가족...</td>\n",
       "      <td>1</td>\n",
       "    </tr>\n",
       "    <tr>\n",
       "      <th>1</th>\n",
       "      <td>새해 바뀌는 소비생활 제도들...알아두면 편하고 쏠쏠해</td>\n",
       "      <td>소비자가 만드는 신문</td>\n",
       "      <td>2020-01-01</td>\n",
       "      <td>['새해', '소비', '소비생활', '생활', '제도']</td>\n",
       "      <td>0</td>\n",
       "    </tr>\n",
       "    <tr>\n",
       "      <th>2</th>\n",
       "      <td>[트래블투데이] 2020 관광 비전, 트래블아이 어워즈 수상지역 기관장 인터뷰 - ...</td>\n",
       "      <td>트래블투데이</td>\n",
       "      <td>2020-01-01</td>\n",
       "      <td>['트래블', '트래블투데이', '투데이', '2020', '관광', '비전', '...</td>\n",
       "      <td>1</td>\n",
       "    </tr>\n",
       "    <tr>\n",
       "      <th>3</th>\n",
       "      <td>&lt;김주수 의성군수 신년사&gt;</td>\n",
       "      <td>에너지경제</td>\n",
       "      <td>2020-01-01</td>\n",
       "      <td>['김', '김주수', '주수', '의성', '의성군수', '군수', '신년사']</td>\n",
       "      <td>1</td>\n",
       "    </tr>\n",
       "    <tr>\n",
       "      <th>4</th>\n",
       "      <td>최대호 시장이 안양시민에 띄우는 신년편지</td>\n",
       "      <td>파이낸셜뉴스</td>\n",
       "      <td>2020-01-01</td>\n",
       "      <td>['대호', '시장', '안양', '안양시민', '시민', '신년', '신년편지',...</td>\n",
       "      <td>1</td>\n",
       "    </tr>\n",
       "  </tbody>\n",
       "</table>\n",
       "</div>"
      ],
      "text/plain": [
       "                                               Title         Post        Date  \\\n",
       "0                              구로 천왕도시자연공원에 가족캠핑장 조성         국민일보  2020-01-01   \n",
       "1                     새해 바뀌는 소비생활 제도들...알아두면 편하고 쏠쏠해  소비자가 만드는 신문  2020-01-01   \n",
       "2  [트래블투데이] 2020 관광 비전, 트래블아이 어워즈 수상지역 기관장 인터뷰 - ...       트래블투데이  2020-01-01   \n",
       "3                                     <김주수 의성군수 신년사>        에너지경제  2020-01-01   \n",
       "4                             최대호 시장이 안양시민에 띄우는 신년편지       파이낸셜뉴스  2020-01-01   \n",
       "\n",
       "                                             Keyword  pn  \n",
       "0  ['구로', '천왕', '천왕도시자연공원', '도시', '자연', '공원', '가족...   1  \n",
       "1                   ['새해', '소비', '소비생활', '생활', '제도']   0  \n",
       "2  ['트래블', '트래블투데이', '투데이', '2020', '관광', '비전', '...   1  \n",
       "3      ['김', '김주수', '주수', '의성', '의성군수', '군수', '신년사']   1  \n",
       "4  ['대호', '시장', '안양', '안양시민', '시민', '신년', '신년편지',...   1  "
      ]
     },
     "execution_count": 6,
     "metadata": {},
     "output_type": "execute_result"
    }
   ],
   "source": [
    "article.head()"
   ]
  }
 ],
 "metadata": {
  "kernelspec": {
   "display_name": "Python 3",
   "language": "python",
   "name": "python3"
  },
  "language_info": {
   "codemirror_mode": {
    "name": "ipython",
    "version": 3
   },
   "file_extension": ".py",
   "mimetype": "text/x-python",
   "name": "python",
   "nbconvert_exporter": "python",
   "pygments_lexer": "ipython3",
   "version": "3.7.6"
  }
 },
 "nbformat": 4,
 "nbformat_minor": 4
}
