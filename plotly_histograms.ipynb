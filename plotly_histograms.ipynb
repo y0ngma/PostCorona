{
 "cells": [
  {
   "cell_type": "code",
   "execution_count": 23,
   "metadata": {},
   "outputs": [],
   "source": [
    "import os \n",
    "import glob\n",
    "import sys\n",
    "import warnings\n",
    "warnings.filterwarnings(\"ignore\")\n",
    "\n",
    "import pandas as pd\n",
    "import numpy as np\n",
    "import seaborn as sns\n",
    "import matplotlib.pyplot as plt\n",
    "\n",
    "import plotly.graph_objs as go\n",
    "import plotly.express as px\n",
    "import plotly.figure_factory as ff\n",
    "from plotly.subplots import make_subplots\n"
   ]
  },
  {
   "cell_type": "code",
   "execution_count": 3,
   "metadata": {},
   "outputs": [],
   "source": [
    "from matplotlib import font_manager,rc\n",
    "\n",
    "#폰트 경로\n",
    "font_path = \"C:/Windows/Fonts/gulim.ttc\"\n",
    " \n",
    "#폰트 이름 얻어오기\n",
    "font_name = font_manager.FontProperties(fname=font_path).get_name()\n",
    " \n",
    "#font 설정\n",
    "rc('font',family=font_name)"
   ]
  },
  {
   "cell_type": "markdown",
   "metadata": {},
   "source": [
    "# 데이터 로드"
   ]
  },
  {
   "cell_type": "code",
   "execution_count": 4,
   "metadata": {},
   "outputs": [],
   "source": [
    "BASE_DIR = os.path.dirname(os.path.abspath('.'))+\"\\\\data\\\\PostCorona\\\\\"\n",
    "card = pd.read_csv(BASE_DIR + \"card.csv\")"
   ]
  },
  {
   "cell_type": "code",
   "execution_count": 5,
   "metadata": {},
   "outputs": [
    {
     "name": "stdout",
     "output_type": "stream",
     "text": [
      "<class 'pandas.core.frame.DataFrame'>\n",
      "Int64Index: 37776 entries, 758849 to 3393440\n",
      "Data columns (total 7 columns):\n",
      " #   Column                Non-Null Count  Dtype \n",
      "---  ------                --------------  ----- \n",
      " 0   receipt_dttm          37776 non-null  int64 \n",
      " 1   adstrd_code           37776 non-null  int64 \n",
      " 2   adstrd_nm             37776 non-null  object\n",
      " 3   mrhst_induty_cl_code  37776 non-null  int64 \n",
      " 4   mrhst_induty_cl_nm    37776 non-null  object\n",
      " 5   selng_cascnt          37776 non-null  object\n",
      " 6   salamt                37776 non-null  object\n",
      "dtypes: int64(3), object(4)\n",
      "memory usage: 2.3+ MB\n"
     ]
    }
   ],
   "source": [
    "# 메모리 부족으로 인해 원본의 1% 샘플링 데이터로 선진행\n",
    "card = card.sample(int(card.shape[0]/100))\n",
    "card.info()"
   ]
  },
  {
   "cell_type": "markdown",
   "metadata": {},
   "source": [
    "# 전처리\n",
    "- 잘못된데이터 행 제거\n",
    "- 시간컬럼 변환"
   ]
  },
  {
   "cell_type": "code",
   "execution_count": 6,
   "metadata": {},
   "outputs": [
    {
     "name": "stdout",
     "output_type": "stream",
     "text": [
      "<class 'pandas.core.frame.DataFrame'>\n",
      "Int64Index: 37163 entries, 758849 to 3393440\n",
      "Data columns (total 7 columns):\n",
      " #   Column                Non-Null Count  Dtype         \n",
      "---  ------                --------------  -----         \n",
      " 0   receipt_dttm          37163 non-null  datetime64[ns]\n",
      " 1   adstrd_code           37163 non-null  int64         \n",
      " 2   adstrd_nm             37163 non-null  object        \n",
      " 3   mrhst_induty_cl_code  37163 non-null  object        \n",
      " 4   mrhst_induty_cl_nm    37163 non-null  object        \n",
      " 5   selng_cascnt          37163 non-null  int64         \n",
      " 6   salamt                37163 non-null  int64         \n",
      "dtypes: datetime64[ns](1), int64(3), object(3)\n",
      "memory usage: 2.3+ MB\n"
     ]
    }
   ],
   "source": [
    "# 잘못된 행 제거\n",
    "err_values = [\"석재\", \"커텐\", \"영상물\", \"복지매장\", \"축협직영매장\"]\n",
    "for err_value in err_values:\n",
    "    card = card.drop(   card[card[\"selng_cascnt\"] == err_value].index )\n",
    "\n",
    "# 순서 정리\n",
    "card = card[['receipt_dttm',  'adstrd_code', 'adstrd_nm', 'mrhst_induty_cl_code',\n",
    "       'mrhst_induty_cl_nm', 'selng_cascnt', 'salamt']]\n",
    "\n",
    "# 날짜컬럼 변환\n",
    "card['receipt_dttm'] = pd.to_datetime(card['receipt_dttm'], format='%Y%m%d')\n",
    "\n",
    "# 산업분류코드 컬럼 문자열로 바꿔서 앞두글자 조회가능케 하기\n",
    "card.mrhst_induty_cl_code = card.mrhst_induty_cl_code.astype('str')\n",
    "\n",
    "# 매출액, 매출건수 int형으로 변환\n",
    "card[\"selng_cascnt\"] = card[\"selng_cascnt\"].astype(\"int64\") \n",
    "card[\"salamt\"] = card[\"salamt\"].astype(\"int64\") \n",
    "\n",
    "card.info()"
   ]
  },
  {
   "cell_type": "code",
   "execution_count": 7,
   "metadata": {},
   "outputs": [],
   "source": [
    "# 결측치 확인\n",
    "# import seaborn as sns\n",
    "# sns.heatmap(card.isnull(), cbar=False )"
   ]
  },
  {
   "cell_type": "markdown",
   "metadata": {},
   "source": [
    "## 소분류 업소종명 모으기\n",
    "- 중분류 산업코드별 소분류 업소종명 모으기\n"
   ]
  },
  {
   "cell_type": "code",
   "execution_count": 8,
   "metadata": {},
   "outputs": [
    {
     "data": {
      "text/html": [
       "<div>\n",
       "<style scoped>\n",
       "    .dataframe tbody tr th:only-of-type {\n",
       "        vertical-align: middle;\n",
       "    }\n",
       "\n",
       "    .dataframe tbody tr th {\n",
       "        vertical-align: top;\n",
       "    }\n",
       "\n",
       "    .dataframe thead th {\n",
       "        text-align: right;\n",
       "    }\n",
       "</style>\n",
       "<table border=\"1\" class=\"dataframe\">\n",
       "  <thead>\n",
       "    <tr style=\"text-align: right;\">\n",
       "      <th></th>\n",
       "      <th>mrhst_induty_cl_code</th>\n",
       "      <th>mrhst_induty_cl_nm</th>\n",
       "      <th>adstrd_code</th>\n",
       "      <th>selng_cascnt</th>\n",
       "      <th>salamt</th>\n",
       "    </tr>\n",
       "  </thead>\n",
       "  <tbody>\n",
       "    <tr>\n",
       "      <th>44</th>\n",
       "      <td>3201</td>\n",
       "      <td>주방 용구</td>\n",
       "      <td>163200554900</td>\n",
       "      <td>1039</td>\n",
       "      <td>67669900</td>\n",
       "    </tr>\n",
       "    <tr>\n",
       "      <th>45</th>\n",
       "      <td>3202</td>\n",
       "      <td>주방용식기</td>\n",
       "      <td>87719191400</td>\n",
       "      <td>487</td>\n",
       "      <td>25737385</td>\n",
       "    </tr>\n",
       "    <tr>\n",
       "      <th>48</th>\n",
       "      <td>3301</td>\n",
       "      <td>주 유 소</td>\n",
       "      <td>437712612100</td>\n",
       "      <td>66803</td>\n",
       "      <td>3358310223</td>\n",
       "    </tr>\n",
       "    <tr>\n",
       "      <th>140</th>\n",
       "      <td>6140</td>\n",
       "      <td>주 차 장</td>\n",
       "      <td>444559973800</td>\n",
       "      <td>29308</td>\n",
       "      <td>234415907</td>\n",
       "    </tr>\n",
       "    <tr>\n",
       "      <th>178</th>\n",
       "      <td>8013</td>\n",
       "      <td>주점</td>\n",
       "      <td>726404761900</td>\n",
       "      <td>33385</td>\n",
       "      <td>1508088090</td>\n",
       "    </tr>\n",
       "    <tr>\n",
       "      <th>185</th>\n",
       "      <td>8303</td>\n",
       "      <td>주류판매점</td>\n",
       "      <td>82891402400</td>\n",
       "      <td>549</td>\n",
       "      <td>74920038</td>\n",
       "    </tr>\n",
       "  </tbody>\n",
       "</table>\n",
       "</div>"
      ],
      "text/plain": [
       "    mrhst_induty_cl_code mrhst_induty_cl_nm   adstrd_code  selng_cascnt  \\\n",
       "44                  3201              주방 용구  163200554900          1039   \n",
       "45                  3202              주방용식기   87719191400           487   \n",
       "48                  3301              주 유 소  437712612100         66803   \n",
       "140                 6140              주 차 장  444559973800         29308   \n",
       "178                 8013                 주점  726404761900         33385   \n",
       "185                 8303              주류판매점   82891402400           549   \n",
       "\n",
       "         salamt  \n",
       "44     67669900  \n",
       "45     25737385  \n",
       "48   3358310223  \n",
       "140   234415907  \n",
       "178  1508088090  \n",
       "185    74920038  "
      ]
     },
     "execution_count": 8,
     "metadata": {},
     "output_type": "execute_result"
    }
   ],
   "source": [
    "# 산업코드와 업종명으로 군집화\n",
    "agg = card.groupby([\"mrhst_induty_cl_code\", \"mrhst_induty_cl_nm\"]).sum().reset_index()\n",
    "\n",
    "# 술집 중분류 코드 획득\n",
    "# 일반음식점 또는 \"주\"자로 시작하는 주점 따위의 코드획득\n",
    "target_kind = \"주\"\n",
    "agg[agg.mrhst_induty_cl_nm.str.slice(stop=1)==target_kind]"
   ]
  },
  {
   "cell_type": "code",
   "execution_count": 9,
   "metadata": {},
   "outputs": [
    {
     "data": {
      "text/plain": [
       "array(['서양음식', '일반한식', '스넥', '주점', '중국음식', '일식회집', '위탁급식업', '칵테일바',\n",
       "       '갈비전문점', '한정식'], dtype=object)"
      ]
     },
     "execution_count": 9,
     "metadata": {},
     "output_type": "execute_result"
    }
   ],
   "source": [
    "card[(card.mrhst_induty_cl_code.str.slice(stop=2)==\"80\")].mrhst_induty_cl_nm.unique()"
   ]
  },
  {
   "cell_type": "code",
   "execution_count": 10,
   "metadata": {
    "scrolled": true
   },
   "outputs": [
    {
     "data": {
      "text/html": [
       "<div>\n",
       "<style scoped>\n",
       "    .dataframe tbody tr th:only-of-type {\n",
       "        vertical-align: middle;\n",
       "    }\n",
       "\n",
       "    .dataframe tbody tr th {\n",
       "        vertical-align: top;\n",
       "    }\n",
       "\n",
       "    .dataframe thead th {\n",
       "        text-align: right;\n",
       "    }\n",
       "</style>\n",
       "<table border=\"1\" class=\"dataframe\">\n",
       "  <thead>\n",
       "    <tr style=\"text-align: right;\">\n",
       "      <th></th>\n",
       "      <th>mrhst_induty_cl_code</th>\n",
       "      <th>mrhst_induty_cl_nm</th>\n",
       "      <th>adstrd_code</th>\n",
       "      <th>selng_cascnt</th>\n",
       "      <th>salamt</th>\n",
       "    </tr>\n",
       "  </thead>\n",
       "  <tbody>\n",
       "    <tr>\n",
       "      <th>177</th>\n",
       "      <td>8010</td>\n",
       "      <td>칵테일바</td>\n",
       "      <td>296964094300</td>\n",
       "      <td>2090</td>\n",
       "      <td>107338340</td>\n",
       "    </tr>\n",
       "    <tr>\n",
       "      <th>178</th>\n",
       "      <td>8013</td>\n",
       "      <td>주점</td>\n",
       "      <td>726404761900</td>\n",
       "      <td>33385</td>\n",
       "      <td>1508088090</td>\n",
       "    </tr>\n",
       "  </tbody>\n",
       "</table>\n",
       "</div>"
      ],
      "text/plain": [
       "    mrhst_induty_cl_code mrhst_induty_cl_nm   adstrd_code  selng_cascnt  \\\n",
       "177                 8010               칵테일바  296964094300          2090   \n",
       "178                 8013                 주점  726404761900         33385   \n",
       "\n",
       "         salamt  \n",
       "177   107338340  \n",
       "178  1508088090  "
      ]
     },
     "execution_count": 10,
     "metadata": {},
     "output_type": "execute_result"
    }
   ],
   "source": [
    "agg[(agg.mrhst_induty_cl_nm==\"칵테일바\")|\n",
    "    (agg.mrhst_induty_cl_nm==\"주점\")]"
   ]
  },
  {
   "cell_type": "markdown",
   "metadata": {},
   "source": [
    "## bin ( bucket ) 의 뜻\n",
    "### bin : 계급 = 변수의 구간 = 가로축 interval\n",
    "- divide the entire range of values into a series of intervals\n",
    "<br>\n",
    "\n",
    "- 히스토그램(histogram)은 표로 되어 있는 도수 분포를 정보 그림으로 나타낸 것이다. 더 간단하게 말하면, 도수분포표를 그래프로 나타낸 것이다. \n",
    "\n",
    "- 보통 히스토그램에서는 가로축이 계급, 세로축이 도수를 뜻하는데, 때때로 반대로 그리기도 한다. \n",
    "    - 계급은 보통 변수의 구간이고, 서로 겹치지 않는다. \n",
    "    - 그림에서 계급(막대기)끼리는 서로 붙어 있어야 한다. \n",
    "    - 히스토그램은 일반 막대그래프와는 다르다. \n",
    "    - 막대그래프는 계급 즉 가로를 생각하지 않고 세로의 높이로만 나타내지만 히스토그램은 가로와 세로를 함께 생각해야 한다.\n",
    "    \n",
    "### Choosing the number of bins\n",
    "- By default, the number of bins is chosen so that this number is comparable to the typical number of samples in a bin. \n",
    "- This number can be customized, as well as the range of values.\n"
   ]
  },
  {
   "cell_type": "markdown",
   "metadata": {},
   "source": [
    "## plotly express 기본 히스토그램"
   ]
  },
  {
   "cell_type": "code",
   "execution_count": 11,
   "metadata": {},
   "outputs": [],
   "source": [
    "data           = card\n",
    "target_kindcol = \"mrhst_induty_cl_nm\"\n",
    "target_kinds    = [\"칵테일바\", \"주점\"]\n",
    "target_kind = target_kinds[1]\n",
    "target_bincol  = \"salamt\"\n",
    "target_gbcol   = [\"receipt_dttm\",\"adstrd_nm\"]\n",
    "\n",
    "data = data[data[target_kindcol]==target_kind\n",
    "           ].groupby(target_gbcol).sum().reset_index()\n",
    "\n",
    "fig = px.histogram(data, \n",
    "                   x=target_bincol, nbins=20)\n",
    "fig.show()"
   ]
  },
  {
   "cell_type": "markdown",
   "metadata": {},
   "source": [
    "## go.Histogram 기본"
   ]
  },
  {
   "cell_type": "code",
   "execution_count": 13,
   "metadata": {},
   "outputs": [
    {
     "data": {
      "application/vnd.plotly.v1+json": {
       "config": {
        "plotlyServerURL": "https://plot.ly"
       },
       "data": [
        {
         "type": "histogram",
         "x": [
          2475150,
          3750000,
          1324100,
          390500,
          1357300,
          974100,
          1000600,
          2286400,
          1124000,
          1991300,
          516800,
          7531300,
          589700,
          497000,
          8141915,
          1304900,
          1229000,
          2224200,
          1309100,
          1699400,
          4830900,
          1104900,
          1596200,
          2893500,
          3996500,
          6237700,
          742000,
          1422400,
          510000,
          6412000,
          989500,
          2316400,
          2654100,
          714400,
          3401500,
          1901700,
          2201400,
          615200,
          727100,
          2297400,
          443000,
          2987000,
          1213400,
          2747500,
          1695700,
          1399900,
          663000,
          1613100,
          4439100,
          1604200,
          4889100,
          7503920,
          3590140,
          1334700,
          1243500,
          1264800,
          601200,
          735800,
          3935780,
          2682500,
          397000,
          1299000,
          5280200,
          400000,
          1768100,
          1437800,
          735900,
          1220000,
          4374083,
          994700,
          1961250,
          2147900,
          1600200,
          1107000,
          32900,
          1283000,
          1034200,
          2600100,
          309400,
          724400,
          1640000,
          32000,
          1111200,
          356600,
          509500,
          177000,
          1507200,
          1818800,
          3415100,
          248300,
          6160790,
          655500,
          1563600,
          3097300,
          745800,
          2901450,
          1934200,
          478000,
          434000,
          1744500,
          988000,
          2305500,
          826400,
          8245900,
          4808400,
          308600,
          5318400,
          24595310,
          3299300,
          33043018,
          416000,
          436000,
          7834625,
          1182900,
          3356000,
          2977050,
          365400,
          1447450,
          4250600,
          668500,
          9208820,
          904000,
          815600,
          5870000,
          434000,
          742500,
          1528910,
          1685900,
          2163200,
          775900,
          969500,
          94000,
          1262260,
          653000,
          366900,
          1214000,
          2767800,
          2393500,
          2231790,
          580900,
          1255000,
          875900,
          1223800,
          528000,
          263500,
          432000,
          1062000,
          8094890,
          1226000,
          1542300,
          440000,
          4786100,
          635000,
          447900,
          5002100,
          3836400,
          3787100,
          3779600,
          988300,
          2151300,
          22703900,
          1582800,
          2340300,
          1213000,
          2414150,
          1784500,
          2364720,
          823500,
          710500,
          30000,
          4376300,
          822500,
          231500,
          191100,
          702900,
          871500,
          123700,
          949000,
          519000,
          3222400,
          281900,
          59000,
          282500,
          265000,
          60000,
          2976900,
          584300,
          859600,
          832800,
          957200,
          969000,
          1092000,
          7678050,
          281500,
          638250,
          2379700,
          1301500,
          461400,
          479500,
          35926410,
          460000,
          280000,
          665100,
          1263400,
          368000,
          1712100,
          1312600,
          4517680,
          712000,
          213000,
          1017300,
          1845300,
          1107900,
          2171600,
          874600,
          2185400,
          971500,
          710100,
          55000,
          4857200,
          223400,
          589500,
          269000,
          1768400,
          999850,
          128000,
          3100310,
          2101800,
          1775200,
          6933020,
          2228300,
          756900,
          844200,
          1417170,
          1236100,
          1197700,
          863600,
          3331600,
          748500,
          422000,
          842400,
          752000,
          2287500,
          948420,
          18492600,
          1109200,
          1149200,
          3113500,
          52000,
          2628100,
          1682000,
          2208000,
          2410850,
          1641500,
          6053700,
          3848900,
          4670700,
          13720045,
          965000,
          1842000,
          1221200,
          1438700,
          1042440,
          11319525,
          1014000,
          30000,
          6066080,
          675000,
          1263400,
          304000,
          3264400,
          315000,
          11567600,
          612900,
          8108300,
          3689800,
          2161600,
          598600,
          2855800,
          5789940,
          368800,
          349200,
          5092150,
          422600,
          302300,
          1047400,
          2743790,
          406000,
          1465000,
          687000,
          2033190,
          8355500,
          319000,
          259400,
          1109600,
          1135040,
          7176600,
          762300,
          828500,
          18500,
          836000,
          2414600,
          6281700,
          578200,
          872100,
          862000,
          1103800,
          2916900,
          1780000,
          980700,
          16728250,
          1125400,
          3120000,
          7984827,
          2113500,
          3846000,
          885900,
          535000,
          828000,
          630200,
          953900,
          435000,
          1807500,
          1844000,
          291500,
          831000,
          435500,
          940100,
          1101000,
          2065200,
          14000,
          1562600,
          133000,
          586900,
          2139200,
          1100000,
          2576800,
          1251300,
          991000,
          520500,
          2181000,
          906000,
          1717300,
          306500,
          115000,
          2578300,
          770500,
          594800,
          3149500,
          5514950,
          1471825,
          12758450,
          2326300,
          2924160,
          560000,
          1271500,
          2525900,
          589000,
          424100,
          151000,
          485400,
          358400,
          246000,
          4074600,
          1959600,
          1239900,
          1308700,
          2739100,
          465500,
          666000,
          818000,
          30419600,
          446100,
          1909800,
          1199600,
          5495650,
          5591700,
          1801600,
          462500,
          16452600,
          1707800,
          4398000,
          656300,
          3770250,
          6233600,
          1540000,
          2495800,
          112000,
          11848500,
          1410200,
          6577000,
          171000,
          278000,
          1861700,
          52761800,
          1405100,
          88000,
          300700,
          191000,
          1164500,
          277000,
          1126500,
          361000,
          449000,
          1338000,
          1150000,
          1213136,
          1281200,
          303200,
          32000,
          2225600,
          1046800,
          1097800,
          447500,
          163500,
          1409100,
          163000,
          4832200,
          2946600,
          392500,
          1614000,
          11435425,
          753100,
          1237000,
          163000,
          3241800,
          4152550,
          1576200,
          1099350,
          4923800,
          1704600,
          6028350,
          384000,
          3016200,
          1698200,
          223500,
          3682500,
          2775500,
          887050,
          257400,
          818500,
          266800,
          2441400,
          443500,
          427000,
          565000,
          918800,
          6098100,
          187500,
          1486000,
          2428600,
          2103300,
          2577900,
          276800,
          27000,
          464800,
          2278400,
          1966500,
          1874700,
          602500,
          670000,
          590500,
          94800,
          3558600,
          1267600,
          210500,
          2521600,
          447800,
          1354900,
          5045400,
          738300,
          1656200,
          2809800,
          3427800,
          425500,
          1093200,
          779400,
          111000,
          4515825,
          819900,
          1121200,
          1931400,
          200500,
          1321300,
          68000,
          103000,
          365600,
          4751950,
          4229300,
          6124500,
          3205900,
          11077900,
          1956000,
          4639650,
          163000,
          165500,
          2342000,
          3622800,
          1735800,
          759000,
          1286420,
          255700,
          542500,
          905000,
          42000,
          420000,
          1913600,
          3222350,
          558000,
          232500,
          2513000,
          413000,
          637000,
          1745400,
          1219500,
          4293600,
          1072400,
          536500,
          39646600,
          2049300,
          370000,
          1353050,
          32096900,
          36000,
          380000,
          1262000,
          1877250,
          213500,
          2102400,
          2040925,
          497600,
          3816200,
          1474880,
          1314200,
          893100,
          2103800,
          3246200,
          5663700,
          1700900,
          359500,
          1904200,
          145500,
          1029500,
          459900,
          333000,
          188000,
          1011000,
          1206150,
          688000,
          520400,
          578500,
          512000,
          2003400,
          704300,
          8384020,
          302500,
          494500,
          941300,
          483600,
          3002450,
          715900,
          1254500,
          557100,
          299500,
          1378300,
          2579950,
          5120811,
          1018200,
          494000,
          11605800,
          414100,
          439600,
          4558600,
          1461100,
          2140050,
          1010200,
          629000,
          1930500,
          4119990,
          3592750,
          1890400,
          725500,
          1743300,
          1294000,
          2767600,
          255000,
          968800,
          748300,
          1447950,
          5816700,
          392800,
          64000,
          5686900,
          4496250,
          3816000,
          3159575,
          592100,
          18000,
          98000,
          4862900,
          383000,
          5755700,
          4520300,
          2626850,
          442900,
          1560600,
          1924800,
          920000,
          743000,
          1088600,
          164000,
          638000,
          654900,
          29500,
          4538240,
          3893500,
          1539000,
          5355900,
          439800,
          1136400,
          789000,
          4076850,
          1372900,
          182500,
          2753100,
          858500,
          1034700,
          1136500,
          572700,
          3903500,
          929500,
          13613700,
          2163400,
          418800,
          1213000
         ]
        }
       ],
       "layout": {
        "template": {
         "data": {
          "bar": [
           {
            "error_x": {
             "color": "#2a3f5f"
            },
            "error_y": {
             "color": "#2a3f5f"
            },
            "marker": {
             "line": {
              "color": "#E5ECF6",
              "width": 0.5
             }
            },
            "type": "bar"
           }
          ],
          "barpolar": [
           {
            "marker": {
             "line": {
              "color": "#E5ECF6",
              "width": 0.5
             }
            },
            "type": "barpolar"
           }
          ],
          "carpet": [
           {
            "aaxis": {
             "endlinecolor": "#2a3f5f",
             "gridcolor": "white",
             "linecolor": "white",
             "minorgridcolor": "white",
             "startlinecolor": "#2a3f5f"
            },
            "baxis": {
             "endlinecolor": "#2a3f5f",
             "gridcolor": "white",
             "linecolor": "white",
             "minorgridcolor": "white",
             "startlinecolor": "#2a3f5f"
            },
            "type": "carpet"
           }
          ],
          "choropleth": [
           {
            "colorbar": {
             "outlinewidth": 0,
             "ticks": ""
            },
            "type": "choropleth"
           }
          ],
          "contour": [
           {
            "colorbar": {
             "outlinewidth": 0,
             "ticks": ""
            },
            "colorscale": [
             [
              0,
              "#0d0887"
             ],
             [
              0.1111111111111111,
              "#46039f"
             ],
             [
              0.2222222222222222,
              "#7201a8"
             ],
             [
              0.3333333333333333,
              "#9c179e"
             ],
             [
              0.4444444444444444,
              "#bd3786"
             ],
             [
              0.5555555555555556,
              "#d8576b"
             ],
             [
              0.6666666666666666,
              "#ed7953"
             ],
             [
              0.7777777777777778,
              "#fb9f3a"
             ],
             [
              0.8888888888888888,
              "#fdca26"
             ],
             [
              1,
              "#f0f921"
             ]
            ],
            "type": "contour"
           }
          ],
          "contourcarpet": [
           {
            "colorbar": {
             "outlinewidth": 0,
             "ticks": ""
            },
            "type": "contourcarpet"
           }
          ],
          "heatmap": [
           {
            "colorbar": {
             "outlinewidth": 0,
             "ticks": ""
            },
            "colorscale": [
             [
              0,
              "#0d0887"
             ],
             [
              0.1111111111111111,
              "#46039f"
             ],
             [
              0.2222222222222222,
              "#7201a8"
             ],
             [
              0.3333333333333333,
              "#9c179e"
             ],
             [
              0.4444444444444444,
              "#bd3786"
             ],
             [
              0.5555555555555556,
              "#d8576b"
             ],
             [
              0.6666666666666666,
              "#ed7953"
             ],
             [
              0.7777777777777778,
              "#fb9f3a"
             ],
             [
              0.8888888888888888,
              "#fdca26"
             ],
             [
              1,
              "#f0f921"
             ]
            ],
            "type": "heatmap"
           }
          ],
          "heatmapgl": [
           {
            "colorbar": {
             "outlinewidth": 0,
             "ticks": ""
            },
            "colorscale": [
             [
              0,
              "#0d0887"
             ],
             [
              0.1111111111111111,
              "#46039f"
             ],
             [
              0.2222222222222222,
              "#7201a8"
             ],
             [
              0.3333333333333333,
              "#9c179e"
             ],
             [
              0.4444444444444444,
              "#bd3786"
             ],
             [
              0.5555555555555556,
              "#d8576b"
             ],
             [
              0.6666666666666666,
              "#ed7953"
             ],
             [
              0.7777777777777778,
              "#fb9f3a"
             ],
             [
              0.8888888888888888,
              "#fdca26"
             ],
             [
              1,
              "#f0f921"
             ]
            ],
            "type": "heatmapgl"
           }
          ],
          "histogram": [
           {
            "marker": {
             "colorbar": {
              "outlinewidth": 0,
              "ticks": ""
             }
            },
            "type": "histogram"
           }
          ],
          "histogram2d": [
           {
            "colorbar": {
             "outlinewidth": 0,
             "ticks": ""
            },
            "colorscale": [
             [
              0,
              "#0d0887"
             ],
             [
              0.1111111111111111,
              "#46039f"
             ],
             [
              0.2222222222222222,
              "#7201a8"
             ],
             [
              0.3333333333333333,
              "#9c179e"
             ],
             [
              0.4444444444444444,
              "#bd3786"
             ],
             [
              0.5555555555555556,
              "#d8576b"
             ],
             [
              0.6666666666666666,
              "#ed7953"
             ],
             [
              0.7777777777777778,
              "#fb9f3a"
             ],
             [
              0.8888888888888888,
              "#fdca26"
             ],
             [
              1,
              "#f0f921"
             ]
            ],
            "type": "histogram2d"
           }
          ],
          "histogram2dcontour": [
           {
            "colorbar": {
             "outlinewidth": 0,
             "ticks": ""
            },
            "colorscale": [
             [
              0,
              "#0d0887"
             ],
             [
              0.1111111111111111,
              "#46039f"
             ],
             [
              0.2222222222222222,
              "#7201a8"
             ],
             [
              0.3333333333333333,
              "#9c179e"
             ],
             [
              0.4444444444444444,
              "#bd3786"
             ],
             [
              0.5555555555555556,
              "#d8576b"
             ],
             [
              0.6666666666666666,
              "#ed7953"
             ],
             [
              0.7777777777777778,
              "#fb9f3a"
             ],
             [
              0.8888888888888888,
              "#fdca26"
             ],
             [
              1,
              "#f0f921"
             ]
            ],
            "type": "histogram2dcontour"
           }
          ],
          "mesh3d": [
           {
            "colorbar": {
             "outlinewidth": 0,
             "ticks": ""
            },
            "type": "mesh3d"
           }
          ],
          "parcoords": [
           {
            "line": {
             "colorbar": {
              "outlinewidth": 0,
              "ticks": ""
             }
            },
            "type": "parcoords"
           }
          ],
          "pie": [
           {
            "automargin": true,
            "type": "pie"
           }
          ],
          "scatter": [
           {
            "marker": {
             "colorbar": {
              "outlinewidth": 0,
              "ticks": ""
             }
            },
            "type": "scatter"
           }
          ],
          "scatter3d": [
           {
            "line": {
             "colorbar": {
              "outlinewidth": 0,
              "ticks": ""
             }
            },
            "marker": {
             "colorbar": {
              "outlinewidth": 0,
              "ticks": ""
             }
            },
            "type": "scatter3d"
           }
          ],
          "scattercarpet": [
           {
            "marker": {
             "colorbar": {
              "outlinewidth": 0,
              "ticks": ""
             }
            },
            "type": "scattercarpet"
           }
          ],
          "scattergeo": [
           {
            "marker": {
             "colorbar": {
              "outlinewidth": 0,
              "ticks": ""
             }
            },
            "type": "scattergeo"
           }
          ],
          "scattergl": [
           {
            "marker": {
             "colorbar": {
              "outlinewidth": 0,
              "ticks": ""
             }
            },
            "type": "scattergl"
           }
          ],
          "scattermapbox": [
           {
            "marker": {
             "colorbar": {
              "outlinewidth": 0,
              "ticks": ""
             }
            },
            "type": "scattermapbox"
           }
          ],
          "scatterpolar": [
           {
            "marker": {
             "colorbar": {
              "outlinewidth": 0,
              "ticks": ""
             }
            },
            "type": "scatterpolar"
           }
          ],
          "scatterpolargl": [
           {
            "marker": {
             "colorbar": {
              "outlinewidth": 0,
              "ticks": ""
             }
            },
            "type": "scatterpolargl"
           }
          ],
          "scatterternary": [
           {
            "marker": {
             "colorbar": {
              "outlinewidth": 0,
              "ticks": ""
             }
            },
            "type": "scatterternary"
           }
          ],
          "surface": [
           {
            "colorbar": {
             "outlinewidth": 0,
             "ticks": ""
            },
            "colorscale": [
             [
              0,
              "#0d0887"
             ],
             [
              0.1111111111111111,
              "#46039f"
             ],
             [
              0.2222222222222222,
              "#7201a8"
             ],
             [
              0.3333333333333333,
              "#9c179e"
             ],
             [
              0.4444444444444444,
              "#bd3786"
             ],
             [
              0.5555555555555556,
              "#d8576b"
             ],
             [
              0.6666666666666666,
              "#ed7953"
             ],
             [
              0.7777777777777778,
              "#fb9f3a"
             ],
             [
              0.8888888888888888,
              "#fdca26"
             ],
             [
              1,
              "#f0f921"
             ]
            ],
            "type": "surface"
           }
          ],
          "table": [
           {
            "cells": {
             "fill": {
              "color": "#EBF0F8"
             },
             "line": {
              "color": "white"
             }
            },
            "header": {
             "fill": {
              "color": "#C8D4E3"
             },
             "line": {
              "color": "white"
             }
            },
            "type": "table"
           }
          ]
         },
         "layout": {
          "annotationdefaults": {
           "arrowcolor": "#2a3f5f",
           "arrowhead": 0,
           "arrowwidth": 1
          },
          "coloraxis": {
           "colorbar": {
            "outlinewidth": 0,
            "ticks": ""
           }
          },
          "colorscale": {
           "diverging": [
            [
             0,
             "#8e0152"
            ],
            [
             0.1,
             "#c51b7d"
            ],
            [
             0.2,
             "#de77ae"
            ],
            [
             0.3,
             "#f1b6da"
            ],
            [
             0.4,
             "#fde0ef"
            ],
            [
             0.5,
             "#f7f7f7"
            ],
            [
             0.6,
             "#e6f5d0"
            ],
            [
             0.7,
             "#b8e186"
            ],
            [
             0.8,
             "#7fbc41"
            ],
            [
             0.9,
             "#4d9221"
            ],
            [
             1,
             "#276419"
            ]
           ],
           "sequential": [
            [
             0,
             "#0d0887"
            ],
            [
             0.1111111111111111,
             "#46039f"
            ],
            [
             0.2222222222222222,
             "#7201a8"
            ],
            [
             0.3333333333333333,
             "#9c179e"
            ],
            [
             0.4444444444444444,
             "#bd3786"
            ],
            [
             0.5555555555555556,
             "#d8576b"
            ],
            [
             0.6666666666666666,
             "#ed7953"
            ],
            [
             0.7777777777777778,
             "#fb9f3a"
            ],
            [
             0.8888888888888888,
             "#fdca26"
            ],
            [
             1,
             "#f0f921"
            ]
           ],
           "sequentialminus": [
            [
             0,
             "#0d0887"
            ],
            [
             0.1111111111111111,
             "#46039f"
            ],
            [
             0.2222222222222222,
             "#7201a8"
            ],
            [
             0.3333333333333333,
             "#9c179e"
            ],
            [
             0.4444444444444444,
             "#bd3786"
            ],
            [
             0.5555555555555556,
             "#d8576b"
            ],
            [
             0.6666666666666666,
             "#ed7953"
            ],
            [
             0.7777777777777778,
             "#fb9f3a"
            ],
            [
             0.8888888888888888,
             "#fdca26"
            ],
            [
             1,
             "#f0f921"
            ]
           ]
          },
          "colorway": [
           "#636efa",
           "#EF553B",
           "#00cc96",
           "#ab63fa",
           "#FFA15A",
           "#19d3f3",
           "#FF6692",
           "#B6E880",
           "#FF97FF",
           "#FECB52"
          ],
          "font": {
           "color": "#2a3f5f"
          },
          "geo": {
           "bgcolor": "white",
           "lakecolor": "white",
           "landcolor": "#E5ECF6",
           "showlakes": true,
           "showland": true,
           "subunitcolor": "white"
          },
          "hoverlabel": {
           "align": "left"
          },
          "hovermode": "closest",
          "mapbox": {
           "style": "light"
          },
          "paper_bgcolor": "white",
          "plot_bgcolor": "#E5ECF6",
          "polar": {
           "angularaxis": {
            "gridcolor": "white",
            "linecolor": "white",
            "ticks": ""
           },
           "bgcolor": "#E5ECF6",
           "radialaxis": {
            "gridcolor": "white",
            "linecolor": "white",
            "ticks": ""
           }
          },
          "scene": {
           "xaxis": {
            "backgroundcolor": "#E5ECF6",
            "gridcolor": "white",
            "gridwidth": 2,
            "linecolor": "white",
            "showbackground": true,
            "ticks": "",
            "zerolinecolor": "white"
           },
           "yaxis": {
            "backgroundcolor": "#E5ECF6",
            "gridcolor": "white",
            "gridwidth": 2,
            "linecolor": "white",
            "showbackground": true,
            "ticks": "",
            "zerolinecolor": "white"
           },
           "zaxis": {
            "backgroundcolor": "#E5ECF6",
            "gridcolor": "white",
            "gridwidth": 2,
            "linecolor": "white",
            "showbackground": true,
            "ticks": "",
            "zerolinecolor": "white"
           }
          },
          "shapedefaults": {
           "line": {
            "color": "#2a3f5f"
           }
          },
          "ternary": {
           "aaxis": {
            "gridcolor": "white",
            "linecolor": "white",
            "ticks": ""
           },
           "baxis": {
            "gridcolor": "white",
            "linecolor": "white",
            "ticks": ""
           },
           "bgcolor": "#E5ECF6",
           "caxis": {
            "gridcolor": "white",
            "linecolor": "white",
            "ticks": ""
           }
          },
          "title": {
           "x": 0.05
          },
          "xaxis": {
           "automargin": true,
           "gridcolor": "white",
           "linecolor": "white",
           "ticks": "",
           "title": {
            "standoff": 15
           },
           "zerolinecolor": "white",
           "zerolinewidth": 2
          },
          "yaxis": {
           "automargin": true,
           "gridcolor": "white",
           "linecolor": "white",
           "ticks": "",
           "title": {
            "standoff": 15
           },
           "zerolinecolor": "white",
           "zerolinewidth": 2
          }
         }
        }
       }
      },
      "text/html": [
       "<div>\n",
       "        \n",
       "        \n",
       "            <div id=\"77e32b99-0479-4c11-950c-401371878381\" class=\"plotly-graph-div\" style=\"height:525px; width:100%;\"></div>\n",
       "            <script type=\"text/javascript\">\n",
       "                require([\"plotly\"], function(Plotly) {\n",
       "                    window.PLOTLYENV=window.PLOTLYENV || {};\n",
       "                    \n",
       "                if (document.getElementById(\"77e32b99-0479-4c11-950c-401371878381\")) {\n",
       "                    Plotly.newPlot(\n",
       "                        '77e32b99-0479-4c11-950c-401371878381',\n",
       "                        [{\"type\": \"histogram\", \"x\": [2475150, 3750000, 1324100, 390500, 1357300, 974100, 1000600, 2286400, 1124000, 1991300, 516800, 7531300, 589700, 497000, 8141915, 1304900, 1229000, 2224200, 1309100, 1699400, 4830900, 1104900, 1596200, 2893500, 3996500, 6237700, 742000, 1422400, 510000, 6412000, 989500, 2316400, 2654100, 714400, 3401500, 1901700, 2201400, 615200, 727100, 2297400, 443000, 2987000, 1213400, 2747500, 1695700, 1399900, 663000, 1613100, 4439100, 1604200, 4889100, 7503920, 3590140, 1334700, 1243500, 1264800, 601200, 735800, 3935780, 2682500, 397000, 1299000, 5280200, 400000, 1768100, 1437800, 735900, 1220000, 4374083, 994700, 1961250, 2147900, 1600200, 1107000, 32900, 1283000, 1034200, 2600100, 309400, 724400, 1640000, 32000, 1111200, 356600, 509500, 177000, 1507200, 1818800, 3415100, 248300, 6160790, 655500, 1563600, 3097300, 745800, 2901450, 1934200, 478000, 434000, 1744500, 988000, 2305500, 826400, 8245900, 4808400, 308600, 5318400, 24595310, 3299300, 33043018, 416000, 436000, 7834625, 1182900, 3356000, 2977050, 365400, 1447450, 4250600, 668500, 9208820, 904000, 815600, 5870000, 434000, 742500, 1528910, 1685900, 2163200, 775900, 969500, 94000, 1262260, 653000, 366900, 1214000, 2767800, 2393500, 2231790, 580900, 1255000, 875900, 1223800, 528000, 263500, 432000, 1062000, 8094890, 1226000, 1542300, 440000, 4786100, 635000, 447900, 5002100, 3836400, 3787100, 3779600, 988300, 2151300, 22703900, 1582800, 2340300, 1213000, 2414150, 1784500, 2364720, 823500, 710500, 30000, 4376300, 822500, 231500, 191100, 702900, 871500, 123700, 949000, 519000, 3222400, 281900, 59000, 282500, 265000, 60000, 2976900, 584300, 859600, 832800, 957200, 969000, 1092000, 7678050, 281500, 638250, 2379700, 1301500, 461400, 479500, 35926410, 460000, 280000, 665100, 1263400, 368000, 1712100, 1312600, 4517680, 712000, 213000, 1017300, 1845300, 1107900, 2171600, 874600, 2185400, 971500, 710100, 55000, 4857200, 223400, 589500, 269000, 1768400, 999850, 128000, 3100310, 2101800, 1775200, 6933020, 2228300, 756900, 844200, 1417170, 1236100, 1197700, 863600, 3331600, 748500, 422000, 842400, 752000, 2287500, 948420, 18492600, 1109200, 1149200, 3113500, 52000, 2628100, 1682000, 2208000, 2410850, 1641500, 6053700, 3848900, 4670700, 13720045, 965000, 1842000, 1221200, 1438700, 1042440, 11319525, 1014000, 30000, 6066080, 675000, 1263400, 304000, 3264400, 315000, 11567600, 612900, 8108300, 3689800, 2161600, 598600, 2855800, 5789940, 368800, 349200, 5092150, 422600, 302300, 1047400, 2743790, 406000, 1465000, 687000, 2033190, 8355500, 319000, 259400, 1109600, 1135040, 7176600, 762300, 828500, 18500, 836000, 2414600, 6281700, 578200, 872100, 862000, 1103800, 2916900, 1780000, 980700, 16728250, 1125400, 3120000, 7984827, 2113500, 3846000, 885900, 535000, 828000, 630200, 953900, 435000, 1807500, 1844000, 291500, 831000, 435500, 940100, 1101000, 2065200, 14000, 1562600, 133000, 586900, 2139200, 1100000, 2576800, 1251300, 991000, 520500, 2181000, 906000, 1717300, 306500, 115000, 2578300, 770500, 594800, 3149500, 5514950, 1471825, 12758450, 2326300, 2924160, 560000, 1271500, 2525900, 589000, 424100, 151000, 485400, 358400, 246000, 4074600, 1959600, 1239900, 1308700, 2739100, 465500, 666000, 818000, 30419600, 446100, 1909800, 1199600, 5495650, 5591700, 1801600, 462500, 16452600, 1707800, 4398000, 656300, 3770250, 6233600, 1540000, 2495800, 112000, 11848500, 1410200, 6577000, 171000, 278000, 1861700, 52761800, 1405100, 88000, 300700, 191000, 1164500, 277000, 1126500, 361000, 449000, 1338000, 1150000, 1213136, 1281200, 303200, 32000, 2225600, 1046800, 1097800, 447500, 163500, 1409100, 163000, 4832200, 2946600, 392500, 1614000, 11435425, 753100, 1237000, 163000, 3241800, 4152550, 1576200, 1099350, 4923800, 1704600, 6028350, 384000, 3016200, 1698200, 223500, 3682500, 2775500, 887050, 257400, 818500, 266800, 2441400, 443500, 427000, 565000, 918800, 6098100, 187500, 1486000, 2428600, 2103300, 2577900, 276800, 27000, 464800, 2278400, 1966500, 1874700, 602500, 670000, 590500, 94800, 3558600, 1267600, 210500, 2521600, 447800, 1354900, 5045400, 738300, 1656200, 2809800, 3427800, 425500, 1093200, 779400, 111000, 4515825, 819900, 1121200, 1931400, 200500, 1321300, 68000, 103000, 365600, 4751950, 4229300, 6124500, 3205900, 11077900, 1956000, 4639650, 163000, 165500, 2342000, 3622800, 1735800, 759000, 1286420, 255700, 542500, 905000, 42000, 420000, 1913600, 3222350, 558000, 232500, 2513000, 413000, 637000, 1745400, 1219500, 4293600, 1072400, 536500, 39646600, 2049300, 370000, 1353050, 32096900, 36000, 380000, 1262000, 1877250, 213500, 2102400, 2040925, 497600, 3816200, 1474880, 1314200, 893100, 2103800, 3246200, 5663700, 1700900, 359500, 1904200, 145500, 1029500, 459900, 333000, 188000, 1011000, 1206150, 688000, 520400, 578500, 512000, 2003400, 704300, 8384020, 302500, 494500, 941300, 483600, 3002450, 715900, 1254500, 557100, 299500, 1378300, 2579950, 5120811, 1018200, 494000, 11605800, 414100, 439600, 4558600, 1461100, 2140050, 1010200, 629000, 1930500, 4119990, 3592750, 1890400, 725500, 1743300, 1294000, 2767600, 255000, 968800, 748300, 1447950, 5816700, 392800, 64000, 5686900, 4496250, 3816000, 3159575, 592100, 18000, 98000, 4862900, 383000, 5755700, 4520300, 2626850, 442900, 1560600, 1924800, 920000, 743000, 1088600, 164000, 638000, 654900, 29500, 4538240, 3893500, 1539000, 5355900, 439800, 1136400, 789000, 4076850, 1372900, 182500, 2753100, 858500, 1034700, 1136500, 572700, 3903500, 929500, 13613700, 2163400, 418800, 1213000]}],\n",
       "                        {\"template\": {\"data\": {\"bar\": [{\"error_x\": {\"color\": \"#2a3f5f\"}, \"error_y\": {\"color\": \"#2a3f5f\"}, \"marker\": {\"line\": {\"color\": \"#E5ECF6\", \"width\": 0.5}}, \"type\": \"bar\"}], \"barpolar\": [{\"marker\": {\"line\": {\"color\": \"#E5ECF6\", \"width\": 0.5}}, \"type\": \"barpolar\"}], \"carpet\": [{\"aaxis\": {\"endlinecolor\": \"#2a3f5f\", \"gridcolor\": \"white\", \"linecolor\": \"white\", \"minorgridcolor\": \"white\", \"startlinecolor\": \"#2a3f5f\"}, \"baxis\": {\"endlinecolor\": \"#2a3f5f\", \"gridcolor\": \"white\", \"linecolor\": \"white\", \"minorgridcolor\": \"white\", \"startlinecolor\": \"#2a3f5f\"}, \"type\": \"carpet\"}], \"choropleth\": [{\"colorbar\": {\"outlinewidth\": 0, \"ticks\": \"\"}, \"type\": \"choropleth\"}], \"contour\": [{\"colorbar\": {\"outlinewidth\": 0, \"ticks\": \"\"}, \"colorscale\": [[0.0, \"#0d0887\"], [0.1111111111111111, \"#46039f\"], [0.2222222222222222, \"#7201a8\"], [0.3333333333333333, \"#9c179e\"], [0.4444444444444444, \"#bd3786\"], [0.5555555555555556, \"#d8576b\"], [0.6666666666666666, \"#ed7953\"], [0.7777777777777778, \"#fb9f3a\"], [0.8888888888888888, \"#fdca26\"], [1.0, \"#f0f921\"]], \"type\": \"contour\"}], \"contourcarpet\": [{\"colorbar\": {\"outlinewidth\": 0, \"ticks\": \"\"}, \"type\": \"contourcarpet\"}], \"heatmap\": [{\"colorbar\": {\"outlinewidth\": 0, \"ticks\": \"\"}, \"colorscale\": [[0.0, \"#0d0887\"], [0.1111111111111111, \"#46039f\"], [0.2222222222222222, \"#7201a8\"], [0.3333333333333333, \"#9c179e\"], [0.4444444444444444, \"#bd3786\"], [0.5555555555555556, \"#d8576b\"], [0.6666666666666666, \"#ed7953\"], [0.7777777777777778, \"#fb9f3a\"], [0.8888888888888888, \"#fdca26\"], [1.0, \"#f0f921\"]], \"type\": \"heatmap\"}], \"heatmapgl\": [{\"colorbar\": {\"outlinewidth\": 0, \"ticks\": \"\"}, \"colorscale\": [[0.0, \"#0d0887\"], [0.1111111111111111, \"#46039f\"], [0.2222222222222222, \"#7201a8\"], [0.3333333333333333, \"#9c179e\"], [0.4444444444444444, \"#bd3786\"], [0.5555555555555556, \"#d8576b\"], [0.6666666666666666, \"#ed7953\"], [0.7777777777777778, \"#fb9f3a\"], [0.8888888888888888, \"#fdca26\"], [1.0, \"#f0f921\"]], \"type\": \"heatmapgl\"}], \"histogram\": [{\"marker\": {\"colorbar\": {\"outlinewidth\": 0, \"ticks\": \"\"}}, \"type\": \"histogram\"}], \"histogram2d\": [{\"colorbar\": {\"outlinewidth\": 0, \"ticks\": \"\"}, \"colorscale\": [[0.0, \"#0d0887\"], [0.1111111111111111, \"#46039f\"], [0.2222222222222222, \"#7201a8\"], [0.3333333333333333, \"#9c179e\"], [0.4444444444444444, \"#bd3786\"], [0.5555555555555556, \"#d8576b\"], [0.6666666666666666, \"#ed7953\"], [0.7777777777777778, \"#fb9f3a\"], [0.8888888888888888, \"#fdca26\"], [1.0, \"#f0f921\"]], \"type\": \"histogram2d\"}], \"histogram2dcontour\": [{\"colorbar\": {\"outlinewidth\": 0, \"ticks\": \"\"}, \"colorscale\": [[0.0, \"#0d0887\"], [0.1111111111111111, \"#46039f\"], [0.2222222222222222, \"#7201a8\"], [0.3333333333333333, \"#9c179e\"], [0.4444444444444444, \"#bd3786\"], [0.5555555555555556, \"#d8576b\"], [0.6666666666666666, \"#ed7953\"], [0.7777777777777778, \"#fb9f3a\"], [0.8888888888888888, \"#fdca26\"], [1.0, \"#f0f921\"]], \"type\": \"histogram2dcontour\"}], \"mesh3d\": [{\"colorbar\": {\"outlinewidth\": 0, \"ticks\": \"\"}, \"type\": \"mesh3d\"}], \"parcoords\": [{\"line\": {\"colorbar\": {\"outlinewidth\": 0, \"ticks\": \"\"}}, \"type\": \"parcoords\"}], \"pie\": [{\"automargin\": true, \"type\": \"pie\"}], \"scatter\": [{\"marker\": {\"colorbar\": {\"outlinewidth\": 0, \"ticks\": \"\"}}, \"type\": \"scatter\"}], \"scatter3d\": [{\"line\": {\"colorbar\": {\"outlinewidth\": 0, \"ticks\": \"\"}}, \"marker\": {\"colorbar\": {\"outlinewidth\": 0, \"ticks\": \"\"}}, \"type\": \"scatter3d\"}], \"scattercarpet\": [{\"marker\": {\"colorbar\": {\"outlinewidth\": 0, \"ticks\": \"\"}}, \"type\": \"scattercarpet\"}], \"scattergeo\": [{\"marker\": {\"colorbar\": {\"outlinewidth\": 0, \"ticks\": \"\"}}, \"type\": \"scattergeo\"}], \"scattergl\": [{\"marker\": {\"colorbar\": {\"outlinewidth\": 0, \"ticks\": \"\"}}, \"type\": \"scattergl\"}], \"scattermapbox\": [{\"marker\": {\"colorbar\": {\"outlinewidth\": 0, \"ticks\": \"\"}}, \"type\": \"scattermapbox\"}], \"scatterpolar\": [{\"marker\": {\"colorbar\": {\"outlinewidth\": 0, \"ticks\": \"\"}}, \"type\": \"scatterpolar\"}], \"scatterpolargl\": [{\"marker\": {\"colorbar\": {\"outlinewidth\": 0, \"ticks\": \"\"}}, \"type\": \"scatterpolargl\"}], \"scatterternary\": [{\"marker\": {\"colorbar\": {\"outlinewidth\": 0, \"ticks\": \"\"}}, \"type\": \"scatterternary\"}], \"surface\": [{\"colorbar\": {\"outlinewidth\": 0, \"ticks\": \"\"}, \"colorscale\": [[0.0, \"#0d0887\"], [0.1111111111111111, \"#46039f\"], [0.2222222222222222, \"#7201a8\"], [0.3333333333333333, \"#9c179e\"], [0.4444444444444444, \"#bd3786\"], [0.5555555555555556, \"#d8576b\"], [0.6666666666666666, \"#ed7953\"], [0.7777777777777778, \"#fb9f3a\"], [0.8888888888888888, \"#fdca26\"], [1.0, \"#f0f921\"]], \"type\": \"surface\"}], \"table\": [{\"cells\": {\"fill\": {\"color\": \"#EBF0F8\"}, \"line\": {\"color\": \"white\"}}, \"header\": {\"fill\": {\"color\": \"#C8D4E3\"}, \"line\": {\"color\": \"white\"}}, \"type\": \"table\"}]}, \"layout\": {\"annotationdefaults\": {\"arrowcolor\": \"#2a3f5f\", \"arrowhead\": 0, \"arrowwidth\": 1}, \"coloraxis\": {\"colorbar\": {\"outlinewidth\": 0, \"ticks\": \"\"}}, \"colorscale\": {\"diverging\": [[0, \"#8e0152\"], [0.1, \"#c51b7d\"], [0.2, \"#de77ae\"], [0.3, \"#f1b6da\"], [0.4, \"#fde0ef\"], [0.5, \"#f7f7f7\"], [0.6, \"#e6f5d0\"], [0.7, \"#b8e186\"], [0.8, \"#7fbc41\"], [0.9, \"#4d9221\"], [1, \"#276419\"]], \"sequential\": [[0.0, \"#0d0887\"], [0.1111111111111111, \"#46039f\"], [0.2222222222222222, \"#7201a8\"], [0.3333333333333333, \"#9c179e\"], [0.4444444444444444, \"#bd3786\"], [0.5555555555555556, \"#d8576b\"], [0.6666666666666666, \"#ed7953\"], [0.7777777777777778, \"#fb9f3a\"], [0.8888888888888888, \"#fdca26\"], [1.0, \"#f0f921\"]], \"sequentialminus\": [[0.0, \"#0d0887\"], [0.1111111111111111, \"#46039f\"], [0.2222222222222222, \"#7201a8\"], [0.3333333333333333, \"#9c179e\"], [0.4444444444444444, \"#bd3786\"], [0.5555555555555556, \"#d8576b\"], [0.6666666666666666, \"#ed7953\"], [0.7777777777777778, \"#fb9f3a\"], [0.8888888888888888, \"#fdca26\"], [1.0, \"#f0f921\"]]}, \"colorway\": [\"#636efa\", \"#EF553B\", \"#00cc96\", \"#ab63fa\", \"#FFA15A\", \"#19d3f3\", \"#FF6692\", \"#B6E880\", \"#FF97FF\", \"#FECB52\"], \"font\": {\"color\": \"#2a3f5f\"}, \"geo\": {\"bgcolor\": \"white\", \"lakecolor\": \"white\", \"landcolor\": \"#E5ECF6\", \"showlakes\": true, \"showland\": true, \"subunitcolor\": \"white\"}, \"hoverlabel\": {\"align\": \"left\"}, \"hovermode\": \"closest\", \"mapbox\": {\"style\": \"light\"}, \"paper_bgcolor\": \"white\", \"plot_bgcolor\": \"#E5ECF6\", \"polar\": {\"angularaxis\": {\"gridcolor\": \"white\", \"linecolor\": \"white\", \"ticks\": \"\"}, \"bgcolor\": \"#E5ECF6\", \"radialaxis\": {\"gridcolor\": \"white\", \"linecolor\": \"white\", \"ticks\": \"\"}}, \"scene\": {\"xaxis\": {\"backgroundcolor\": \"#E5ECF6\", \"gridcolor\": \"white\", \"gridwidth\": 2, \"linecolor\": \"white\", \"showbackground\": true, \"ticks\": \"\", \"zerolinecolor\": \"white\"}, \"yaxis\": {\"backgroundcolor\": \"#E5ECF6\", \"gridcolor\": \"white\", \"gridwidth\": 2, \"linecolor\": \"white\", \"showbackground\": true, \"ticks\": \"\", \"zerolinecolor\": \"white\"}, \"zaxis\": {\"backgroundcolor\": \"#E5ECF6\", \"gridcolor\": \"white\", \"gridwidth\": 2, \"linecolor\": \"white\", \"showbackground\": true, \"ticks\": \"\", \"zerolinecolor\": \"white\"}}, \"shapedefaults\": {\"line\": {\"color\": \"#2a3f5f\"}}, \"ternary\": {\"aaxis\": {\"gridcolor\": \"white\", \"linecolor\": \"white\", \"ticks\": \"\"}, \"baxis\": {\"gridcolor\": \"white\", \"linecolor\": \"white\", \"ticks\": \"\"}, \"bgcolor\": \"#E5ECF6\", \"caxis\": {\"gridcolor\": \"white\", \"linecolor\": \"white\", \"ticks\": \"\"}}, \"title\": {\"x\": 0.05}, \"xaxis\": {\"automargin\": true, \"gridcolor\": \"white\", \"linecolor\": \"white\", \"ticks\": \"\", \"title\": {\"standoff\": 15}, \"zerolinecolor\": \"white\", \"zerolinewidth\": 2}, \"yaxis\": {\"automargin\": true, \"gridcolor\": \"white\", \"linecolor\": \"white\", \"ticks\": \"\", \"title\": {\"standoff\": 15}, \"zerolinecolor\": \"white\", \"zerolinewidth\": 2}}}},\n",
       "                        {\"responsive\": true}\n",
       "                    ).then(function(){\n",
       "                            \n",
       "var gd = document.getElementById('77e32b99-0479-4c11-950c-401371878381');\n",
       "var x = new MutationObserver(function (mutations, observer) {{\n",
       "        var display = window.getComputedStyle(gd).display;\n",
       "        if (!display || display === 'none') {{\n",
       "            console.log([gd, 'removed!']);\n",
       "            Plotly.purge(gd);\n",
       "            observer.disconnect();\n",
       "        }}\n",
       "}});\n",
       "\n",
       "// Listen for the removal of the full notebook cells\n",
       "var notebookContainer = gd.closest('#notebook-container');\n",
       "if (notebookContainer) {{\n",
       "    x.observe(notebookContainer, {childList: true});\n",
       "}}\n",
       "\n",
       "// Listen for the clearing of the current output cell\n",
       "var outputEl = gd.closest('.output');\n",
       "if (outputEl) {{\n",
       "    x.observe(outputEl, {childList: true});\n",
       "}}\n",
       "\n",
       "                        })\n",
       "                };\n",
       "                });\n",
       "            </script>\n",
       "        </div>"
      ]
     },
     "metadata": {},
     "output_type": "display_data"
    }
   ],
   "source": [
    "fig = go.Figure(data=[go.Histogram(\n",
    "    x=data[target_bincol]\n",
    "    \n",
    ")])\n",
    "fig.show()"
   ]
  },
  {
   "cell_type": "markdown",
   "metadata": {},
   "source": [
    "## subplot위한 변수명생성\n",
    "- 하나의 업종별을 연습해본 결과, 더 많은 업종을 확인하고 싶어 졌다\n",
    "    1. 여러 업종을 target_kinds 라는 리스트에 담아서 \n",
    "    1. 반복문으로 trace0 ~ trace2 등에 담은 후\n",
    "    1. 그래프에 그려보자"
   ]
  },
  {
   "cell_type": "code",
   "execution_count": 14,
   "metadata": {},
   "outputs": [
    {
     "data": {
      "text/html": [
       "<div>\n",
       "<style scoped>\n",
       "    .dataframe tbody tr th:only-of-type {\n",
       "        vertical-align: middle;\n",
       "    }\n",
       "\n",
       "    .dataframe tbody tr th {\n",
       "        vertical-align: top;\n",
       "    }\n",
       "\n",
       "    .dataframe thead th {\n",
       "        text-align: right;\n",
       "    }\n",
       "</style>\n",
       "<table border=\"1\" class=\"dataframe\">\n",
       "  <thead>\n",
       "    <tr style=\"text-align: right;\">\n",
       "      <th></th>\n",
       "      <th>receipt_dttm</th>\n",
       "      <th>adstrd_nm</th>\n",
       "      <th>adstrd_code</th>\n",
       "      <th>selng_cascnt</th>\n",
       "      <th>salamt</th>\n",
       "    </tr>\n",
       "  </thead>\n",
       "  <tbody>\n",
       "    <tr>\n",
       "      <th>0</th>\n",
       "      <td>2020-01-04</td>\n",
       "      <td>원효로1동</td>\n",
       "      <td>1117056000</td>\n",
       "      <td>67</td>\n",
       "      <td>2475150</td>\n",
       "    </tr>\n",
       "    <tr>\n",
       "      <th>1</th>\n",
       "      <td>2020-01-05</td>\n",
       "      <td>구의1동</td>\n",
       "      <td>1121585000</td>\n",
       "      <td>99</td>\n",
       "      <td>3750000</td>\n",
       "    </tr>\n",
       "  </tbody>\n",
       "</table>\n",
       "</div>"
      ],
      "text/plain": [
       "  receipt_dttm adstrd_nm  adstrd_code  selng_cascnt   salamt\n",
       "0   2020-01-04     원효로1동   1117056000            67  2475150\n",
       "1   2020-01-05      구의1동   1121585000            99  3750000"
      ]
     },
     "execution_count": 14,
     "metadata": {},
     "output_type": "execute_result"
    }
   ],
   "source": [
    "data           = card\n",
    "target_kindcol = \"mrhst_induty_cl_nm\"\n",
    "target_kinds   = [\"칵테일바\", \"주점\"]\n",
    "target_kind    = target_kinds[0]\n",
    "target_bincol  = \"salamt\"\n",
    "target_gbcol   = [\"receipt_dttm\",\"adstrd_nm\"]\n",
    "traces = []\n",
    "for i in range(len(target_kinds)):\n",
    "    trace = \"trace0\"\n",
    "    trace = trace + str(i)\n",
    "    traces.append(trace)\n",
    "    traces[i] = data[data[target_kindcol]==target_kinds[i]\n",
    "           ].groupby(target_gbcol).sum().reset_index()\n",
    "traces[1].head(2)"
   ]
  },
  {
   "cell_type": "code",
   "execution_count": 15,
   "metadata": {},
   "outputs": [
    {
     "data": {
      "application/vnd.plotly.v1+json": {
       "config": {
        "plotlyServerURL": "https://plot.ly"
       },
       "data": [
        {
         "type": "histogram",
         "x": [
          988300,
          2679600,
          866500,
          235200,
          30000,
          99000,
          130700,
          17000,
          35000,
          48000,
          149500,
          57500,
          28000,
          328600,
          1811700,
          225000,
          246000,
          170000,
          162000,
          285245,
          129000,
          255900,
          32000,
          620000,
          90000,
          40000,
          265000,
          35900,
          56000,
          34000,
          2468000,
          63000,
          102500,
          120000,
          540000,
          738000,
          142000,
          10000,
          660600,
          25000,
          1287900,
          2939800,
          634500,
          197500,
          113500,
          1651700,
          424000,
          42500,
          660000,
          3039100,
          20000,
          268900,
          184000,
          167000,
          632200,
          131000,
          61500,
          567800,
          48000,
          287000,
          153800,
          128000,
          896000,
          28000,
          31000,
          4000,
          1215000,
          916000,
          220000,
          58000,
          865500,
          31000,
          74000,
          60500,
          124000,
          1268800,
          131000,
          409000,
          1200000,
          1435000,
          148500,
          343000,
          259000,
          45000,
          558500,
          63000,
          107000,
          25000,
          6000,
          33000,
          400000,
          150000,
          294000,
          187000,
          380000,
          208000,
          386200,
          116500,
          247000,
          1461000,
          13000,
          119000,
          81000,
          76000,
          68000,
          4673500,
          168400,
          20000,
          990000,
          92000,
          337000,
          769500,
          480900,
          306500,
          242500,
          356000,
          75000,
          231079,
          138500,
          25000,
          579000,
          51000,
          50000,
          1436800,
          421000,
          84500,
          108000,
          612100,
          67000,
          110000,
          93000,
          1760600,
          127500,
          35000,
          176000,
          180000,
          92000,
          95600,
          326000,
          1431500,
          148000,
          95000,
          104000,
          50000,
          570000,
          513000,
          115000,
          50000,
          150000,
          142000,
          1906500,
          241000,
          153000,
          312500,
          128000,
          797000,
          329000,
          122000,
          1324200,
          2293066,
          43000,
          194500,
          739000,
          18000,
          644000,
          47000,
          221600,
          193900,
          223000,
          100000,
          57200,
          95000,
          229000,
          391000,
          9500,
          60000,
          420000,
          60000,
          586200,
          108500,
          1427400,
          2016000,
          17000,
          69000,
          58000,
          62000,
          142000,
          48000,
          383000,
          779900,
          14000,
          210000,
          24500,
          70000,
          150000,
          180000,
          253000,
          318600,
          353800,
          633700,
          1124450,
          197000,
          18000,
          158000,
          553000,
          685850,
          218000,
          129000,
          122000,
          103000,
          53000,
          880000,
          65000,
          50000,
          443000,
          369000,
          551000,
          5445950,
          110000,
          47800,
          68000,
          83000,
          100000,
          174000,
          17000,
          165500,
          84000,
          23000,
          31000,
          242000,
          1080000,
          117000,
          175000,
          58000,
          95400,
          714600,
          578300,
          6266200,
          60000,
          705000,
          50000,
          265000,
          16000,
          300000,
          365000,
          17000,
          403000,
          725800,
          84000,
          199000,
          51000,
          200000,
          262000,
          40000,
          311500,
          40000,
          112000,
          278000,
          22000,
          100000
         ],
         "xaxis": "x",
         "yaxis": "y"
        },
        {
         "type": "histogram",
         "x": [
          2475150,
          3750000,
          1324100,
          390500,
          1357300,
          974100,
          1000600,
          2286400,
          1124000,
          1991300,
          516800,
          7531300,
          589700,
          497000,
          8141915,
          1304900,
          1229000,
          2224200,
          1309100,
          1699400,
          4830900,
          1104900,
          1596200,
          2893500,
          3996500,
          6237700,
          742000,
          1422400,
          510000,
          6412000,
          989500,
          2316400,
          2654100,
          714400,
          3401500,
          1901700,
          2201400,
          615200,
          727100,
          2297400,
          443000,
          2987000,
          1213400,
          2747500,
          1695700,
          1399900,
          663000,
          1613100,
          4439100,
          1604200,
          4889100,
          7503920,
          3590140,
          1334700,
          1243500,
          1264800,
          601200,
          735800,
          3935780,
          2682500,
          397000,
          1299000,
          5280200,
          400000,
          1768100,
          1437800,
          735900,
          1220000,
          4374083,
          994700,
          1961250,
          2147900,
          1600200,
          1107000,
          32900,
          1283000,
          1034200,
          2600100,
          309400,
          724400,
          1640000,
          32000,
          1111200,
          356600,
          509500,
          177000,
          1507200,
          1818800,
          3415100,
          248300,
          6160790,
          655500,
          1563600,
          3097300,
          745800,
          2901450,
          1934200,
          478000,
          434000,
          1744500,
          988000,
          2305500,
          826400,
          8245900,
          4808400,
          308600,
          5318400,
          24595310,
          3299300,
          33043018,
          416000,
          436000,
          7834625,
          1182900,
          3356000,
          2977050,
          365400,
          1447450,
          4250600,
          668500,
          9208820,
          904000,
          815600,
          5870000,
          434000,
          742500,
          1528910,
          1685900,
          2163200,
          775900,
          969500,
          94000,
          1262260,
          653000,
          366900,
          1214000,
          2767800,
          2393500,
          2231790,
          580900,
          1255000,
          875900,
          1223800,
          528000,
          263500,
          432000,
          1062000,
          8094890,
          1226000,
          1542300,
          440000,
          4786100,
          635000,
          447900,
          5002100,
          3836400,
          3787100,
          3779600,
          988300,
          2151300,
          22703900,
          1582800,
          2340300,
          1213000,
          2414150,
          1784500,
          2364720,
          823500,
          710500,
          30000,
          4376300,
          822500,
          231500,
          191100,
          702900,
          871500,
          123700,
          949000,
          519000,
          3222400,
          281900,
          59000,
          282500,
          265000,
          60000,
          2976900,
          584300,
          859600,
          832800,
          957200,
          969000,
          1092000,
          7678050,
          281500,
          638250,
          2379700,
          1301500,
          461400,
          479500,
          35926410,
          460000,
          280000,
          665100,
          1263400,
          368000,
          1712100,
          1312600,
          4517680,
          712000,
          213000,
          1017300,
          1845300,
          1107900,
          2171600,
          874600,
          2185400,
          971500,
          710100,
          55000,
          4857200,
          223400,
          589500,
          269000,
          1768400,
          999850,
          128000,
          3100310,
          2101800,
          1775200,
          6933020,
          2228300,
          756900,
          844200,
          1417170,
          1236100,
          1197700,
          863600,
          3331600,
          748500,
          422000,
          842400,
          752000,
          2287500,
          948420,
          18492600,
          1109200,
          1149200,
          3113500,
          52000,
          2628100,
          1682000,
          2208000,
          2410850,
          1641500,
          6053700,
          3848900,
          4670700,
          13720045,
          965000,
          1842000,
          1221200,
          1438700,
          1042440,
          11319525,
          1014000,
          30000,
          6066080,
          675000,
          1263400,
          304000,
          3264400,
          315000,
          11567600,
          612900,
          8108300,
          3689800,
          2161600,
          598600,
          2855800,
          5789940,
          368800,
          349200,
          5092150,
          422600,
          302300,
          1047400,
          2743790,
          406000,
          1465000,
          687000,
          2033190,
          8355500,
          319000,
          259400,
          1109600,
          1135040,
          7176600,
          762300,
          828500,
          18500,
          836000,
          2414600,
          6281700,
          578200,
          872100,
          862000,
          1103800,
          2916900,
          1780000,
          980700,
          16728250,
          1125400,
          3120000,
          7984827,
          2113500,
          3846000,
          885900,
          535000,
          828000,
          630200,
          953900,
          435000,
          1807500,
          1844000,
          291500,
          831000,
          435500,
          940100,
          1101000,
          2065200,
          14000,
          1562600,
          133000,
          586900,
          2139200,
          1100000,
          2576800,
          1251300,
          991000,
          520500,
          2181000,
          906000,
          1717300,
          306500,
          115000,
          2578300,
          770500,
          594800,
          3149500,
          5514950,
          1471825,
          12758450,
          2326300,
          2924160,
          560000,
          1271500,
          2525900,
          589000,
          424100,
          151000,
          485400,
          358400,
          246000,
          4074600,
          1959600,
          1239900,
          1308700,
          2739100,
          465500,
          666000,
          818000,
          30419600,
          446100,
          1909800,
          1199600,
          5495650,
          5591700,
          1801600,
          462500,
          16452600,
          1707800,
          4398000,
          656300,
          3770250,
          6233600,
          1540000,
          2495800,
          112000,
          11848500,
          1410200,
          6577000,
          171000,
          278000,
          1861700,
          52761800,
          1405100,
          88000,
          300700,
          191000,
          1164500,
          277000,
          1126500,
          361000,
          449000,
          1338000,
          1150000,
          1213136,
          1281200,
          303200,
          32000,
          2225600,
          1046800,
          1097800,
          447500,
          163500,
          1409100,
          163000,
          4832200,
          2946600,
          392500,
          1614000,
          11435425,
          753100,
          1237000,
          163000,
          3241800,
          4152550,
          1576200,
          1099350,
          4923800,
          1704600,
          6028350,
          384000,
          3016200,
          1698200,
          223500,
          3682500,
          2775500,
          887050,
          257400,
          818500,
          266800,
          2441400,
          443500,
          427000,
          565000,
          918800,
          6098100,
          187500,
          1486000,
          2428600,
          2103300,
          2577900,
          276800,
          27000,
          464800,
          2278400,
          1966500,
          1874700,
          602500,
          670000,
          590500,
          94800,
          3558600,
          1267600,
          210500,
          2521600,
          447800,
          1354900,
          5045400,
          738300,
          1656200,
          2809800,
          3427800,
          425500,
          1093200,
          779400,
          111000,
          4515825,
          819900,
          1121200,
          1931400,
          200500,
          1321300,
          68000,
          103000,
          365600,
          4751950,
          4229300,
          6124500,
          3205900,
          11077900,
          1956000,
          4639650,
          163000,
          165500,
          2342000,
          3622800,
          1735800,
          759000,
          1286420,
          255700,
          542500,
          905000,
          42000,
          420000,
          1913600,
          3222350,
          558000,
          232500,
          2513000,
          413000,
          637000,
          1745400,
          1219500,
          4293600,
          1072400,
          536500,
          39646600,
          2049300,
          370000,
          1353050,
          32096900,
          36000,
          380000,
          1262000,
          1877250,
          213500,
          2102400,
          2040925,
          497600,
          3816200,
          1474880,
          1314200,
          893100,
          2103800,
          3246200,
          5663700,
          1700900,
          359500,
          1904200,
          145500,
          1029500,
          459900,
          333000,
          188000,
          1011000,
          1206150,
          688000,
          520400,
          578500,
          512000,
          2003400,
          704300,
          8384020,
          302500,
          494500,
          941300,
          483600,
          3002450,
          715900,
          1254500,
          557100,
          299500,
          1378300,
          2579950,
          5120811,
          1018200,
          494000,
          11605800,
          414100,
          439600,
          4558600,
          1461100,
          2140050,
          1010200,
          629000,
          1930500,
          4119990,
          3592750,
          1890400,
          725500,
          1743300,
          1294000,
          2767600,
          255000,
          968800,
          748300,
          1447950,
          5816700,
          392800,
          64000,
          5686900,
          4496250,
          3816000,
          3159575,
          592100,
          18000,
          98000,
          4862900,
          383000,
          5755700,
          4520300,
          2626850,
          442900,
          1560600,
          1924800,
          920000,
          743000,
          1088600,
          164000,
          638000,
          654900,
          29500,
          4538240,
          3893500,
          1539000,
          5355900,
          439800,
          1136400,
          789000,
          4076850,
          1372900,
          182500,
          2753100,
          858500,
          1034700,
          1136500,
          572700,
          3903500,
          929500,
          13613700,
          2163400,
          418800,
          1213000
         ],
         "xaxis": "x2",
         "yaxis": "y2"
        }
       ],
       "layout": {
        "template": {
         "data": {
          "bar": [
           {
            "error_x": {
             "color": "#2a3f5f"
            },
            "error_y": {
             "color": "#2a3f5f"
            },
            "marker": {
             "line": {
              "color": "#E5ECF6",
              "width": 0.5
             }
            },
            "type": "bar"
           }
          ],
          "barpolar": [
           {
            "marker": {
             "line": {
              "color": "#E5ECF6",
              "width": 0.5
             }
            },
            "type": "barpolar"
           }
          ],
          "carpet": [
           {
            "aaxis": {
             "endlinecolor": "#2a3f5f",
             "gridcolor": "white",
             "linecolor": "white",
             "minorgridcolor": "white",
             "startlinecolor": "#2a3f5f"
            },
            "baxis": {
             "endlinecolor": "#2a3f5f",
             "gridcolor": "white",
             "linecolor": "white",
             "minorgridcolor": "white",
             "startlinecolor": "#2a3f5f"
            },
            "type": "carpet"
           }
          ],
          "choropleth": [
           {
            "colorbar": {
             "outlinewidth": 0,
             "ticks": ""
            },
            "type": "choropleth"
           }
          ],
          "contour": [
           {
            "colorbar": {
             "outlinewidth": 0,
             "ticks": ""
            },
            "colorscale": [
             [
              0,
              "#0d0887"
             ],
             [
              0.1111111111111111,
              "#46039f"
             ],
             [
              0.2222222222222222,
              "#7201a8"
             ],
             [
              0.3333333333333333,
              "#9c179e"
             ],
             [
              0.4444444444444444,
              "#bd3786"
             ],
             [
              0.5555555555555556,
              "#d8576b"
             ],
             [
              0.6666666666666666,
              "#ed7953"
             ],
             [
              0.7777777777777778,
              "#fb9f3a"
             ],
             [
              0.8888888888888888,
              "#fdca26"
             ],
             [
              1,
              "#f0f921"
             ]
            ],
            "type": "contour"
           }
          ],
          "contourcarpet": [
           {
            "colorbar": {
             "outlinewidth": 0,
             "ticks": ""
            },
            "type": "contourcarpet"
           }
          ],
          "heatmap": [
           {
            "colorbar": {
             "outlinewidth": 0,
             "ticks": ""
            },
            "colorscale": [
             [
              0,
              "#0d0887"
             ],
             [
              0.1111111111111111,
              "#46039f"
             ],
             [
              0.2222222222222222,
              "#7201a8"
             ],
             [
              0.3333333333333333,
              "#9c179e"
             ],
             [
              0.4444444444444444,
              "#bd3786"
             ],
             [
              0.5555555555555556,
              "#d8576b"
             ],
             [
              0.6666666666666666,
              "#ed7953"
             ],
             [
              0.7777777777777778,
              "#fb9f3a"
             ],
             [
              0.8888888888888888,
              "#fdca26"
             ],
             [
              1,
              "#f0f921"
             ]
            ],
            "type": "heatmap"
           }
          ],
          "heatmapgl": [
           {
            "colorbar": {
             "outlinewidth": 0,
             "ticks": ""
            },
            "colorscale": [
             [
              0,
              "#0d0887"
             ],
             [
              0.1111111111111111,
              "#46039f"
             ],
             [
              0.2222222222222222,
              "#7201a8"
             ],
             [
              0.3333333333333333,
              "#9c179e"
             ],
             [
              0.4444444444444444,
              "#bd3786"
             ],
             [
              0.5555555555555556,
              "#d8576b"
             ],
             [
              0.6666666666666666,
              "#ed7953"
             ],
             [
              0.7777777777777778,
              "#fb9f3a"
             ],
             [
              0.8888888888888888,
              "#fdca26"
             ],
             [
              1,
              "#f0f921"
             ]
            ],
            "type": "heatmapgl"
           }
          ],
          "histogram": [
           {
            "marker": {
             "colorbar": {
              "outlinewidth": 0,
              "ticks": ""
             }
            },
            "type": "histogram"
           }
          ],
          "histogram2d": [
           {
            "colorbar": {
             "outlinewidth": 0,
             "ticks": ""
            },
            "colorscale": [
             [
              0,
              "#0d0887"
             ],
             [
              0.1111111111111111,
              "#46039f"
             ],
             [
              0.2222222222222222,
              "#7201a8"
             ],
             [
              0.3333333333333333,
              "#9c179e"
             ],
             [
              0.4444444444444444,
              "#bd3786"
             ],
             [
              0.5555555555555556,
              "#d8576b"
             ],
             [
              0.6666666666666666,
              "#ed7953"
             ],
             [
              0.7777777777777778,
              "#fb9f3a"
             ],
             [
              0.8888888888888888,
              "#fdca26"
             ],
             [
              1,
              "#f0f921"
             ]
            ],
            "type": "histogram2d"
           }
          ],
          "histogram2dcontour": [
           {
            "colorbar": {
             "outlinewidth": 0,
             "ticks": ""
            },
            "colorscale": [
             [
              0,
              "#0d0887"
             ],
             [
              0.1111111111111111,
              "#46039f"
             ],
             [
              0.2222222222222222,
              "#7201a8"
             ],
             [
              0.3333333333333333,
              "#9c179e"
             ],
             [
              0.4444444444444444,
              "#bd3786"
             ],
             [
              0.5555555555555556,
              "#d8576b"
             ],
             [
              0.6666666666666666,
              "#ed7953"
             ],
             [
              0.7777777777777778,
              "#fb9f3a"
             ],
             [
              0.8888888888888888,
              "#fdca26"
             ],
             [
              1,
              "#f0f921"
             ]
            ],
            "type": "histogram2dcontour"
           }
          ],
          "mesh3d": [
           {
            "colorbar": {
             "outlinewidth": 0,
             "ticks": ""
            },
            "type": "mesh3d"
           }
          ],
          "parcoords": [
           {
            "line": {
             "colorbar": {
              "outlinewidth": 0,
              "ticks": ""
             }
            },
            "type": "parcoords"
           }
          ],
          "pie": [
           {
            "automargin": true,
            "type": "pie"
           }
          ],
          "scatter": [
           {
            "marker": {
             "colorbar": {
              "outlinewidth": 0,
              "ticks": ""
             }
            },
            "type": "scatter"
           }
          ],
          "scatter3d": [
           {
            "line": {
             "colorbar": {
              "outlinewidth": 0,
              "ticks": ""
             }
            },
            "marker": {
             "colorbar": {
              "outlinewidth": 0,
              "ticks": ""
             }
            },
            "type": "scatter3d"
           }
          ],
          "scattercarpet": [
           {
            "marker": {
             "colorbar": {
              "outlinewidth": 0,
              "ticks": ""
             }
            },
            "type": "scattercarpet"
           }
          ],
          "scattergeo": [
           {
            "marker": {
             "colorbar": {
              "outlinewidth": 0,
              "ticks": ""
             }
            },
            "type": "scattergeo"
           }
          ],
          "scattergl": [
           {
            "marker": {
             "colorbar": {
              "outlinewidth": 0,
              "ticks": ""
             }
            },
            "type": "scattergl"
           }
          ],
          "scattermapbox": [
           {
            "marker": {
             "colorbar": {
              "outlinewidth": 0,
              "ticks": ""
             }
            },
            "type": "scattermapbox"
           }
          ],
          "scatterpolar": [
           {
            "marker": {
             "colorbar": {
              "outlinewidth": 0,
              "ticks": ""
             }
            },
            "type": "scatterpolar"
           }
          ],
          "scatterpolargl": [
           {
            "marker": {
             "colorbar": {
              "outlinewidth": 0,
              "ticks": ""
             }
            },
            "type": "scatterpolargl"
           }
          ],
          "scatterternary": [
           {
            "marker": {
             "colorbar": {
              "outlinewidth": 0,
              "ticks": ""
             }
            },
            "type": "scatterternary"
           }
          ],
          "surface": [
           {
            "colorbar": {
             "outlinewidth": 0,
             "ticks": ""
            },
            "colorscale": [
             [
              0,
              "#0d0887"
             ],
             [
              0.1111111111111111,
              "#46039f"
             ],
             [
              0.2222222222222222,
              "#7201a8"
             ],
             [
              0.3333333333333333,
              "#9c179e"
             ],
             [
              0.4444444444444444,
              "#bd3786"
             ],
             [
              0.5555555555555556,
              "#d8576b"
             ],
             [
              0.6666666666666666,
              "#ed7953"
             ],
             [
              0.7777777777777778,
              "#fb9f3a"
             ],
             [
              0.8888888888888888,
              "#fdca26"
             ],
             [
              1,
              "#f0f921"
             ]
            ],
            "type": "surface"
           }
          ],
          "table": [
           {
            "cells": {
             "fill": {
              "color": "#EBF0F8"
             },
             "line": {
              "color": "white"
             }
            },
            "header": {
             "fill": {
              "color": "#C8D4E3"
             },
             "line": {
              "color": "white"
             }
            },
            "type": "table"
           }
          ]
         },
         "layout": {
          "annotationdefaults": {
           "arrowcolor": "#2a3f5f",
           "arrowhead": 0,
           "arrowwidth": 1
          },
          "coloraxis": {
           "colorbar": {
            "outlinewidth": 0,
            "ticks": ""
           }
          },
          "colorscale": {
           "diverging": [
            [
             0,
             "#8e0152"
            ],
            [
             0.1,
             "#c51b7d"
            ],
            [
             0.2,
             "#de77ae"
            ],
            [
             0.3,
             "#f1b6da"
            ],
            [
             0.4,
             "#fde0ef"
            ],
            [
             0.5,
             "#f7f7f7"
            ],
            [
             0.6,
             "#e6f5d0"
            ],
            [
             0.7,
             "#b8e186"
            ],
            [
             0.8,
             "#7fbc41"
            ],
            [
             0.9,
             "#4d9221"
            ],
            [
             1,
             "#276419"
            ]
           ],
           "sequential": [
            [
             0,
             "#0d0887"
            ],
            [
             0.1111111111111111,
             "#46039f"
            ],
            [
             0.2222222222222222,
             "#7201a8"
            ],
            [
             0.3333333333333333,
             "#9c179e"
            ],
            [
             0.4444444444444444,
             "#bd3786"
            ],
            [
             0.5555555555555556,
             "#d8576b"
            ],
            [
             0.6666666666666666,
             "#ed7953"
            ],
            [
             0.7777777777777778,
             "#fb9f3a"
            ],
            [
             0.8888888888888888,
             "#fdca26"
            ],
            [
             1,
             "#f0f921"
            ]
           ],
           "sequentialminus": [
            [
             0,
             "#0d0887"
            ],
            [
             0.1111111111111111,
             "#46039f"
            ],
            [
             0.2222222222222222,
             "#7201a8"
            ],
            [
             0.3333333333333333,
             "#9c179e"
            ],
            [
             0.4444444444444444,
             "#bd3786"
            ],
            [
             0.5555555555555556,
             "#d8576b"
            ],
            [
             0.6666666666666666,
             "#ed7953"
            ],
            [
             0.7777777777777778,
             "#fb9f3a"
            ],
            [
             0.8888888888888888,
             "#fdca26"
            ],
            [
             1,
             "#f0f921"
            ]
           ]
          },
          "colorway": [
           "#636efa",
           "#EF553B",
           "#00cc96",
           "#ab63fa",
           "#FFA15A",
           "#19d3f3",
           "#FF6692",
           "#B6E880",
           "#FF97FF",
           "#FECB52"
          ],
          "font": {
           "color": "#2a3f5f"
          },
          "geo": {
           "bgcolor": "white",
           "lakecolor": "white",
           "landcolor": "#E5ECF6",
           "showlakes": true,
           "showland": true,
           "subunitcolor": "white"
          },
          "hoverlabel": {
           "align": "left"
          },
          "hovermode": "closest",
          "mapbox": {
           "style": "light"
          },
          "paper_bgcolor": "white",
          "plot_bgcolor": "#E5ECF6",
          "polar": {
           "angularaxis": {
            "gridcolor": "white",
            "linecolor": "white",
            "ticks": ""
           },
           "bgcolor": "#E5ECF6",
           "radialaxis": {
            "gridcolor": "white",
            "linecolor": "white",
            "ticks": ""
           }
          },
          "scene": {
           "xaxis": {
            "backgroundcolor": "#E5ECF6",
            "gridcolor": "white",
            "gridwidth": 2,
            "linecolor": "white",
            "showbackground": true,
            "ticks": "",
            "zerolinecolor": "white"
           },
           "yaxis": {
            "backgroundcolor": "#E5ECF6",
            "gridcolor": "white",
            "gridwidth": 2,
            "linecolor": "white",
            "showbackground": true,
            "ticks": "",
            "zerolinecolor": "white"
           },
           "zaxis": {
            "backgroundcolor": "#E5ECF6",
            "gridcolor": "white",
            "gridwidth": 2,
            "linecolor": "white",
            "showbackground": true,
            "ticks": "",
            "zerolinecolor": "white"
           }
          },
          "shapedefaults": {
           "line": {
            "color": "#2a3f5f"
           }
          },
          "ternary": {
           "aaxis": {
            "gridcolor": "white",
            "linecolor": "white",
            "ticks": ""
           },
           "baxis": {
            "gridcolor": "white",
            "linecolor": "white",
            "ticks": ""
           },
           "bgcolor": "#E5ECF6",
           "caxis": {
            "gridcolor": "white",
            "linecolor": "white",
            "ticks": ""
           }
          },
          "title": {
           "x": 0.05
          },
          "xaxis": {
           "automargin": true,
           "gridcolor": "white",
           "linecolor": "white",
           "ticks": "",
           "title": {
            "standoff": 15
           },
           "zerolinecolor": "white",
           "zerolinewidth": 2
          },
          "yaxis": {
           "automargin": true,
           "gridcolor": "white",
           "linecolor": "white",
           "ticks": "",
           "title": {
            "standoff": 15
           },
           "zerolinecolor": "white",
           "zerolinewidth": 2
          }
         }
        },
        "xaxis": {
         "anchor": "y",
         "domain": [
          0,
          1
         ]
        },
        "xaxis2": {
         "anchor": "y2",
         "domain": [
          0,
          1
         ]
        },
        "yaxis": {
         "anchor": "x",
         "domain": [
          0.575,
          1
         ]
        },
        "yaxis2": {
         "anchor": "x2",
         "domain": [
          0,
          0.425
         ]
        }
       }
      },
      "text/html": [
       "<div>\n",
       "        \n",
       "        \n",
       "            <div id=\"2ca49f9a-931b-40fd-a923-77222203f920\" class=\"plotly-graph-div\" style=\"height:525px; width:100%;\"></div>\n",
       "            <script type=\"text/javascript\">\n",
       "                require([\"plotly\"], function(Plotly) {\n",
       "                    window.PLOTLYENV=window.PLOTLYENV || {};\n",
       "                    \n",
       "                if (document.getElementById(\"2ca49f9a-931b-40fd-a923-77222203f920\")) {\n",
       "                    Plotly.newPlot(\n",
       "                        '2ca49f9a-931b-40fd-a923-77222203f920',\n",
       "                        [{\"type\": \"histogram\", \"x\": [988300, 2679600, 866500, 235200, 30000, 99000, 130700, 17000, 35000, 48000, 149500, 57500, 28000, 328600, 1811700, 225000, 246000, 170000, 162000, 285245, 129000, 255900, 32000, 620000, 90000, 40000, 265000, 35900, 56000, 34000, 2468000, 63000, 102500, 120000, 540000, 738000, 142000, 10000, 660600, 25000, 1287900, 2939800, 634500, 197500, 113500, 1651700, 424000, 42500, 660000, 3039100, 20000, 268900, 184000, 167000, 632200, 131000, 61500, 567800, 48000, 287000, 153800, 128000, 896000, 28000, 31000, 4000, 1215000, 916000, 220000, 58000, 865500, 31000, 74000, 60500, 124000, 1268800, 131000, 409000, 1200000, 1435000, 148500, 343000, 259000, 45000, 558500, 63000, 107000, 25000, 6000, 33000, 400000, 150000, 294000, 187000, 380000, 208000, 386200, 116500, 247000, 1461000, 13000, 119000, 81000, 76000, 68000, 4673500, 168400, 20000, 990000, 92000, 337000, 769500, 480900, 306500, 242500, 356000, 75000, 231079, 138500, 25000, 579000, 51000, 50000, 1436800, 421000, 84500, 108000, 612100, 67000, 110000, 93000, 1760600, 127500, 35000, 176000, 180000, 92000, 95600, 326000, 1431500, 148000, 95000, 104000, 50000, 570000, 513000, 115000, 50000, 150000, 142000, 1906500, 241000, 153000, 312500, 128000, 797000, 329000, 122000, 1324200, 2293066, 43000, 194500, 739000, 18000, 644000, 47000, 221600, 193900, 223000, 100000, 57200, 95000, 229000, 391000, 9500, 60000, 420000, 60000, 586200, 108500, 1427400, 2016000, 17000, 69000, 58000, 62000, 142000, 48000, 383000, 779900, 14000, 210000, 24500, 70000, 150000, 180000, 253000, 318600, 353800, 633700, 1124450, 197000, 18000, 158000, 553000, 685850, 218000, 129000, 122000, 103000, 53000, 880000, 65000, 50000, 443000, 369000, 551000, 5445950, 110000, 47800, 68000, 83000, 100000, 174000, 17000, 165500, 84000, 23000, 31000, 242000, 1080000, 117000, 175000, 58000, 95400, 714600, 578300, 6266200, 60000, 705000, 50000, 265000, 16000, 300000, 365000, 17000, 403000, 725800, 84000, 199000, 51000, 200000, 262000, 40000, 311500, 40000, 112000, 278000, 22000, 100000], \"xaxis\": \"x\", \"yaxis\": \"y\"}, {\"type\": \"histogram\", \"x\": [2475150, 3750000, 1324100, 390500, 1357300, 974100, 1000600, 2286400, 1124000, 1991300, 516800, 7531300, 589700, 497000, 8141915, 1304900, 1229000, 2224200, 1309100, 1699400, 4830900, 1104900, 1596200, 2893500, 3996500, 6237700, 742000, 1422400, 510000, 6412000, 989500, 2316400, 2654100, 714400, 3401500, 1901700, 2201400, 615200, 727100, 2297400, 443000, 2987000, 1213400, 2747500, 1695700, 1399900, 663000, 1613100, 4439100, 1604200, 4889100, 7503920, 3590140, 1334700, 1243500, 1264800, 601200, 735800, 3935780, 2682500, 397000, 1299000, 5280200, 400000, 1768100, 1437800, 735900, 1220000, 4374083, 994700, 1961250, 2147900, 1600200, 1107000, 32900, 1283000, 1034200, 2600100, 309400, 724400, 1640000, 32000, 1111200, 356600, 509500, 177000, 1507200, 1818800, 3415100, 248300, 6160790, 655500, 1563600, 3097300, 745800, 2901450, 1934200, 478000, 434000, 1744500, 988000, 2305500, 826400, 8245900, 4808400, 308600, 5318400, 24595310, 3299300, 33043018, 416000, 436000, 7834625, 1182900, 3356000, 2977050, 365400, 1447450, 4250600, 668500, 9208820, 904000, 815600, 5870000, 434000, 742500, 1528910, 1685900, 2163200, 775900, 969500, 94000, 1262260, 653000, 366900, 1214000, 2767800, 2393500, 2231790, 580900, 1255000, 875900, 1223800, 528000, 263500, 432000, 1062000, 8094890, 1226000, 1542300, 440000, 4786100, 635000, 447900, 5002100, 3836400, 3787100, 3779600, 988300, 2151300, 22703900, 1582800, 2340300, 1213000, 2414150, 1784500, 2364720, 823500, 710500, 30000, 4376300, 822500, 231500, 191100, 702900, 871500, 123700, 949000, 519000, 3222400, 281900, 59000, 282500, 265000, 60000, 2976900, 584300, 859600, 832800, 957200, 969000, 1092000, 7678050, 281500, 638250, 2379700, 1301500, 461400, 479500, 35926410, 460000, 280000, 665100, 1263400, 368000, 1712100, 1312600, 4517680, 712000, 213000, 1017300, 1845300, 1107900, 2171600, 874600, 2185400, 971500, 710100, 55000, 4857200, 223400, 589500, 269000, 1768400, 999850, 128000, 3100310, 2101800, 1775200, 6933020, 2228300, 756900, 844200, 1417170, 1236100, 1197700, 863600, 3331600, 748500, 422000, 842400, 752000, 2287500, 948420, 18492600, 1109200, 1149200, 3113500, 52000, 2628100, 1682000, 2208000, 2410850, 1641500, 6053700, 3848900, 4670700, 13720045, 965000, 1842000, 1221200, 1438700, 1042440, 11319525, 1014000, 30000, 6066080, 675000, 1263400, 304000, 3264400, 315000, 11567600, 612900, 8108300, 3689800, 2161600, 598600, 2855800, 5789940, 368800, 349200, 5092150, 422600, 302300, 1047400, 2743790, 406000, 1465000, 687000, 2033190, 8355500, 319000, 259400, 1109600, 1135040, 7176600, 762300, 828500, 18500, 836000, 2414600, 6281700, 578200, 872100, 862000, 1103800, 2916900, 1780000, 980700, 16728250, 1125400, 3120000, 7984827, 2113500, 3846000, 885900, 535000, 828000, 630200, 953900, 435000, 1807500, 1844000, 291500, 831000, 435500, 940100, 1101000, 2065200, 14000, 1562600, 133000, 586900, 2139200, 1100000, 2576800, 1251300, 991000, 520500, 2181000, 906000, 1717300, 306500, 115000, 2578300, 770500, 594800, 3149500, 5514950, 1471825, 12758450, 2326300, 2924160, 560000, 1271500, 2525900, 589000, 424100, 151000, 485400, 358400, 246000, 4074600, 1959600, 1239900, 1308700, 2739100, 465500, 666000, 818000, 30419600, 446100, 1909800, 1199600, 5495650, 5591700, 1801600, 462500, 16452600, 1707800, 4398000, 656300, 3770250, 6233600, 1540000, 2495800, 112000, 11848500, 1410200, 6577000, 171000, 278000, 1861700, 52761800, 1405100, 88000, 300700, 191000, 1164500, 277000, 1126500, 361000, 449000, 1338000, 1150000, 1213136, 1281200, 303200, 32000, 2225600, 1046800, 1097800, 447500, 163500, 1409100, 163000, 4832200, 2946600, 392500, 1614000, 11435425, 753100, 1237000, 163000, 3241800, 4152550, 1576200, 1099350, 4923800, 1704600, 6028350, 384000, 3016200, 1698200, 223500, 3682500, 2775500, 887050, 257400, 818500, 266800, 2441400, 443500, 427000, 565000, 918800, 6098100, 187500, 1486000, 2428600, 2103300, 2577900, 276800, 27000, 464800, 2278400, 1966500, 1874700, 602500, 670000, 590500, 94800, 3558600, 1267600, 210500, 2521600, 447800, 1354900, 5045400, 738300, 1656200, 2809800, 3427800, 425500, 1093200, 779400, 111000, 4515825, 819900, 1121200, 1931400, 200500, 1321300, 68000, 103000, 365600, 4751950, 4229300, 6124500, 3205900, 11077900, 1956000, 4639650, 163000, 165500, 2342000, 3622800, 1735800, 759000, 1286420, 255700, 542500, 905000, 42000, 420000, 1913600, 3222350, 558000, 232500, 2513000, 413000, 637000, 1745400, 1219500, 4293600, 1072400, 536500, 39646600, 2049300, 370000, 1353050, 32096900, 36000, 380000, 1262000, 1877250, 213500, 2102400, 2040925, 497600, 3816200, 1474880, 1314200, 893100, 2103800, 3246200, 5663700, 1700900, 359500, 1904200, 145500, 1029500, 459900, 333000, 188000, 1011000, 1206150, 688000, 520400, 578500, 512000, 2003400, 704300, 8384020, 302500, 494500, 941300, 483600, 3002450, 715900, 1254500, 557100, 299500, 1378300, 2579950, 5120811, 1018200, 494000, 11605800, 414100, 439600, 4558600, 1461100, 2140050, 1010200, 629000, 1930500, 4119990, 3592750, 1890400, 725500, 1743300, 1294000, 2767600, 255000, 968800, 748300, 1447950, 5816700, 392800, 64000, 5686900, 4496250, 3816000, 3159575, 592100, 18000, 98000, 4862900, 383000, 5755700, 4520300, 2626850, 442900, 1560600, 1924800, 920000, 743000, 1088600, 164000, 638000, 654900, 29500, 4538240, 3893500, 1539000, 5355900, 439800, 1136400, 789000, 4076850, 1372900, 182500, 2753100, 858500, 1034700, 1136500, 572700, 3903500, 929500, 13613700, 2163400, 418800, 1213000], \"xaxis\": \"x2\", \"yaxis\": \"y2\"}],\n",
       "                        {\"template\": {\"data\": {\"bar\": [{\"error_x\": {\"color\": \"#2a3f5f\"}, \"error_y\": {\"color\": \"#2a3f5f\"}, \"marker\": {\"line\": {\"color\": \"#E5ECF6\", \"width\": 0.5}}, \"type\": \"bar\"}], \"barpolar\": [{\"marker\": {\"line\": {\"color\": \"#E5ECF6\", \"width\": 0.5}}, \"type\": \"barpolar\"}], \"carpet\": [{\"aaxis\": {\"endlinecolor\": \"#2a3f5f\", \"gridcolor\": \"white\", \"linecolor\": \"white\", \"minorgridcolor\": \"white\", \"startlinecolor\": \"#2a3f5f\"}, \"baxis\": {\"endlinecolor\": \"#2a3f5f\", \"gridcolor\": \"white\", \"linecolor\": \"white\", \"minorgridcolor\": \"white\", \"startlinecolor\": \"#2a3f5f\"}, \"type\": \"carpet\"}], \"choropleth\": [{\"colorbar\": {\"outlinewidth\": 0, \"ticks\": \"\"}, \"type\": \"choropleth\"}], \"contour\": [{\"colorbar\": {\"outlinewidth\": 0, \"ticks\": \"\"}, \"colorscale\": [[0.0, \"#0d0887\"], [0.1111111111111111, \"#46039f\"], [0.2222222222222222, \"#7201a8\"], [0.3333333333333333, \"#9c179e\"], [0.4444444444444444, \"#bd3786\"], [0.5555555555555556, \"#d8576b\"], [0.6666666666666666, \"#ed7953\"], [0.7777777777777778, \"#fb9f3a\"], [0.8888888888888888, \"#fdca26\"], [1.0, \"#f0f921\"]], \"type\": \"contour\"}], \"contourcarpet\": [{\"colorbar\": {\"outlinewidth\": 0, \"ticks\": \"\"}, \"type\": \"contourcarpet\"}], \"heatmap\": [{\"colorbar\": {\"outlinewidth\": 0, \"ticks\": \"\"}, \"colorscale\": [[0.0, \"#0d0887\"], [0.1111111111111111, \"#46039f\"], [0.2222222222222222, \"#7201a8\"], [0.3333333333333333, \"#9c179e\"], [0.4444444444444444, \"#bd3786\"], [0.5555555555555556, \"#d8576b\"], [0.6666666666666666, \"#ed7953\"], [0.7777777777777778, \"#fb9f3a\"], [0.8888888888888888, \"#fdca26\"], [1.0, \"#f0f921\"]], \"type\": \"heatmap\"}], \"heatmapgl\": [{\"colorbar\": {\"outlinewidth\": 0, \"ticks\": \"\"}, \"colorscale\": [[0.0, \"#0d0887\"], [0.1111111111111111, \"#46039f\"], [0.2222222222222222, \"#7201a8\"], [0.3333333333333333, \"#9c179e\"], [0.4444444444444444, \"#bd3786\"], [0.5555555555555556, \"#d8576b\"], [0.6666666666666666, \"#ed7953\"], [0.7777777777777778, \"#fb9f3a\"], [0.8888888888888888, \"#fdca26\"], [1.0, \"#f0f921\"]], \"type\": \"heatmapgl\"}], \"histogram\": [{\"marker\": {\"colorbar\": {\"outlinewidth\": 0, \"ticks\": \"\"}}, \"type\": \"histogram\"}], \"histogram2d\": [{\"colorbar\": {\"outlinewidth\": 0, \"ticks\": \"\"}, \"colorscale\": [[0.0, \"#0d0887\"], [0.1111111111111111, \"#46039f\"], [0.2222222222222222, \"#7201a8\"], [0.3333333333333333, \"#9c179e\"], [0.4444444444444444, \"#bd3786\"], [0.5555555555555556, \"#d8576b\"], [0.6666666666666666, \"#ed7953\"], [0.7777777777777778, \"#fb9f3a\"], [0.8888888888888888, \"#fdca26\"], [1.0, \"#f0f921\"]], \"type\": \"histogram2d\"}], \"histogram2dcontour\": [{\"colorbar\": {\"outlinewidth\": 0, \"ticks\": \"\"}, \"colorscale\": [[0.0, \"#0d0887\"], [0.1111111111111111, \"#46039f\"], [0.2222222222222222, \"#7201a8\"], [0.3333333333333333, \"#9c179e\"], [0.4444444444444444, \"#bd3786\"], [0.5555555555555556, \"#d8576b\"], [0.6666666666666666, \"#ed7953\"], [0.7777777777777778, \"#fb9f3a\"], [0.8888888888888888, \"#fdca26\"], [1.0, \"#f0f921\"]], \"type\": \"histogram2dcontour\"}], \"mesh3d\": [{\"colorbar\": {\"outlinewidth\": 0, \"ticks\": \"\"}, \"type\": \"mesh3d\"}], \"parcoords\": [{\"line\": {\"colorbar\": {\"outlinewidth\": 0, \"ticks\": \"\"}}, \"type\": \"parcoords\"}], \"pie\": [{\"automargin\": true, \"type\": \"pie\"}], \"scatter\": [{\"marker\": {\"colorbar\": {\"outlinewidth\": 0, \"ticks\": \"\"}}, \"type\": \"scatter\"}], \"scatter3d\": [{\"line\": {\"colorbar\": {\"outlinewidth\": 0, \"ticks\": \"\"}}, \"marker\": {\"colorbar\": {\"outlinewidth\": 0, \"ticks\": \"\"}}, \"type\": \"scatter3d\"}], \"scattercarpet\": [{\"marker\": {\"colorbar\": {\"outlinewidth\": 0, \"ticks\": \"\"}}, \"type\": \"scattercarpet\"}], \"scattergeo\": [{\"marker\": {\"colorbar\": {\"outlinewidth\": 0, \"ticks\": \"\"}}, \"type\": \"scattergeo\"}], \"scattergl\": [{\"marker\": {\"colorbar\": {\"outlinewidth\": 0, \"ticks\": \"\"}}, \"type\": \"scattergl\"}], \"scattermapbox\": [{\"marker\": {\"colorbar\": {\"outlinewidth\": 0, \"ticks\": \"\"}}, \"type\": \"scattermapbox\"}], \"scatterpolar\": [{\"marker\": {\"colorbar\": {\"outlinewidth\": 0, \"ticks\": \"\"}}, \"type\": \"scatterpolar\"}], \"scatterpolargl\": [{\"marker\": {\"colorbar\": {\"outlinewidth\": 0, \"ticks\": \"\"}}, \"type\": \"scatterpolargl\"}], \"scatterternary\": [{\"marker\": {\"colorbar\": {\"outlinewidth\": 0, \"ticks\": \"\"}}, \"type\": \"scatterternary\"}], \"surface\": [{\"colorbar\": {\"outlinewidth\": 0, \"ticks\": \"\"}, \"colorscale\": [[0.0, \"#0d0887\"], [0.1111111111111111, \"#46039f\"], [0.2222222222222222, \"#7201a8\"], [0.3333333333333333, \"#9c179e\"], [0.4444444444444444, \"#bd3786\"], [0.5555555555555556, \"#d8576b\"], [0.6666666666666666, \"#ed7953\"], [0.7777777777777778, \"#fb9f3a\"], [0.8888888888888888, \"#fdca26\"], [1.0, \"#f0f921\"]], \"type\": \"surface\"}], \"table\": [{\"cells\": {\"fill\": {\"color\": \"#EBF0F8\"}, \"line\": {\"color\": \"white\"}}, \"header\": {\"fill\": {\"color\": \"#C8D4E3\"}, \"line\": {\"color\": \"white\"}}, \"type\": \"table\"}]}, \"layout\": {\"annotationdefaults\": {\"arrowcolor\": \"#2a3f5f\", \"arrowhead\": 0, \"arrowwidth\": 1}, \"coloraxis\": {\"colorbar\": {\"outlinewidth\": 0, \"ticks\": \"\"}}, \"colorscale\": {\"diverging\": [[0, \"#8e0152\"], [0.1, \"#c51b7d\"], [0.2, \"#de77ae\"], [0.3, \"#f1b6da\"], [0.4, \"#fde0ef\"], [0.5, \"#f7f7f7\"], [0.6, \"#e6f5d0\"], [0.7, \"#b8e186\"], [0.8, \"#7fbc41\"], [0.9, \"#4d9221\"], [1, \"#276419\"]], \"sequential\": [[0.0, \"#0d0887\"], [0.1111111111111111, \"#46039f\"], [0.2222222222222222, \"#7201a8\"], [0.3333333333333333, \"#9c179e\"], [0.4444444444444444, \"#bd3786\"], [0.5555555555555556, \"#d8576b\"], [0.6666666666666666, \"#ed7953\"], [0.7777777777777778, \"#fb9f3a\"], [0.8888888888888888, \"#fdca26\"], [1.0, \"#f0f921\"]], \"sequentialminus\": [[0.0, \"#0d0887\"], [0.1111111111111111, \"#46039f\"], [0.2222222222222222, \"#7201a8\"], [0.3333333333333333, \"#9c179e\"], [0.4444444444444444, \"#bd3786\"], [0.5555555555555556, \"#d8576b\"], [0.6666666666666666, \"#ed7953\"], [0.7777777777777778, \"#fb9f3a\"], [0.8888888888888888, \"#fdca26\"], [1.0, \"#f0f921\"]]}, \"colorway\": [\"#636efa\", \"#EF553B\", \"#00cc96\", \"#ab63fa\", \"#FFA15A\", \"#19d3f3\", \"#FF6692\", \"#B6E880\", \"#FF97FF\", \"#FECB52\"], \"font\": {\"color\": \"#2a3f5f\"}, \"geo\": {\"bgcolor\": \"white\", \"lakecolor\": \"white\", \"landcolor\": \"#E5ECF6\", \"showlakes\": true, \"showland\": true, \"subunitcolor\": \"white\"}, \"hoverlabel\": {\"align\": \"left\"}, \"hovermode\": \"closest\", \"mapbox\": {\"style\": \"light\"}, \"paper_bgcolor\": \"white\", \"plot_bgcolor\": \"#E5ECF6\", \"polar\": {\"angularaxis\": {\"gridcolor\": \"white\", \"linecolor\": \"white\", \"ticks\": \"\"}, \"bgcolor\": \"#E5ECF6\", \"radialaxis\": {\"gridcolor\": \"white\", \"linecolor\": \"white\", \"ticks\": \"\"}}, \"scene\": {\"xaxis\": {\"backgroundcolor\": \"#E5ECF6\", \"gridcolor\": \"white\", \"gridwidth\": 2, \"linecolor\": \"white\", \"showbackground\": true, \"ticks\": \"\", \"zerolinecolor\": \"white\"}, \"yaxis\": {\"backgroundcolor\": \"#E5ECF6\", \"gridcolor\": \"white\", \"gridwidth\": 2, \"linecolor\": \"white\", \"showbackground\": true, \"ticks\": \"\", \"zerolinecolor\": \"white\"}, \"zaxis\": {\"backgroundcolor\": \"#E5ECF6\", \"gridcolor\": \"white\", \"gridwidth\": 2, \"linecolor\": \"white\", \"showbackground\": true, \"ticks\": \"\", \"zerolinecolor\": \"white\"}}, \"shapedefaults\": {\"line\": {\"color\": \"#2a3f5f\"}}, \"ternary\": {\"aaxis\": {\"gridcolor\": \"white\", \"linecolor\": \"white\", \"ticks\": \"\"}, \"baxis\": {\"gridcolor\": \"white\", \"linecolor\": \"white\", \"ticks\": \"\"}, \"bgcolor\": \"#E5ECF6\", \"caxis\": {\"gridcolor\": \"white\", \"linecolor\": \"white\", \"ticks\": \"\"}}, \"title\": {\"x\": 0.05}, \"xaxis\": {\"automargin\": true, \"gridcolor\": \"white\", \"linecolor\": \"white\", \"ticks\": \"\", \"title\": {\"standoff\": 15}, \"zerolinecolor\": \"white\", \"zerolinewidth\": 2}, \"yaxis\": {\"automargin\": true, \"gridcolor\": \"white\", \"linecolor\": \"white\", \"ticks\": \"\", \"title\": {\"standoff\": 15}, \"zerolinecolor\": \"white\", \"zerolinewidth\": 2}}}, \"xaxis\": {\"anchor\": \"y\", \"domain\": [0.0, 1.0]}, \"xaxis2\": {\"anchor\": \"y2\", \"domain\": [0.0, 1.0]}, \"yaxis\": {\"anchor\": \"x\", \"domain\": [0.575, 1.0]}, \"yaxis2\": {\"anchor\": \"x2\", \"domain\": [0.0, 0.425]}},\n",
       "                        {\"responsive\": true}\n",
       "                    ).then(function(){\n",
       "                            \n",
       "var gd = document.getElementById('2ca49f9a-931b-40fd-a923-77222203f920');\n",
       "var x = new MutationObserver(function (mutations, observer) {{\n",
       "        var display = window.getComputedStyle(gd).display;\n",
       "        if (!display || display === 'none') {{\n",
       "            console.log([gd, 'removed!']);\n",
       "            Plotly.purge(gd);\n",
       "            observer.disconnect();\n",
       "        }}\n",
       "}});\n",
       "\n",
       "// Listen for the removal of the full notebook cells\n",
       "var notebookContainer = gd.closest('#notebook-container');\n",
       "if (notebookContainer) {{\n",
       "    x.observe(notebookContainer, {childList: true});\n",
       "}}\n",
       "\n",
       "// Listen for the clearing of the current output cell\n",
       "var outputEl = gd.closest('.output');\n",
       "if (outputEl) {{\n",
       "    x.observe(outputEl, {childList: true});\n",
       "}}\n",
       "\n",
       "                        })\n",
       "                };\n",
       "                });\n",
       "            </script>\n",
       "        </div>"
      ]
     },
     "metadata": {},
     "output_type": "display_data"
    }
   ],
   "source": [
    "fig = make_subplots(rows=2, cols=1)\n",
    "\n",
    "for i in range(len(target_kinds)):\n",
    "    traces[i] = data[data[target_kindcol]==target_kinds[i]\n",
    "           ].groupby(target_gbcol).sum().reset_index()\n",
    "    traces[i] = go.Histogram(x=traces[i][target_bincol])\n",
    "    fig.append_trace(traces[i], i+1, 1)\n",
    "fig.show()"
   ]
  },
  {
   "cell_type": "markdown",
   "metadata": {},
   "source": [
    "### Combined statistical representations with px.histogram"
   ]
  },
  {
   "cell_type": "code",
   "execution_count": 16,
   "metadata": {},
   "outputs": [],
   "source": [
    "data           = card\n",
    "target_kindcol = \"mrhst_induty_cl_nm\"\n",
    "target_kinds   = [\"칵테일바\", \"주점\"]\n",
    "target_bincol  = \"salamt\"\n",
    "target_gbcol   = [\"receipt_dttm\",\"adstrd_nm\"]\n",
    "\n",
    "# (서브플롯을 그리기 위해)\n",
    "# 원하는 품목리스트(tarket_kinds)의 길이만큼의 리스트를 만들고\n",
    "# 해당품목의 데이터프레임을 각각 담은 변수 traces \n",
    "traces = []\n",
    "traces_all = pd.DataFrame()\n",
    "    \n",
    "for i in range(len(target_kinds)):\n",
    "    trace = \"trace0\"\n",
    "    trace = trace + str(i)\n",
    "    traces.append(trace)\n",
    "    traces[i] = data[data[target_kindcol]==target_kinds[i]].groupby(target_gbcol).sum().reset_index()\n",
    "    traces[i][target_kindcol] = target_kinds[i]\n",
    "# traces의 각 데이터프레임을 concat 하는것\n",
    "# (그래프에 따라 종류파라미터 color 또는 hue를 이렇게 원하는 경우도 있음)\n",
    "    if traces[i].empty == False:\n",
    "        traces_all = pd.concat([traces_all, traces[i]]) # 아래내용과 동일\n",
    "\n",
    "# traces_all = pd.DataFrame()\n",
    "# for target_kind in target_kinds:\n",
    "#     trace = data[data[target_kindcol] == target_kind].groupby(target_gbcol).sum().reset_index()\n",
    "#     trace[i][target_kindcol] = target_kinds[i]\n",
    "#     if trace.empty == False:\n",
    "#         traces_all = pd.concat([traces_all, trace])"
   ]
  },
  {
   "cell_type": "code",
   "execution_count": 17,
   "metadata": {},
   "outputs": [
    {
     "data": {
      "application/vnd.plotly.v1+json": {
       "config": {
        "plotlyServerURL": "https://plot.ly"
       },
       "data": [
        {
         "alignmentgroup": "True",
         "bingroup": "x",
         "hoverlabel": {
          "namelength": 0
         },
         "hovertemplate": "mrhst_induty_cl_nm=칵테일바<br>salamt=%{x}<br>count of selng_cascnt=%{y}",
         "legendgroup": "칵테일바",
         "marker": {
          "color": "#636efa"
         },
         "name": "칵테일바",
         "offsetgroup": "칵테일바",
         "orientation": "v",
         "showlegend": true,
         "type": "histogram",
         "x": [
          988300,
          2679600,
          866500,
          235200,
          30000,
          99000,
          130700,
          17000,
          35000,
          48000,
          149500,
          57500,
          28000,
          328600,
          1811700,
          225000,
          246000,
          170000,
          162000,
          285245,
          129000,
          255900,
          32000,
          620000,
          90000,
          40000,
          265000,
          35900,
          56000,
          34000,
          2468000,
          63000,
          102500,
          120000,
          540000,
          738000,
          142000,
          10000,
          660600,
          25000,
          1287900,
          2939800,
          634500,
          197500,
          113500,
          1651700,
          424000,
          42500,
          660000,
          3039100,
          20000,
          268900,
          184000,
          167000,
          632200,
          131000,
          61500,
          567800,
          48000,
          287000,
          153800,
          128000,
          896000,
          28000,
          31000,
          4000,
          1215000,
          916000,
          220000,
          58000,
          865500,
          31000,
          74000,
          60500,
          124000,
          1268800,
          131000,
          409000,
          1200000,
          1435000,
          148500,
          343000,
          259000,
          45000,
          558500,
          63000,
          107000,
          25000,
          6000,
          33000,
          400000,
          150000,
          294000,
          187000,
          380000,
          208000,
          386200,
          116500,
          247000,
          1461000,
          13000,
          119000,
          81000,
          76000,
          68000,
          4673500,
          168400,
          20000,
          990000,
          92000,
          337000,
          769500,
          480900,
          306500,
          242500,
          356000,
          75000,
          231079,
          138500,
          25000,
          579000,
          51000,
          50000,
          1436800,
          421000,
          84500,
          108000,
          612100,
          67000,
          110000,
          93000,
          1760600,
          127500,
          35000,
          176000,
          180000,
          92000,
          95600,
          326000,
          1431500,
          148000,
          95000,
          104000,
          50000,
          570000,
          513000,
          115000,
          50000,
          150000,
          142000,
          1906500,
          241000,
          153000,
          312500,
          128000,
          797000,
          329000,
          122000,
          1324200,
          2293066,
          43000,
          194500,
          739000,
          18000,
          644000,
          47000,
          221600,
          193900,
          223000,
          100000,
          57200,
          95000,
          229000,
          391000,
          9500,
          60000,
          420000,
          60000,
          586200,
          108500,
          1427400,
          2016000,
          17000,
          69000,
          58000,
          62000,
          142000,
          48000,
          383000,
          779900,
          14000,
          210000,
          24500,
          70000,
          150000,
          180000,
          253000,
          318600,
          353800,
          633700,
          1124450,
          197000,
          18000,
          158000,
          553000,
          685850,
          218000,
          129000,
          122000,
          103000,
          53000,
          880000,
          65000,
          50000,
          443000,
          369000,
          551000,
          5445950,
          110000,
          47800,
          68000,
          83000,
          100000,
          174000,
          17000,
          165500,
          84000,
          23000,
          31000,
          242000,
          1080000,
          117000,
          175000,
          58000,
          95400,
          714600,
          578300,
          6266200,
          60000,
          705000,
          50000,
          265000,
          16000,
          300000,
          365000,
          17000,
          403000,
          725800,
          84000,
          199000,
          51000,
          200000,
          262000,
          40000,
          311500,
          40000,
          112000,
          278000,
          22000,
          100000
         ],
         "xaxis": "x",
         "y": [
          22,
          106,
          25,
          10,
          1,
          4,
          7,
          1,
          2,
          3,
          9,
          2,
          1,
          11,
          62,
          3,
          4,
          4,
          3,
          15,
          3,
          9,
          1,
          3,
          1,
          1,
          3,
          1,
          1,
          10,
          17,
          1,
          4,
          1,
          10,
          6,
          10,
          1,
          24,
          1,
          28,
          26,
          18,
          11,
          3,
          14,
          1,
          1,
          14,
          83,
          1,
          9,
          2,
          5,
          16,
          6,
          2,
          14,
          4,
          6,
          3,
          3,
          13,
          1,
          1,
          2,
          24,
          19,
          1,
          1,
          47,
          1,
          1,
          3,
          4,
          10,
          3,
          14,
          4,
          5,
          4,
          15,
          8,
          2,
          5,
          2,
          6,
          1,
          1,
          1,
          3,
          7,
          5,
          7,
          4,
          23,
          15,
          6,
          4,
          7,
          1,
          3,
          4,
          2,
          3,
          27,
          6,
          1,
          3,
          1,
          7,
          29,
          10,
          34,
          5,
          11,
          6,
          6,
          5,
          1,
          19,
          1,
          1,
          74,
          7,
          3,
          6,
          20,
          3,
          2,
          3,
          64,
          7,
          2,
          5,
          1,
          1,
          3,
          3,
          30,
          5,
          5,
          1,
          1,
          3,
          5,
          3,
          1,
          1,
          4,
          11,
          4,
          3,
          8,
          6,
          16,
          4,
          3,
          24,
          32,
          2,
          3,
          27,
          1,
          2,
          1,
          3,
          5,
          4,
          1,
          2,
          3,
          11,
          18,
          1,
          2,
          17,
          1,
          9,
          10,
          29,
          7,
          1,
          2,
          3,
          4,
          5,
          2,
          2,
          15,
          1,
          1,
          1,
          2,
          3,
          1,
          6,
          9,
          6,
          13,
          22,
          6,
          1,
          5,
          6,
          16,
          22,
          2,
          3,
          2,
          1,
          10,
          2,
          1,
          18,
          2,
          6,
          22,
          1,
          2,
          1,
          2,
          1,
          6,
          2,
          6,
          3,
          1,
          1,
          12,
          2,
          3,
          3,
          2,
          3,
          21,
          13,
          19,
          1,
          10,
          1,
          2,
          1,
          1,
          6,
          1,
          12,
          16,
          2,
          1,
          1,
          1,
          3,
          1,
          9,
          1,
          2,
          13,
          1,
          4
         ],
         "yaxis": "y"
        },
        {
         "alignmentgroup": "True",
         "hoverlabel": {
          "namelength": 0
         },
         "hovertemplate": "mrhst_induty_cl_nm=칵테일바<br>salamt=%{x}",
         "legendgroup": "칵테일바",
         "marker": {
          "color": "#636efa"
         },
         "name": "칵테일바",
         "notched": true,
         "offsetgroup": "칵테일바",
         "showlegend": false,
         "type": "box",
         "x": [
          988300,
          2679600,
          866500,
          235200,
          30000,
          99000,
          130700,
          17000,
          35000,
          48000,
          149500,
          57500,
          28000,
          328600,
          1811700,
          225000,
          246000,
          170000,
          162000,
          285245,
          129000,
          255900,
          32000,
          620000,
          90000,
          40000,
          265000,
          35900,
          56000,
          34000,
          2468000,
          63000,
          102500,
          120000,
          540000,
          738000,
          142000,
          10000,
          660600,
          25000,
          1287900,
          2939800,
          634500,
          197500,
          113500,
          1651700,
          424000,
          42500,
          660000,
          3039100,
          20000,
          268900,
          184000,
          167000,
          632200,
          131000,
          61500,
          567800,
          48000,
          287000,
          153800,
          128000,
          896000,
          28000,
          31000,
          4000,
          1215000,
          916000,
          220000,
          58000,
          865500,
          31000,
          74000,
          60500,
          124000,
          1268800,
          131000,
          409000,
          1200000,
          1435000,
          148500,
          343000,
          259000,
          45000,
          558500,
          63000,
          107000,
          25000,
          6000,
          33000,
          400000,
          150000,
          294000,
          187000,
          380000,
          208000,
          386200,
          116500,
          247000,
          1461000,
          13000,
          119000,
          81000,
          76000,
          68000,
          4673500,
          168400,
          20000,
          990000,
          92000,
          337000,
          769500,
          480900,
          306500,
          242500,
          356000,
          75000,
          231079,
          138500,
          25000,
          579000,
          51000,
          50000,
          1436800,
          421000,
          84500,
          108000,
          612100,
          67000,
          110000,
          93000,
          1760600,
          127500,
          35000,
          176000,
          180000,
          92000,
          95600,
          326000,
          1431500,
          148000,
          95000,
          104000,
          50000,
          570000,
          513000,
          115000,
          50000,
          150000,
          142000,
          1906500,
          241000,
          153000,
          312500,
          128000,
          797000,
          329000,
          122000,
          1324200,
          2293066,
          43000,
          194500,
          739000,
          18000,
          644000,
          47000,
          221600,
          193900,
          223000,
          100000,
          57200,
          95000,
          229000,
          391000,
          9500,
          60000,
          420000,
          60000,
          586200,
          108500,
          1427400,
          2016000,
          17000,
          69000,
          58000,
          62000,
          142000,
          48000,
          383000,
          779900,
          14000,
          210000,
          24500,
          70000,
          150000,
          180000,
          253000,
          318600,
          353800,
          633700,
          1124450,
          197000,
          18000,
          158000,
          553000,
          685850,
          218000,
          129000,
          122000,
          103000,
          53000,
          880000,
          65000,
          50000,
          443000,
          369000,
          551000,
          5445950,
          110000,
          47800,
          68000,
          83000,
          100000,
          174000,
          17000,
          165500,
          84000,
          23000,
          31000,
          242000,
          1080000,
          117000,
          175000,
          58000,
          95400,
          714600,
          578300,
          6266200,
          60000,
          705000,
          50000,
          265000,
          16000,
          300000,
          365000,
          17000,
          403000,
          725800,
          84000,
          199000,
          51000,
          200000,
          262000,
          40000,
          311500,
          40000,
          112000,
          278000,
          22000,
          100000
         ],
         "xaxis": "x2",
         "yaxis": "y2"
        },
        {
         "alignmentgroup": "True",
         "bingroup": "x",
         "hoverlabel": {
          "namelength": 0
         },
         "hovertemplate": "mrhst_induty_cl_nm=주점<br>salamt=%{x}<br>count of selng_cascnt=%{y}",
         "legendgroup": "주점",
         "marker": {
          "color": "#EF553B"
         },
         "name": "주점",
         "offsetgroup": "주점",
         "orientation": "v",
         "showlegend": true,
         "type": "histogram",
         "x": [
          2475150,
          3750000,
          1324100,
          390500,
          1357300,
          974100,
          1000600,
          2286400,
          1124000,
          1991300,
          516800,
          7531300,
          589700,
          497000,
          8141915,
          1304900,
          1229000,
          2224200,
          1309100,
          1699400,
          4830900,
          1104900,
          1596200,
          2893500,
          3996500,
          6237700,
          742000,
          1422400,
          510000,
          6412000,
          989500,
          2316400,
          2654100,
          714400,
          3401500,
          1901700,
          2201400,
          615200,
          727100,
          2297400,
          443000,
          2987000,
          1213400,
          2747500,
          1695700,
          1399900,
          663000,
          1613100,
          4439100,
          1604200,
          4889100,
          7503920,
          3590140,
          1334700,
          1243500,
          1264800,
          601200,
          735800,
          3935780,
          2682500,
          397000,
          1299000,
          5280200,
          400000,
          1768100,
          1437800,
          735900,
          1220000,
          4374083,
          994700,
          1961250,
          2147900,
          1600200,
          1107000,
          32900,
          1283000,
          1034200,
          2600100,
          309400,
          724400,
          1640000,
          32000,
          1111200,
          356600,
          509500,
          177000,
          1507200,
          1818800,
          3415100,
          248300,
          6160790,
          655500,
          1563600,
          3097300,
          745800,
          2901450,
          1934200,
          478000,
          434000,
          1744500,
          988000,
          2305500,
          826400,
          8245900,
          4808400,
          308600,
          5318400,
          24595310,
          3299300,
          33043018,
          416000,
          436000,
          7834625,
          1182900,
          3356000,
          2977050,
          365400,
          1447450,
          4250600,
          668500,
          9208820,
          904000,
          815600,
          5870000,
          434000,
          742500,
          1528910,
          1685900,
          2163200,
          775900,
          969500,
          94000,
          1262260,
          653000,
          366900,
          1214000,
          2767800,
          2393500,
          2231790,
          580900,
          1255000,
          875900,
          1223800,
          528000,
          263500,
          432000,
          1062000,
          8094890,
          1226000,
          1542300,
          440000,
          4786100,
          635000,
          447900,
          5002100,
          3836400,
          3787100,
          3779600,
          988300,
          2151300,
          22703900,
          1582800,
          2340300,
          1213000,
          2414150,
          1784500,
          2364720,
          823500,
          710500,
          30000,
          4376300,
          822500,
          231500,
          191100,
          702900,
          871500,
          123700,
          949000,
          519000,
          3222400,
          281900,
          59000,
          282500,
          265000,
          60000,
          2976900,
          584300,
          859600,
          832800,
          957200,
          969000,
          1092000,
          7678050,
          281500,
          638250,
          2379700,
          1301500,
          461400,
          479500,
          35926410,
          460000,
          280000,
          665100,
          1263400,
          368000,
          1712100,
          1312600,
          4517680,
          712000,
          213000,
          1017300,
          1845300,
          1107900,
          2171600,
          874600,
          2185400,
          971500,
          710100,
          55000,
          4857200,
          223400,
          589500,
          269000,
          1768400,
          999850,
          128000,
          3100310,
          2101800,
          1775200,
          6933020,
          2228300,
          756900,
          844200,
          1417170,
          1236100,
          1197700,
          863600,
          3331600,
          748500,
          422000,
          842400,
          752000,
          2287500,
          948420,
          18492600,
          1109200,
          1149200,
          3113500,
          52000,
          2628100,
          1682000,
          2208000,
          2410850,
          1641500,
          6053700,
          3848900,
          4670700,
          13720045,
          965000,
          1842000,
          1221200,
          1438700,
          1042440,
          11319525,
          1014000,
          30000,
          6066080,
          675000,
          1263400,
          304000,
          3264400,
          315000,
          11567600,
          612900,
          8108300,
          3689800,
          2161600,
          598600,
          2855800,
          5789940,
          368800,
          349200,
          5092150,
          422600,
          302300,
          1047400,
          2743790,
          406000,
          1465000,
          687000,
          2033190,
          8355500,
          319000,
          259400,
          1109600,
          1135040,
          7176600,
          762300,
          828500,
          18500,
          836000,
          2414600,
          6281700,
          578200,
          872100,
          862000,
          1103800,
          2916900,
          1780000,
          980700,
          16728250,
          1125400,
          3120000,
          7984827,
          2113500,
          3846000,
          885900,
          535000,
          828000,
          630200,
          953900,
          435000,
          1807500,
          1844000,
          291500,
          831000,
          435500,
          940100,
          1101000,
          2065200,
          14000,
          1562600,
          133000,
          586900,
          2139200,
          1100000,
          2576800,
          1251300,
          991000,
          520500,
          2181000,
          906000,
          1717300,
          306500,
          115000,
          2578300,
          770500,
          594800,
          3149500,
          5514950,
          1471825,
          12758450,
          2326300,
          2924160,
          560000,
          1271500,
          2525900,
          589000,
          424100,
          151000,
          485400,
          358400,
          246000,
          4074600,
          1959600,
          1239900,
          1308700,
          2739100,
          465500,
          666000,
          818000,
          30419600,
          446100,
          1909800,
          1199600,
          5495650,
          5591700,
          1801600,
          462500,
          16452600,
          1707800,
          4398000,
          656300,
          3770250,
          6233600,
          1540000,
          2495800,
          112000,
          11848500,
          1410200,
          6577000,
          171000,
          278000,
          1861700,
          52761800,
          1405100,
          88000,
          300700,
          191000,
          1164500,
          277000,
          1126500,
          361000,
          449000,
          1338000,
          1150000,
          1213136,
          1281200,
          303200,
          32000,
          2225600,
          1046800,
          1097800,
          447500,
          163500,
          1409100,
          163000,
          4832200,
          2946600,
          392500,
          1614000,
          11435425,
          753100,
          1237000,
          163000,
          3241800,
          4152550,
          1576200,
          1099350,
          4923800,
          1704600,
          6028350,
          384000,
          3016200,
          1698200,
          223500,
          3682500,
          2775500,
          887050,
          257400,
          818500,
          266800,
          2441400,
          443500,
          427000,
          565000,
          918800,
          6098100,
          187500,
          1486000,
          2428600,
          2103300,
          2577900,
          276800,
          27000,
          464800,
          2278400,
          1966500,
          1874700,
          602500,
          670000,
          590500,
          94800,
          3558600,
          1267600,
          210500,
          2521600,
          447800,
          1354900,
          5045400,
          738300,
          1656200,
          2809800,
          3427800,
          425500,
          1093200,
          779400,
          111000,
          4515825,
          819900,
          1121200,
          1931400,
          200500,
          1321300,
          68000,
          103000,
          365600,
          4751950,
          4229300,
          6124500,
          3205900,
          11077900,
          1956000,
          4639650,
          163000,
          165500,
          2342000,
          3622800,
          1735800,
          759000,
          1286420,
          255700,
          542500,
          905000,
          42000,
          420000,
          1913600,
          3222350,
          558000,
          232500,
          2513000,
          413000,
          637000,
          1745400,
          1219500,
          4293600,
          1072400,
          536500,
          39646600,
          2049300,
          370000,
          1353050,
          32096900,
          36000,
          380000,
          1262000,
          1877250,
          213500,
          2102400,
          2040925,
          497600,
          3816200,
          1474880,
          1314200,
          893100,
          2103800,
          3246200,
          5663700,
          1700900,
          359500,
          1904200,
          145500,
          1029500,
          459900,
          333000,
          188000,
          1011000,
          1206150,
          688000,
          520400,
          578500,
          512000,
          2003400,
          704300,
          8384020,
          302500,
          494500,
          941300,
          483600,
          3002450,
          715900,
          1254500,
          557100,
          299500,
          1378300,
          2579950,
          5120811,
          1018200,
          494000,
          11605800,
          414100,
          439600,
          4558600,
          1461100,
          2140050,
          1010200,
          629000,
          1930500,
          4119990,
          3592750,
          1890400,
          725500,
          1743300,
          1294000,
          2767600,
          255000,
          968800,
          748300,
          1447950,
          5816700,
          392800,
          64000,
          5686900,
          4496250,
          3816000,
          3159575,
          592100,
          18000,
          98000,
          4862900,
          383000,
          5755700,
          4520300,
          2626850,
          442900,
          1560600,
          1924800,
          920000,
          743000,
          1088600,
          164000,
          638000,
          654900,
          29500,
          4538240,
          3893500,
          1539000,
          5355900,
          439800,
          1136400,
          789000,
          4076850,
          1372900,
          182500,
          2753100,
          858500,
          1034700,
          1136500,
          572700,
          3903500,
          929500,
          13613700,
          2163400,
          418800,
          1213000
         ],
         "xaxis": "x",
         "y": [
          67,
          99,
          44,
          13,
          45,
          18,
          18,
          88,
          10,
          49,
          16,
          178,
          16,
          16,
          237,
          39,
          42,
          54,
          39,
          30,
          133,
          23,
          47,
          65,
          93,
          124,
          20,
          44,
          15,
          160,
          30,
          50,
          64,
          28,
          87,
          52,
          61,
          21,
          30,
          87,
          17,
          77,
          20,
          74,
          45,
          34,
          17,
          49,
          132,
          43,
          114,
          140,
          101,
          31,
          48,
          46,
          33,
          18,
          73,
          104,
          10,
          43,
          129,
          14,
          39,
          43,
          23,
          41,
          124,
          23,
          42,
          39,
          44,
          32,
          3,
          45,
          23,
          36,
          13,
          25,
          8,
          1,
          29,
          10,
          21,
          7,
          24,
          48,
          87,
          9,
          131,
          22,
          45,
          70,
          32,
          66,
          47,
          20,
          9,
          40,
          17,
          58,
          23,
          76,
          102,
          11,
          160,
          641,
          35,
          908,
          19,
          17,
          211,
          32,
          65,
          66,
          13,
          53,
          99,
          18,
          86,
          14,
          17,
          155,
          13,
          27,
          30,
          35,
          46,
          19,
          31,
          3,
          48,
          15,
          13,
          43,
          103,
          54,
          62,
          34,
          30,
          17,
          21,
          17,
          11,
          21,
          30,
          156,
          26,
          44,
          15,
          117,
          19,
          20,
          99,
          99,
          88,
          94,
          25,
          21,
          184,
          44,
          61,
          16,
          75,
          50,
          44,
          29,
          14,
          1,
          128,
          23,
          10,
          6,
          13,
          12,
          3,
          35,
          17,
          75,
          7,
          2,
          9,
          13,
          1,
          67,
          16,
          19,
          22,
          41,
          31,
          21,
          266,
          9,
          19,
          26,
          30,
          15,
          12,
          334,
          11,
          8,
          22,
          31,
          12,
          38,
          43,
          126,
          37,
          6,
          23,
          64,
          31,
          53,
          24,
          61,
          35,
          27,
          2,
          33,
          9,
          12,
          5,
          52,
          38,
          6,
          97,
          73,
          43,
          188,
          67,
          44,
          23,
          47,
          39,
          28,
          30,
          84,
          37,
          13,
          26,
          15,
          58,
          31,
          95,
          32,
          33,
          92,
          1,
          38,
          27,
          60,
          72,
          47,
          118,
          106,
          143,
          221,
          23,
          41,
          31,
          39,
          31,
          225,
          32,
          1,
          119,
          17,
          51,
          8,
          85,
          12,
          295,
          18,
          172,
          52,
          58,
          20,
          77,
          110,
          30,
          6,
          106,
          14,
          12,
          25,
          46,
          15,
          16,
          20,
          56,
          167,
          7,
          9,
          42,
          37,
          170,
          19,
          29,
          1,
          17,
          57,
          129,
          21,
          21,
          16,
          38,
          89,
          47,
          33,
          461,
          32,
          72,
          158,
          51,
          103,
          31,
          17,
          22,
          23,
          23,
          12,
          50,
          29,
          11,
          34,
          12,
          24,
          41,
          46,
          1,
          54,
          5,
          21,
          80,
          24,
          55,
          42,
          14,
          21,
          39,
          35,
          68,
          11,
          4,
          85,
          25,
          21,
          79,
          143,
          44,
          324,
          73,
          65,
          25,
          35,
          68,
          11,
          18,
          7,
          18,
          16,
          6,
          129,
          43,
          38,
          27,
          63,
          8,
          18,
          21,
          769,
          18,
          65,
          45,
          139,
          41,
          54,
          13,
          403,
          59,
          122,
          20,
          81,
          160,
          24,
          52,
          3,
          107,
          22,
          129,
          8,
          8,
          55,
          187,
          39,
          2,
          8,
          7,
          32,
          10,
          27,
          15,
          11,
          37,
          46,
          29,
          31,
          13,
          1,
          59,
          13,
          33,
          14,
          5,
          52,
          5,
          145,
          89,
          12,
          18,
          225,
          20,
          36,
          5,
          31,
          65,
          40,
          46,
          118,
          47,
          139,
          15,
          91,
          55,
          10,
          106,
          28,
          29,
          8,
          19,
          8,
          72,
          12,
          19,
          11,
          18,
          83,
          6,
          33,
          66,
          56,
          71,
          9,
          2,
          12,
          44,
          52,
          41,
          22,
          17,
          22,
          2,
          61,
          35,
          10,
          71,
          18,
          33,
          46,
          23,
          52,
          89,
          45,
          18,
          30,
          10,
          4,
          147,
          18,
          38,
          50,
          6,
          36,
          2,
          2,
          11,
          134,
          105,
          80,
          100,
          226,
          32,
          99,
          5,
          9,
          41,
          86,
          56,
          17,
          37,
          10,
          15,
          26,
          2,
          19,
          55,
          93,
          24,
          7,
          21,
          9,
          18,
          40,
          40,
          110,
          36,
          18,
          206,
          37,
          12,
          29,
          330,
          1,
          17,
          39,
          53,
          8,
          55,
          42,
          23,
          98,
          30,
          50,
          49,
          55,
          85,
          76,
          47,
          12,
          57,
          4,
          31,
          17,
          7,
          7,
          24,
          33,
          21,
          14,
          16,
          20,
          42,
          11,
          203,
          11,
          25,
          28,
          18,
          93,
          21,
          43,
          19,
          8,
          43,
          92,
          137,
          44,
          17,
          194,
          14,
          11,
          117,
          41,
          61,
          26,
          22,
          29,
          104,
          105,
          51,
          21,
          72,
          39,
          98,
          6,
          28,
          15,
          43,
          110,
          9,
          3,
          60,
          76,
          49,
          55,
          19,
          1,
          1,
          107,
          14,
          87,
          126,
          69,
          10,
          41,
          50,
          26,
          21,
          29,
          4,
          17,
          30,
          2,
          156,
          126,
          42,
          78,
          14,
          24,
          24,
          64,
          33,
          3,
          63,
          21,
          23,
          37,
          21,
          102,
          26,
          180,
          53,
          15,
          22
         ],
         "yaxis": "y"
        },
        {
         "alignmentgroup": "True",
         "hoverlabel": {
          "namelength": 0
         },
         "hovertemplate": "mrhst_induty_cl_nm=주점<br>salamt=%{x}",
         "legendgroup": "주점",
         "marker": {
          "color": "#EF553B"
         },
         "name": "주점",
         "notched": true,
         "offsetgroup": "주점",
         "showlegend": false,
         "type": "box",
         "x": [
          2475150,
          3750000,
          1324100,
          390500,
          1357300,
          974100,
          1000600,
          2286400,
          1124000,
          1991300,
          516800,
          7531300,
          589700,
          497000,
          8141915,
          1304900,
          1229000,
          2224200,
          1309100,
          1699400,
          4830900,
          1104900,
          1596200,
          2893500,
          3996500,
          6237700,
          742000,
          1422400,
          510000,
          6412000,
          989500,
          2316400,
          2654100,
          714400,
          3401500,
          1901700,
          2201400,
          615200,
          727100,
          2297400,
          443000,
          2987000,
          1213400,
          2747500,
          1695700,
          1399900,
          663000,
          1613100,
          4439100,
          1604200,
          4889100,
          7503920,
          3590140,
          1334700,
          1243500,
          1264800,
          601200,
          735800,
          3935780,
          2682500,
          397000,
          1299000,
          5280200,
          400000,
          1768100,
          1437800,
          735900,
          1220000,
          4374083,
          994700,
          1961250,
          2147900,
          1600200,
          1107000,
          32900,
          1283000,
          1034200,
          2600100,
          309400,
          724400,
          1640000,
          32000,
          1111200,
          356600,
          509500,
          177000,
          1507200,
          1818800,
          3415100,
          248300,
          6160790,
          655500,
          1563600,
          3097300,
          745800,
          2901450,
          1934200,
          478000,
          434000,
          1744500,
          988000,
          2305500,
          826400,
          8245900,
          4808400,
          308600,
          5318400,
          24595310,
          3299300,
          33043018,
          416000,
          436000,
          7834625,
          1182900,
          3356000,
          2977050,
          365400,
          1447450,
          4250600,
          668500,
          9208820,
          904000,
          815600,
          5870000,
          434000,
          742500,
          1528910,
          1685900,
          2163200,
          775900,
          969500,
          94000,
          1262260,
          653000,
          366900,
          1214000,
          2767800,
          2393500,
          2231790,
          580900,
          1255000,
          875900,
          1223800,
          528000,
          263500,
          432000,
          1062000,
          8094890,
          1226000,
          1542300,
          440000,
          4786100,
          635000,
          447900,
          5002100,
          3836400,
          3787100,
          3779600,
          988300,
          2151300,
          22703900,
          1582800,
          2340300,
          1213000,
          2414150,
          1784500,
          2364720,
          823500,
          710500,
          30000,
          4376300,
          822500,
          231500,
          191100,
          702900,
          871500,
          123700,
          949000,
          519000,
          3222400,
          281900,
          59000,
          282500,
          265000,
          60000,
          2976900,
          584300,
          859600,
          832800,
          957200,
          969000,
          1092000,
          7678050,
          281500,
          638250,
          2379700,
          1301500,
          461400,
          479500,
          35926410,
          460000,
          280000,
          665100,
          1263400,
          368000,
          1712100,
          1312600,
          4517680,
          712000,
          213000,
          1017300,
          1845300,
          1107900,
          2171600,
          874600,
          2185400,
          971500,
          710100,
          55000,
          4857200,
          223400,
          589500,
          269000,
          1768400,
          999850,
          128000,
          3100310,
          2101800,
          1775200,
          6933020,
          2228300,
          756900,
          844200,
          1417170,
          1236100,
          1197700,
          863600,
          3331600,
          748500,
          422000,
          842400,
          752000,
          2287500,
          948420,
          18492600,
          1109200,
          1149200,
          3113500,
          52000,
          2628100,
          1682000,
          2208000,
          2410850,
          1641500,
          6053700,
          3848900,
          4670700,
          13720045,
          965000,
          1842000,
          1221200,
          1438700,
          1042440,
          11319525,
          1014000,
          30000,
          6066080,
          675000,
          1263400,
          304000,
          3264400,
          315000,
          11567600,
          612900,
          8108300,
          3689800,
          2161600,
          598600,
          2855800,
          5789940,
          368800,
          349200,
          5092150,
          422600,
          302300,
          1047400,
          2743790,
          406000,
          1465000,
          687000,
          2033190,
          8355500,
          319000,
          259400,
          1109600,
          1135040,
          7176600,
          762300,
          828500,
          18500,
          836000,
          2414600,
          6281700,
          578200,
          872100,
          862000,
          1103800,
          2916900,
          1780000,
          980700,
          16728250,
          1125400,
          3120000,
          7984827,
          2113500,
          3846000,
          885900,
          535000,
          828000,
          630200,
          953900,
          435000,
          1807500,
          1844000,
          291500,
          831000,
          435500,
          940100,
          1101000,
          2065200,
          14000,
          1562600,
          133000,
          586900,
          2139200,
          1100000,
          2576800,
          1251300,
          991000,
          520500,
          2181000,
          906000,
          1717300,
          306500,
          115000,
          2578300,
          770500,
          594800,
          3149500,
          5514950,
          1471825,
          12758450,
          2326300,
          2924160,
          560000,
          1271500,
          2525900,
          589000,
          424100,
          151000,
          485400,
          358400,
          246000,
          4074600,
          1959600,
          1239900,
          1308700,
          2739100,
          465500,
          666000,
          818000,
          30419600,
          446100,
          1909800,
          1199600,
          5495650,
          5591700,
          1801600,
          462500,
          16452600,
          1707800,
          4398000,
          656300,
          3770250,
          6233600,
          1540000,
          2495800,
          112000,
          11848500,
          1410200,
          6577000,
          171000,
          278000,
          1861700,
          52761800,
          1405100,
          88000,
          300700,
          191000,
          1164500,
          277000,
          1126500,
          361000,
          449000,
          1338000,
          1150000,
          1213136,
          1281200,
          303200,
          32000,
          2225600,
          1046800,
          1097800,
          447500,
          163500,
          1409100,
          163000,
          4832200,
          2946600,
          392500,
          1614000,
          11435425,
          753100,
          1237000,
          163000,
          3241800,
          4152550,
          1576200,
          1099350,
          4923800,
          1704600,
          6028350,
          384000,
          3016200,
          1698200,
          223500,
          3682500,
          2775500,
          887050,
          257400,
          818500,
          266800,
          2441400,
          443500,
          427000,
          565000,
          918800,
          6098100,
          187500,
          1486000,
          2428600,
          2103300,
          2577900,
          276800,
          27000,
          464800,
          2278400,
          1966500,
          1874700,
          602500,
          670000,
          590500,
          94800,
          3558600,
          1267600,
          210500,
          2521600,
          447800,
          1354900,
          5045400,
          738300,
          1656200,
          2809800,
          3427800,
          425500,
          1093200,
          779400,
          111000,
          4515825,
          819900,
          1121200,
          1931400,
          200500,
          1321300,
          68000,
          103000,
          365600,
          4751950,
          4229300,
          6124500,
          3205900,
          11077900,
          1956000,
          4639650,
          163000,
          165500,
          2342000,
          3622800,
          1735800,
          759000,
          1286420,
          255700,
          542500,
          905000,
          42000,
          420000,
          1913600,
          3222350,
          558000,
          232500,
          2513000,
          413000,
          637000,
          1745400,
          1219500,
          4293600,
          1072400,
          536500,
          39646600,
          2049300,
          370000,
          1353050,
          32096900,
          36000,
          380000,
          1262000,
          1877250,
          213500,
          2102400,
          2040925,
          497600,
          3816200,
          1474880,
          1314200,
          893100,
          2103800,
          3246200,
          5663700,
          1700900,
          359500,
          1904200,
          145500,
          1029500,
          459900,
          333000,
          188000,
          1011000,
          1206150,
          688000,
          520400,
          578500,
          512000,
          2003400,
          704300,
          8384020,
          302500,
          494500,
          941300,
          483600,
          3002450,
          715900,
          1254500,
          557100,
          299500,
          1378300,
          2579950,
          5120811,
          1018200,
          494000,
          11605800,
          414100,
          439600,
          4558600,
          1461100,
          2140050,
          1010200,
          629000,
          1930500,
          4119990,
          3592750,
          1890400,
          725500,
          1743300,
          1294000,
          2767600,
          255000,
          968800,
          748300,
          1447950,
          5816700,
          392800,
          64000,
          5686900,
          4496250,
          3816000,
          3159575,
          592100,
          18000,
          98000,
          4862900,
          383000,
          5755700,
          4520300,
          2626850,
          442900,
          1560600,
          1924800,
          920000,
          743000,
          1088600,
          164000,
          638000,
          654900,
          29500,
          4538240,
          3893500,
          1539000,
          5355900,
          439800,
          1136400,
          789000,
          4076850,
          1372900,
          182500,
          2753100,
          858500,
          1034700,
          1136500,
          572700,
          3903500,
          929500,
          13613700,
          2163400,
          418800,
          1213000
         ],
         "xaxis": "x2",
         "yaxis": "y2"
        }
       ],
       "layout": {
        "barmode": "relative",
        "legend": {
         "title": {
          "text": "mrhst_induty_cl_nm"
         },
         "tracegroupgap": 0
        },
        "margin": {
         "t": 60
        },
        "template": {
         "data": {
          "bar": [
           {
            "error_x": {
             "color": "#2a3f5f"
            },
            "error_y": {
             "color": "#2a3f5f"
            },
            "marker": {
             "line": {
              "color": "#E5ECF6",
              "width": 0.5
             }
            },
            "type": "bar"
           }
          ],
          "barpolar": [
           {
            "marker": {
             "line": {
              "color": "#E5ECF6",
              "width": 0.5
             }
            },
            "type": "barpolar"
           }
          ],
          "carpet": [
           {
            "aaxis": {
             "endlinecolor": "#2a3f5f",
             "gridcolor": "white",
             "linecolor": "white",
             "minorgridcolor": "white",
             "startlinecolor": "#2a3f5f"
            },
            "baxis": {
             "endlinecolor": "#2a3f5f",
             "gridcolor": "white",
             "linecolor": "white",
             "minorgridcolor": "white",
             "startlinecolor": "#2a3f5f"
            },
            "type": "carpet"
           }
          ],
          "choropleth": [
           {
            "colorbar": {
             "outlinewidth": 0,
             "ticks": ""
            },
            "type": "choropleth"
           }
          ],
          "contour": [
           {
            "colorbar": {
             "outlinewidth": 0,
             "ticks": ""
            },
            "colorscale": [
             [
              0,
              "#0d0887"
             ],
             [
              0.1111111111111111,
              "#46039f"
             ],
             [
              0.2222222222222222,
              "#7201a8"
             ],
             [
              0.3333333333333333,
              "#9c179e"
             ],
             [
              0.4444444444444444,
              "#bd3786"
             ],
             [
              0.5555555555555556,
              "#d8576b"
             ],
             [
              0.6666666666666666,
              "#ed7953"
             ],
             [
              0.7777777777777778,
              "#fb9f3a"
             ],
             [
              0.8888888888888888,
              "#fdca26"
             ],
             [
              1,
              "#f0f921"
             ]
            ],
            "type": "contour"
           }
          ],
          "contourcarpet": [
           {
            "colorbar": {
             "outlinewidth": 0,
             "ticks": ""
            },
            "type": "contourcarpet"
           }
          ],
          "heatmap": [
           {
            "colorbar": {
             "outlinewidth": 0,
             "ticks": ""
            },
            "colorscale": [
             [
              0,
              "#0d0887"
             ],
             [
              0.1111111111111111,
              "#46039f"
             ],
             [
              0.2222222222222222,
              "#7201a8"
             ],
             [
              0.3333333333333333,
              "#9c179e"
             ],
             [
              0.4444444444444444,
              "#bd3786"
             ],
             [
              0.5555555555555556,
              "#d8576b"
             ],
             [
              0.6666666666666666,
              "#ed7953"
             ],
             [
              0.7777777777777778,
              "#fb9f3a"
             ],
             [
              0.8888888888888888,
              "#fdca26"
             ],
             [
              1,
              "#f0f921"
             ]
            ],
            "type": "heatmap"
           }
          ],
          "heatmapgl": [
           {
            "colorbar": {
             "outlinewidth": 0,
             "ticks": ""
            },
            "colorscale": [
             [
              0,
              "#0d0887"
             ],
             [
              0.1111111111111111,
              "#46039f"
             ],
             [
              0.2222222222222222,
              "#7201a8"
             ],
             [
              0.3333333333333333,
              "#9c179e"
             ],
             [
              0.4444444444444444,
              "#bd3786"
             ],
             [
              0.5555555555555556,
              "#d8576b"
             ],
             [
              0.6666666666666666,
              "#ed7953"
             ],
             [
              0.7777777777777778,
              "#fb9f3a"
             ],
             [
              0.8888888888888888,
              "#fdca26"
             ],
             [
              1,
              "#f0f921"
             ]
            ],
            "type": "heatmapgl"
           }
          ],
          "histogram": [
           {
            "marker": {
             "colorbar": {
              "outlinewidth": 0,
              "ticks": ""
             }
            },
            "type": "histogram"
           }
          ],
          "histogram2d": [
           {
            "colorbar": {
             "outlinewidth": 0,
             "ticks": ""
            },
            "colorscale": [
             [
              0,
              "#0d0887"
             ],
             [
              0.1111111111111111,
              "#46039f"
             ],
             [
              0.2222222222222222,
              "#7201a8"
             ],
             [
              0.3333333333333333,
              "#9c179e"
             ],
             [
              0.4444444444444444,
              "#bd3786"
             ],
             [
              0.5555555555555556,
              "#d8576b"
             ],
             [
              0.6666666666666666,
              "#ed7953"
             ],
             [
              0.7777777777777778,
              "#fb9f3a"
             ],
             [
              0.8888888888888888,
              "#fdca26"
             ],
             [
              1,
              "#f0f921"
             ]
            ],
            "type": "histogram2d"
           }
          ],
          "histogram2dcontour": [
           {
            "colorbar": {
             "outlinewidth": 0,
             "ticks": ""
            },
            "colorscale": [
             [
              0,
              "#0d0887"
             ],
             [
              0.1111111111111111,
              "#46039f"
             ],
             [
              0.2222222222222222,
              "#7201a8"
             ],
             [
              0.3333333333333333,
              "#9c179e"
             ],
             [
              0.4444444444444444,
              "#bd3786"
             ],
             [
              0.5555555555555556,
              "#d8576b"
             ],
             [
              0.6666666666666666,
              "#ed7953"
             ],
             [
              0.7777777777777778,
              "#fb9f3a"
             ],
             [
              0.8888888888888888,
              "#fdca26"
             ],
             [
              1,
              "#f0f921"
             ]
            ],
            "type": "histogram2dcontour"
           }
          ],
          "mesh3d": [
           {
            "colorbar": {
             "outlinewidth": 0,
             "ticks": ""
            },
            "type": "mesh3d"
           }
          ],
          "parcoords": [
           {
            "line": {
             "colorbar": {
              "outlinewidth": 0,
              "ticks": ""
             }
            },
            "type": "parcoords"
           }
          ],
          "pie": [
           {
            "automargin": true,
            "type": "pie"
           }
          ],
          "scatter": [
           {
            "marker": {
             "colorbar": {
              "outlinewidth": 0,
              "ticks": ""
             }
            },
            "type": "scatter"
           }
          ],
          "scatter3d": [
           {
            "line": {
             "colorbar": {
              "outlinewidth": 0,
              "ticks": ""
             }
            },
            "marker": {
             "colorbar": {
              "outlinewidth": 0,
              "ticks": ""
             }
            },
            "type": "scatter3d"
           }
          ],
          "scattercarpet": [
           {
            "marker": {
             "colorbar": {
              "outlinewidth": 0,
              "ticks": ""
             }
            },
            "type": "scattercarpet"
           }
          ],
          "scattergeo": [
           {
            "marker": {
             "colorbar": {
              "outlinewidth": 0,
              "ticks": ""
             }
            },
            "type": "scattergeo"
           }
          ],
          "scattergl": [
           {
            "marker": {
             "colorbar": {
              "outlinewidth": 0,
              "ticks": ""
             }
            },
            "type": "scattergl"
           }
          ],
          "scattermapbox": [
           {
            "marker": {
             "colorbar": {
              "outlinewidth": 0,
              "ticks": ""
             }
            },
            "type": "scattermapbox"
           }
          ],
          "scatterpolar": [
           {
            "marker": {
             "colorbar": {
              "outlinewidth": 0,
              "ticks": ""
             }
            },
            "type": "scatterpolar"
           }
          ],
          "scatterpolargl": [
           {
            "marker": {
             "colorbar": {
              "outlinewidth": 0,
              "ticks": ""
             }
            },
            "type": "scatterpolargl"
           }
          ],
          "scatterternary": [
           {
            "marker": {
             "colorbar": {
              "outlinewidth": 0,
              "ticks": ""
             }
            },
            "type": "scatterternary"
           }
          ],
          "surface": [
           {
            "colorbar": {
             "outlinewidth": 0,
             "ticks": ""
            },
            "colorscale": [
             [
              0,
              "#0d0887"
             ],
             [
              0.1111111111111111,
              "#46039f"
             ],
             [
              0.2222222222222222,
              "#7201a8"
             ],
             [
              0.3333333333333333,
              "#9c179e"
             ],
             [
              0.4444444444444444,
              "#bd3786"
             ],
             [
              0.5555555555555556,
              "#d8576b"
             ],
             [
              0.6666666666666666,
              "#ed7953"
             ],
             [
              0.7777777777777778,
              "#fb9f3a"
             ],
             [
              0.8888888888888888,
              "#fdca26"
             ],
             [
              1,
              "#f0f921"
             ]
            ],
            "type": "surface"
           }
          ],
          "table": [
           {
            "cells": {
             "fill": {
              "color": "#EBF0F8"
             },
             "line": {
              "color": "white"
             }
            },
            "header": {
             "fill": {
              "color": "#C8D4E3"
             },
             "line": {
              "color": "white"
             }
            },
            "type": "table"
           }
          ]
         },
         "layout": {
          "annotationdefaults": {
           "arrowcolor": "#2a3f5f",
           "arrowhead": 0,
           "arrowwidth": 1
          },
          "coloraxis": {
           "colorbar": {
            "outlinewidth": 0,
            "ticks": ""
           }
          },
          "colorscale": {
           "diverging": [
            [
             0,
             "#8e0152"
            ],
            [
             0.1,
             "#c51b7d"
            ],
            [
             0.2,
             "#de77ae"
            ],
            [
             0.3,
             "#f1b6da"
            ],
            [
             0.4,
             "#fde0ef"
            ],
            [
             0.5,
             "#f7f7f7"
            ],
            [
             0.6,
             "#e6f5d0"
            ],
            [
             0.7,
             "#b8e186"
            ],
            [
             0.8,
             "#7fbc41"
            ],
            [
             0.9,
             "#4d9221"
            ],
            [
             1,
             "#276419"
            ]
           ],
           "sequential": [
            [
             0,
             "#0d0887"
            ],
            [
             0.1111111111111111,
             "#46039f"
            ],
            [
             0.2222222222222222,
             "#7201a8"
            ],
            [
             0.3333333333333333,
             "#9c179e"
            ],
            [
             0.4444444444444444,
             "#bd3786"
            ],
            [
             0.5555555555555556,
             "#d8576b"
            ],
            [
             0.6666666666666666,
             "#ed7953"
            ],
            [
             0.7777777777777778,
             "#fb9f3a"
            ],
            [
             0.8888888888888888,
             "#fdca26"
            ],
            [
             1,
             "#f0f921"
            ]
           ],
           "sequentialminus": [
            [
             0,
             "#0d0887"
            ],
            [
             0.1111111111111111,
             "#46039f"
            ],
            [
             0.2222222222222222,
             "#7201a8"
            ],
            [
             0.3333333333333333,
             "#9c179e"
            ],
            [
             0.4444444444444444,
             "#bd3786"
            ],
            [
             0.5555555555555556,
             "#d8576b"
            ],
            [
             0.6666666666666666,
             "#ed7953"
            ],
            [
             0.7777777777777778,
             "#fb9f3a"
            ],
            [
             0.8888888888888888,
             "#fdca26"
            ],
            [
             1,
             "#f0f921"
            ]
           ]
          },
          "colorway": [
           "#636efa",
           "#EF553B",
           "#00cc96",
           "#ab63fa",
           "#FFA15A",
           "#19d3f3",
           "#FF6692",
           "#B6E880",
           "#FF97FF",
           "#FECB52"
          ],
          "font": {
           "color": "#2a3f5f"
          },
          "geo": {
           "bgcolor": "white",
           "lakecolor": "white",
           "landcolor": "#E5ECF6",
           "showlakes": true,
           "showland": true,
           "subunitcolor": "white"
          },
          "hoverlabel": {
           "align": "left"
          },
          "hovermode": "closest",
          "mapbox": {
           "style": "light"
          },
          "paper_bgcolor": "white",
          "plot_bgcolor": "#E5ECF6",
          "polar": {
           "angularaxis": {
            "gridcolor": "white",
            "linecolor": "white",
            "ticks": ""
           },
           "bgcolor": "#E5ECF6",
           "radialaxis": {
            "gridcolor": "white",
            "linecolor": "white",
            "ticks": ""
           }
          },
          "scene": {
           "xaxis": {
            "backgroundcolor": "#E5ECF6",
            "gridcolor": "white",
            "gridwidth": 2,
            "linecolor": "white",
            "showbackground": true,
            "ticks": "",
            "zerolinecolor": "white"
           },
           "yaxis": {
            "backgroundcolor": "#E5ECF6",
            "gridcolor": "white",
            "gridwidth": 2,
            "linecolor": "white",
            "showbackground": true,
            "ticks": "",
            "zerolinecolor": "white"
           },
           "zaxis": {
            "backgroundcolor": "#E5ECF6",
            "gridcolor": "white",
            "gridwidth": 2,
            "linecolor": "white",
            "showbackground": true,
            "ticks": "",
            "zerolinecolor": "white"
           }
          },
          "shapedefaults": {
           "line": {
            "color": "#2a3f5f"
           }
          },
          "ternary": {
           "aaxis": {
            "gridcolor": "white",
            "linecolor": "white",
            "ticks": ""
           },
           "baxis": {
            "gridcolor": "white",
            "linecolor": "white",
            "ticks": ""
           },
           "bgcolor": "#E5ECF6",
           "caxis": {
            "gridcolor": "white",
            "linecolor": "white",
            "ticks": ""
           }
          },
          "title": {
           "x": 0.05
          },
          "xaxis": {
           "automargin": true,
           "gridcolor": "white",
           "linecolor": "white",
           "ticks": "",
           "title": {
            "standoff": 15
           },
           "zerolinecolor": "white",
           "zerolinewidth": 2
          },
          "yaxis": {
           "automargin": true,
           "gridcolor": "white",
           "linecolor": "white",
           "ticks": "",
           "title": {
            "standoff": 15
           },
           "zerolinecolor": "white",
           "zerolinewidth": 2
          }
         }
        },
        "xaxis": {
         "anchor": "y",
         "domain": [
          0,
          1
         ],
         "title": {
          "text": "salamt"
         }
        },
        "xaxis2": {
         "anchor": "y2",
         "domain": [
          0,
          1
         ],
         "matches": "x",
         "showgrid": true,
         "showticklabels": false
        },
        "yaxis": {
         "anchor": "x",
         "domain": [
          0,
          0.7326
         ],
         "title": {
          "text": "count of selng_cascnt"
         }
        },
        "yaxis2": {
         "anchor": "x2",
         "domain": [
          0.7426,
          1
         ],
         "matches": "y2",
         "showgrid": false,
         "showline": false,
         "showticklabels": false,
         "ticks": ""
        }
       }
      },
      "text/html": [
       "<div>\n",
       "        \n",
       "        \n",
       "            <div id=\"f54d16ce-637e-4357-a26c-e63807744cbc\" class=\"plotly-graph-div\" style=\"height:525px; width:100%;\"></div>\n",
       "            <script type=\"text/javascript\">\n",
       "                require([\"plotly\"], function(Plotly) {\n",
       "                    window.PLOTLYENV=window.PLOTLYENV || {};\n",
       "                    \n",
       "                if (document.getElementById(\"f54d16ce-637e-4357-a26c-e63807744cbc\")) {\n",
       "                    Plotly.newPlot(\n",
       "                        'f54d16ce-637e-4357-a26c-e63807744cbc',\n",
       "                        [{\"alignmentgroup\": \"True\", \"bingroup\": \"x\", \"hoverlabel\": {\"namelength\": 0}, \"hovertemplate\": \"mrhst_induty_cl_nm=\\uce75\\ud14c\\uc77c\\ubc14<br>salamt=%{x}<br>count of selng_cascnt=%{y}\", \"legendgroup\": \"\\uce75\\ud14c\\uc77c\\ubc14\", \"marker\": {\"color\": \"#636efa\"}, \"name\": \"\\uce75\\ud14c\\uc77c\\ubc14\", \"offsetgroup\": \"\\uce75\\ud14c\\uc77c\\ubc14\", \"orientation\": \"v\", \"showlegend\": true, \"type\": \"histogram\", \"x\": [988300, 2679600, 866500, 235200, 30000, 99000, 130700, 17000, 35000, 48000, 149500, 57500, 28000, 328600, 1811700, 225000, 246000, 170000, 162000, 285245, 129000, 255900, 32000, 620000, 90000, 40000, 265000, 35900, 56000, 34000, 2468000, 63000, 102500, 120000, 540000, 738000, 142000, 10000, 660600, 25000, 1287900, 2939800, 634500, 197500, 113500, 1651700, 424000, 42500, 660000, 3039100, 20000, 268900, 184000, 167000, 632200, 131000, 61500, 567800, 48000, 287000, 153800, 128000, 896000, 28000, 31000, 4000, 1215000, 916000, 220000, 58000, 865500, 31000, 74000, 60500, 124000, 1268800, 131000, 409000, 1200000, 1435000, 148500, 343000, 259000, 45000, 558500, 63000, 107000, 25000, 6000, 33000, 400000, 150000, 294000, 187000, 380000, 208000, 386200, 116500, 247000, 1461000, 13000, 119000, 81000, 76000, 68000, 4673500, 168400, 20000, 990000, 92000, 337000, 769500, 480900, 306500, 242500, 356000, 75000, 231079, 138500, 25000, 579000, 51000, 50000, 1436800, 421000, 84500, 108000, 612100, 67000, 110000, 93000, 1760600, 127500, 35000, 176000, 180000, 92000, 95600, 326000, 1431500, 148000, 95000, 104000, 50000, 570000, 513000, 115000, 50000, 150000, 142000, 1906500, 241000, 153000, 312500, 128000, 797000, 329000, 122000, 1324200, 2293066, 43000, 194500, 739000, 18000, 644000, 47000, 221600, 193900, 223000, 100000, 57200, 95000, 229000, 391000, 9500, 60000, 420000, 60000, 586200, 108500, 1427400, 2016000, 17000, 69000, 58000, 62000, 142000, 48000, 383000, 779900, 14000, 210000, 24500, 70000, 150000, 180000, 253000, 318600, 353800, 633700, 1124450, 197000, 18000, 158000, 553000, 685850, 218000, 129000, 122000, 103000, 53000, 880000, 65000, 50000, 443000, 369000, 551000, 5445950, 110000, 47800, 68000, 83000, 100000, 174000, 17000, 165500, 84000, 23000, 31000, 242000, 1080000, 117000, 175000, 58000, 95400, 714600, 578300, 6266200, 60000, 705000, 50000, 265000, 16000, 300000, 365000, 17000, 403000, 725800, 84000, 199000, 51000, 200000, 262000, 40000, 311500, 40000, 112000, 278000, 22000, 100000], \"xaxis\": \"x\", \"y\": [22, 106, 25, 10, 1, 4, 7, 1, 2, 3, 9, 2, 1, 11, 62, 3, 4, 4, 3, 15, 3, 9, 1, 3, 1, 1, 3, 1, 1, 10, 17, 1, 4, 1, 10, 6, 10, 1, 24, 1, 28, 26, 18, 11, 3, 14, 1, 1, 14, 83, 1, 9, 2, 5, 16, 6, 2, 14, 4, 6, 3, 3, 13, 1, 1, 2, 24, 19, 1, 1, 47, 1, 1, 3, 4, 10, 3, 14, 4, 5, 4, 15, 8, 2, 5, 2, 6, 1, 1, 1, 3, 7, 5, 7, 4, 23, 15, 6, 4, 7, 1, 3, 4, 2, 3, 27, 6, 1, 3, 1, 7, 29, 10, 34, 5, 11, 6, 6, 5, 1, 19, 1, 1, 74, 7, 3, 6, 20, 3, 2, 3, 64, 7, 2, 5, 1, 1, 3, 3, 30, 5, 5, 1, 1, 3, 5, 3, 1, 1, 4, 11, 4, 3, 8, 6, 16, 4, 3, 24, 32, 2, 3, 27, 1, 2, 1, 3, 5, 4, 1, 2, 3, 11, 18, 1, 2, 17, 1, 9, 10, 29, 7, 1, 2, 3, 4, 5, 2, 2, 15, 1, 1, 1, 2, 3, 1, 6, 9, 6, 13, 22, 6, 1, 5, 6, 16, 22, 2, 3, 2, 1, 10, 2, 1, 18, 2, 6, 22, 1, 2, 1, 2, 1, 6, 2, 6, 3, 1, 1, 12, 2, 3, 3, 2, 3, 21, 13, 19, 1, 10, 1, 2, 1, 1, 6, 1, 12, 16, 2, 1, 1, 1, 3, 1, 9, 1, 2, 13, 1, 4], \"yaxis\": \"y\"}, {\"alignmentgroup\": \"True\", \"hoverlabel\": {\"namelength\": 0}, \"hovertemplate\": \"mrhst_induty_cl_nm=\\uce75\\ud14c\\uc77c\\ubc14<br>salamt=%{x}\", \"legendgroup\": \"\\uce75\\ud14c\\uc77c\\ubc14\", \"marker\": {\"color\": \"#636efa\"}, \"name\": \"\\uce75\\ud14c\\uc77c\\ubc14\", \"notched\": true, \"offsetgroup\": \"\\uce75\\ud14c\\uc77c\\ubc14\", \"showlegend\": false, \"type\": \"box\", \"x\": [988300, 2679600, 866500, 235200, 30000, 99000, 130700, 17000, 35000, 48000, 149500, 57500, 28000, 328600, 1811700, 225000, 246000, 170000, 162000, 285245, 129000, 255900, 32000, 620000, 90000, 40000, 265000, 35900, 56000, 34000, 2468000, 63000, 102500, 120000, 540000, 738000, 142000, 10000, 660600, 25000, 1287900, 2939800, 634500, 197500, 113500, 1651700, 424000, 42500, 660000, 3039100, 20000, 268900, 184000, 167000, 632200, 131000, 61500, 567800, 48000, 287000, 153800, 128000, 896000, 28000, 31000, 4000, 1215000, 916000, 220000, 58000, 865500, 31000, 74000, 60500, 124000, 1268800, 131000, 409000, 1200000, 1435000, 148500, 343000, 259000, 45000, 558500, 63000, 107000, 25000, 6000, 33000, 400000, 150000, 294000, 187000, 380000, 208000, 386200, 116500, 247000, 1461000, 13000, 119000, 81000, 76000, 68000, 4673500, 168400, 20000, 990000, 92000, 337000, 769500, 480900, 306500, 242500, 356000, 75000, 231079, 138500, 25000, 579000, 51000, 50000, 1436800, 421000, 84500, 108000, 612100, 67000, 110000, 93000, 1760600, 127500, 35000, 176000, 180000, 92000, 95600, 326000, 1431500, 148000, 95000, 104000, 50000, 570000, 513000, 115000, 50000, 150000, 142000, 1906500, 241000, 153000, 312500, 128000, 797000, 329000, 122000, 1324200, 2293066, 43000, 194500, 739000, 18000, 644000, 47000, 221600, 193900, 223000, 100000, 57200, 95000, 229000, 391000, 9500, 60000, 420000, 60000, 586200, 108500, 1427400, 2016000, 17000, 69000, 58000, 62000, 142000, 48000, 383000, 779900, 14000, 210000, 24500, 70000, 150000, 180000, 253000, 318600, 353800, 633700, 1124450, 197000, 18000, 158000, 553000, 685850, 218000, 129000, 122000, 103000, 53000, 880000, 65000, 50000, 443000, 369000, 551000, 5445950, 110000, 47800, 68000, 83000, 100000, 174000, 17000, 165500, 84000, 23000, 31000, 242000, 1080000, 117000, 175000, 58000, 95400, 714600, 578300, 6266200, 60000, 705000, 50000, 265000, 16000, 300000, 365000, 17000, 403000, 725800, 84000, 199000, 51000, 200000, 262000, 40000, 311500, 40000, 112000, 278000, 22000, 100000], \"xaxis\": \"x2\", \"yaxis\": \"y2\"}, {\"alignmentgroup\": \"True\", \"bingroup\": \"x\", \"hoverlabel\": {\"namelength\": 0}, \"hovertemplate\": \"mrhst_induty_cl_nm=\\uc8fc\\uc810<br>salamt=%{x}<br>count of selng_cascnt=%{y}\", \"legendgroup\": \"\\uc8fc\\uc810\", \"marker\": {\"color\": \"#EF553B\"}, \"name\": \"\\uc8fc\\uc810\", \"offsetgroup\": \"\\uc8fc\\uc810\", \"orientation\": \"v\", \"showlegend\": true, \"type\": \"histogram\", \"x\": [2475150, 3750000, 1324100, 390500, 1357300, 974100, 1000600, 2286400, 1124000, 1991300, 516800, 7531300, 589700, 497000, 8141915, 1304900, 1229000, 2224200, 1309100, 1699400, 4830900, 1104900, 1596200, 2893500, 3996500, 6237700, 742000, 1422400, 510000, 6412000, 989500, 2316400, 2654100, 714400, 3401500, 1901700, 2201400, 615200, 727100, 2297400, 443000, 2987000, 1213400, 2747500, 1695700, 1399900, 663000, 1613100, 4439100, 1604200, 4889100, 7503920, 3590140, 1334700, 1243500, 1264800, 601200, 735800, 3935780, 2682500, 397000, 1299000, 5280200, 400000, 1768100, 1437800, 735900, 1220000, 4374083, 994700, 1961250, 2147900, 1600200, 1107000, 32900, 1283000, 1034200, 2600100, 309400, 724400, 1640000, 32000, 1111200, 356600, 509500, 177000, 1507200, 1818800, 3415100, 248300, 6160790, 655500, 1563600, 3097300, 745800, 2901450, 1934200, 478000, 434000, 1744500, 988000, 2305500, 826400, 8245900, 4808400, 308600, 5318400, 24595310, 3299300, 33043018, 416000, 436000, 7834625, 1182900, 3356000, 2977050, 365400, 1447450, 4250600, 668500, 9208820, 904000, 815600, 5870000, 434000, 742500, 1528910, 1685900, 2163200, 775900, 969500, 94000, 1262260, 653000, 366900, 1214000, 2767800, 2393500, 2231790, 580900, 1255000, 875900, 1223800, 528000, 263500, 432000, 1062000, 8094890, 1226000, 1542300, 440000, 4786100, 635000, 447900, 5002100, 3836400, 3787100, 3779600, 988300, 2151300, 22703900, 1582800, 2340300, 1213000, 2414150, 1784500, 2364720, 823500, 710500, 30000, 4376300, 822500, 231500, 191100, 702900, 871500, 123700, 949000, 519000, 3222400, 281900, 59000, 282500, 265000, 60000, 2976900, 584300, 859600, 832800, 957200, 969000, 1092000, 7678050, 281500, 638250, 2379700, 1301500, 461400, 479500, 35926410, 460000, 280000, 665100, 1263400, 368000, 1712100, 1312600, 4517680, 712000, 213000, 1017300, 1845300, 1107900, 2171600, 874600, 2185400, 971500, 710100, 55000, 4857200, 223400, 589500, 269000, 1768400, 999850, 128000, 3100310, 2101800, 1775200, 6933020, 2228300, 756900, 844200, 1417170, 1236100, 1197700, 863600, 3331600, 748500, 422000, 842400, 752000, 2287500, 948420, 18492600, 1109200, 1149200, 3113500, 52000, 2628100, 1682000, 2208000, 2410850, 1641500, 6053700, 3848900, 4670700, 13720045, 965000, 1842000, 1221200, 1438700, 1042440, 11319525, 1014000, 30000, 6066080, 675000, 1263400, 304000, 3264400, 315000, 11567600, 612900, 8108300, 3689800, 2161600, 598600, 2855800, 5789940, 368800, 349200, 5092150, 422600, 302300, 1047400, 2743790, 406000, 1465000, 687000, 2033190, 8355500, 319000, 259400, 1109600, 1135040, 7176600, 762300, 828500, 18500, 836000, 2414600, 6281700, 578200, 872100, 862000, 1103800, 2916900, 1780000, 980700, 16728250, 1125400, 3120000, 7984827, 2113500, 3846000, 885900, 535000, 828000, 630200, 953900, 435000, 1807500, 1844000, 291500, 831000, 435500, 940100, 1101000, 2065200, 14000, 1562600, 133000, 586900, 2139200, 1100000, 2576800, 1251300, 991000, 520500, 2181000, 906000, 1717300, 306500, 115000, 2578300, 770500, 594800, 3149500, 5514950, 1471825, 12758450, 2326300, 2924160, 560000, 1271500, 2525900, 589000, 424100, 151000, 485400, 358400, 246000, 4074600, 1959600, 1239900, 1308700, 2739100, 465500, 666000, 818000, 30419600, 446100, 1909800, 1199600, 5495650, 5591700, 1801600, 462500, 16452600, 1707800, 4398000, 656300, 3770250, 6233600, 1540000, 2495800, 112000, 11848500, 1410200, 6577000, 171000, 278000, 1861700, 52761800, 1405100, 88000, 300700, 191000, 1164500, 277000, 1126500, 361000, 449000, 1338000, 1150000, 1213136, 1281200, 303200, 32000, 2225600, 1046800, 1097800, 447500, 163500, 1409100, 163000, 4832200, 2946600, 392500, 1614000, 11435425, 753100, 1237000, 163000, 3241800, 4152550, 1576200, 1099350, 4923800, 1704600, 6028350, 384000, 3016200, 1698200, 223500, 3682500, 2775500, 887050, 257400, 818500, 266800, 2441400, 443500, 427000, 565000, 918800, 6098100, 187500, 1486000, 2428600, 2103300, 2577900, 276800, 27000, 464800, 2278400, 1966500, 1874700, 602500, 670000, 590500, 94800, 3558600, 1267600, 210500, 2521600, 447800, 1354900, 5045400, 738300, 1656200, 2809800, 3427800, 425500, 1093200, 779400, 111000, 4515825, 819900, 1121200, 1931400, 200500, 1321300, 68000, 103000, 365600, 4751950, 4229300, 6124500, 3205900, 11077900, 1956000, 4639650, 163000, 165500, 2342000, 3622800, 1735800, 759000, 1286420, 255700, 542500, 905000, 42000, 420000, 1913600, 3222350, 558000, 232500, 2513000, 413000, 637000, 1745400, 1219500, 4293600, 1072400, 536500, 39646600, 2049300, 370000, 1353050, 32096900, 36000, 380000, 1262000, 1877250, 213500, 2102400, 2040925, 497600, 3816200, 1474880, 1314200, 893100, 2103800, 3246200, 5663700, 1700900, 359500, 1904200, 145500, 1029500, 459900, 333000, 188000, 1011000, 1206150, 688000, 520400, 578500, 512000, 2003400, 704300, 8384020, 302500, 494500, 941300, 483600, 3002450, 715900, 1254500, 557100, 299500, 1378300, 2579950, 5120811, 1018200, 494000, 11605800, 414100, 439600, 4558600, 1461100, 2140050, 1010200, 629000, 1930500, 4119990, 3592750, 1890400, 725500, 1743300, 1294000, 2767600, 255000, 968800, 748300, 1447950, 5816700, 392800, 64000, 5686900, 4496250, 3816000, 3159575, 592100, 18000, 98000, 4862900, 383000, 5755700, 4520300, 2626850, 442900, 1560600, 1924800, 920000, 743000, 1088600, 164000, 638000, 654900, 29500, 4538240, 3893500, 1539000, 5355900, 439800, 1136400, 789000, 4076850, 1372900, 182500, 2753100, 858500, 1034700, 1136500, 572700, 3903500, 929500, 13613700, 2163400, 418800, 1213000], \"xaxis\": \"x\", \"y\": [67, 99, 44, 13, 45, 18, 18, 88, 10, 49, 16, 178, 16, 16, 237, 39, 42, 54, 39, 30, 133, 23, 47, 65, 93, 124, 20, 44, 15, 160, 30, 50, 64, 28, 87, 52, 61, 21, 30, 87, 17, 77, 20, 74, 45, 34, 17, 49, 132, 43, 114, 140, 101, 31, 48, 46, 33, 18, 73, 104, 10, 43, 129, 14, 39, 43, 23, 41, 124, 23, 42, 39, 44, 32, 3, 45, 23, 36, 13, 25, 8, 1, 29, 10, 21, 7, 24, 48, 87, 9, 131, 22, 45, 70, 32, 66, 47, 20, 9, 40, 17, 58, 23, 76, 102, 11, 160, 641, 35, 908, 19, 17, 211, 32, 65, 66, 13, 53, 99, 18, 86, 14, 17, 155, 13, 27, 30, 35, 46, 19, 31, 3, 48, 15, 13, 43, 103, 54, 62, 34, 30, 17, 21, 17, 11, 21, 30, 156, 26, 44, 15, 117, 19, 20, 99, 99, 88, 94, 25, 21, 184, 44, 61, 16, 75, 50, 44, 29, 14, 1, 128, 23, 10, 6, 13, 12, 3, 35, 17, 75, 7, 2, 9, 13, 1, 67, 16, 19, 22, 41, 31, 21, 266, 9, 19, 26, 30, 15, 12, 334, 11, 8, 22, 31, 12, 38, 43, 126, 37, 6, 23, 64, 31, 53, 24, 61, 35, 27, 2, 33, 9, 12, 5, 52, 38, 6, 97, 73, 43, 188, 67, 44, 23, 47, 39, 28, 30, 84, 37, 13, 26, 15, 58, 31, 95, 32, 33, 92, 1, 38, 27, 60, 72, 47, 118, 106, 143, 221, 23, 41, 31, 39, 31, 225, 32, 1, 119, 17, 51, 8, 85, 12, 295, 18, 172, 52, 58, 20, 77, 110, 30, 6, 106, 14, 12, 25, 46, 15, 16, 20, 56, 167, 7, 9, 42, 37, 170, 19, 29, 1, 17, 57, 129, 21, 21, 16, 38, 89, 47, 33, 461, 32, 72, 158, 51, 103, 31, 17, 22, 23, 23, 12, 50, 29, 11, 34, 12, 24, 41, 46, 1, 54, 5, 21, 80, 24, 55, 42, 14, 21, 39, 35, 68, 11, 4, 85, 25, 21, 79, 143, 44, 324, 73, 65, 25, 35, 68, 11, 18, 7, 18, 16, 6, 129, 43, 38, 27, 63, 8, 18, 21, 769, 18, 65, 45, 139, 41, 54, 13, 403, 59, 122, 20, 81, 160, 24, 52, 3, 107, 22, 129, 8, 8, 55, 187, 39, 2, 8, 7, 32, 10, 27, 15, 11, 37, 46, 29, 31, 13, 1, 59, 13, 33, 14, 5, 52, 5, 145, 89, 12, 18, 225, 20, 36, 5, 31, 65, 40, 46, 118, 47, 139, 15, 91, 55, 10, 106, 28, 29, 8, 19, 8, 72, 12, 19, 11, 18, 83, 6, 33, 66, 56, 71, 9, 2, 12, 44, 52, 41, 22, 17, 22, 2, 61, 35, 10, 71, 18, 33, 46, 23, 52, 89, 45, 18, 30, 10, 4, 147, 18, 38, 50, 6, 36, 2, 2, 11, 134, 105, 80, 100, 226, 32, 99, 5, 9, 41, 86, 56, 17, 37, 10, 15, 26, 2, 19, 55, 93, 24, 7, 21, 9, 18, 40, 40, 110, 36, 18, 206, 37, 12, 29, 330, 1, 17, 39, 53, 8, 55, 42, 23, 98, 30, 50, 49, 55, 85, 76, 47, 12, 57, 4, 31, 17, 7, 7, 24, 33, 21, 14, 16, 20, 42, 11, 203, 11, 25, 28, 18, 93, 21, 43, 19, 8, 43, 92, 137, 44, 17, 194, 14, 11, 117, 41, 61, 26, 22, 29, 104, 105, 51, 21, 72, 39, 98, 6, 28, 15, 43, 110, 9, 3, 60, 76, 49, 55, 19, 1, 1, 107, 14, 87, 126, 69, 10, 41, 50, 26, 21, 29, 4, 17, 30, 2, 156, 126, 42, 78, 14, 24, 24, 64, 33, 3, 63, 21, 23, 37, 21, 102, 26, 180, 53, 15, 22], \"yaxis\": \"y\"}, {\"alignmentgroup\": \"True\", \"hoverlabel\": {\"namelength\": 0}, \"hovertemplate\": \"mrhst_induty_cl_nm=\\uc8fc\\uc810<br>salamt=%{x}\", \"legendgroup\": \"\\uc8fc\\uc810\", \"marker\": {\"color\": \"#EF553B\"}, \"name\": \"\\uc8fc\\uc810\", \"notched\": true, \"offsetgroup\": \"\\uc8fc\\uc810\", \"showlegend\": false, \"type\": \"box\", \"x\": [2475150, 3750000, 1324100, 390500, 1357300, 974100, 1000600, 2286400, 1124000, 1991300, 516800, 7531300, 589700, 497000, 8141915, 1304900, 1229000, 2224200, 1309100, 1699400, 4830900, 1104900, 1596200, 2893500, 3996500, 6237700, 742000, 1422400, 510000, 6412000, 989500, 2316400, 2654100, 714400, 3401500, 1901700, 2201400, 615200, 727100, 2297400, 443000, 2987000, 1213400, 2747500, 1695700, 1399900, 663000, 1613100, 4439100, 1604200, 4889100, 7503920, 3590140, 1334700, 1243500, 1264800, 601200, 735800, 3935780, 2682500, 397000, 1299000, 5280200, 400000, 1768100, 1437800, 735900, 1220000, 4374083, 994700, 1961250, 2147900, 1600200, 1107000, 32900, 1283000, 1034200, 2600100, 309400, 724400, 1640000, 32000, 1111200, 356600, 509500, 177000, 1507200, 1818800, 3415100, 248300, 6160790, 655500, 1563600, 3097300, 745800, 2901450, 1934200, 478000, 434000, 1744500, 988000, 2305500, 826400, 8245900, 4808400, 308600, 5318400, 24595310, 3299300, 33043018, 416000, 436000, 7834625, 1182900, 3356000, 2977050, 365400, 1447450, 4250600, 668500, 9208820, 904000, 815600, 5870000, 434000, 742500, 1528910, 1685900, 2163200, 775900, 969500, 94000, 1262260, 653000, 366900, 1214000, 2767800, 2393500, 2231790, 580900, 1255000, 875900, 1223800, 528000, 263500, 432000, 1062000, 8094890, 1226000, 1542300, 440000, 4786100, 635000, 447900, 5002100, 3836400, 3787100, 3779600, 988300, 2151300, 22703900, 1582800, 2340300, 1213000, 2414150, 1784500, 2364720, 823500, 710500, 30000, 4376300, 822500, 231500, 191100, 702900, 871500, 123700, 949000, 519000, 3222400, 281900, 59000, 282500, 265000, 60000, 2976900, 584300, 859600, 832800, 957200, 969000, 1092000, 7678050, 281500, 638250, 2379700, 1301500, 461400, 479500, 35926410, 460000, 280000, 665100, 1263400, 368000, 1712100, 1312600, 4517680, 712000, 213000, 1017300, 1845300, 1107900, 2171600, 874600, 2185400, 971500, 710100, 55000, 4857200, 223400, 589500, 269000, 1768400, 999850, 128000, 3100310, 2101800, 1775200, 6933020, 2228300, 756900, 844200, 1417170, 1236100, 1197700, 863600, 3331600, 748500, 422000, 842400, 752000, 2287500, 948420, 18492600, 1109200, 1149200, 3113500, 52000, 2628100, 1682000, 2208000, 2410850, 1641500, 6053700, 3848900, 4670700, 13720045, 965000, 1842000, 1221200, 1438700, 1042440, 11319525, 1014000, 30000, 6066080, 675000, 1263400, 304000, 3264400, 315000, 11567600, 612900, 8108300, 3689800, 2161600, 598600, 2855800, 5789940, 368800, 349200, 5092150, 422600, 302300, 1047400, 2743790, 406000, 1465000, 687000, 2033190, 8355500, 319000, 259400, 1109600, 1135040, 7176600, 762300, 828500, 18500, 836000, 2414600, 6281700, 578200, 872100, 862000, 1103800, 2916900, 1780000, 980700, 16728250, 1125400, 3120000, 7984827, 2113500, 3846000, 885900, 535000, 828000, 630200, 953900, 435000, 1807500, 1844000, 291500, 831000, 435500, 940100, 1101000, 2065200, 14000, 1562600, 133000, 586900, 2139200, 1100000, 2576800, 1251300, 991000, 520500, 2181000, 906000, 1717300, 306500, 115000, 2578300, 770500, 594800, 3149500, 5514950, 1471825, 12758450, 2326300, 2924160, 560000, 1271500, 2525900, 589000, 424100, 151000, 485400, 358400, 246000, 4074600, 1959600, 1239900, 1308700, 2739100, 465500, 666000, 818000, 30419600, 446100, 1909800, 1199600, 5495650, 5591700, 1801600, 462500, 16452600, 1707800, 4398000, 656300, 3770250, 6233600, 1540000, 2495800, 112000, 11848500, 1410200, 6577000, 171000, 278000, 1861700, 52761800, 1405100, 88000, 300700, 191000, 1164500, 277000, 1126500, 361000, 449000, 1338000, 1150000, 1213136, 1281200, 303200, 32000, 2225600, 1046800, 1097800, 447500, 163500, 1409100, 163000, 4832200, 2946600, 392500, 1614000, 11435425, 753100, 1237000, 163000, 3241800, 4152550, 1576200, 1099350, 4923800, 1704600, 6028350, 384000, 3016200, 1698200, 223500, 3682500, 2775500, 887050, 257400, 818500, 266800, 2441400, 443500, 427000, 565000, 918800, 6098100, 187500, 1486000, 2428600, 2103300, 2577900, 276800, 27000, 464800, 2278400, 1966500, 1874700, 602500, 670000, 590500, 94800, 3558600, 1267600, 210500, 2521600, 447800, 1354900, 5045400, 738300, 1656200, 2809800, 3427800, 425500, 1093200, 779400, 111000, 4515825, 819900, 1121200, 1931400, 200500, 1321300, 68000, 103000, 365600, 4751950, 4229300, 6124500, 3205900, 11077900, 1956000, 4639650, 163000, 165500, 2342000, 3622800, 1735800, 759000, 1286420, 255700, 542500, 905000, 42000, 420000, 1913600, 3222350, 558000, 232500, 2513000, 413000, 637000, 1745400, 1219500, 4293600, 1072400, 536500, 39646600, 2049300, 370000, 1353050, 32096900, 36000, 380000, 1262000, 1877250, 213500, 2102400, 2040925, 497600, 3816200, 1474880, 1314200, 893100, 2103800, 3246200, 5663700, 1700900, 359500, 1904200, 145500, 1029500, 459900, 333000, 188000, 1011000, 1206150, 688000, 520400, 578500, 512000, 2003400, 704300, 8384020, 302500, 494500, 941300, 483600, 3002450, 715900, 1254500, 557100, 299500, 1378300, 2579950, 5120811, 1018200, 494000, 11605800, 414100, 439600, 4558600, 1461100, 2140050, 1010200, 629000, 1930500, 4119990, 3592750, 1890400, 725500, 1743300, 1294000, 2767600, 255000, 968800, 748300, 1447950, 5816700, 392800, 64000, 5686900, 4496250, 3816000, 3159575, 592100, 18000, 98000, 4862900, 383000, 5755700, 4520300, 2626850, 442900, 1560600, 1924800, 920000, 743000, 1088600, 164000, 638000, 654900, 29500, 4538240, 3893500, 1539000, 5355900, 439800, 1136400, 789000, 4076850, 1372900, 182500, 2753100, 858500, 1034700, 1136500, 572700, 3903500, 929500, 13613700, 2163400, 418800, 1213000], \"xaxis\": \"x2\", \"yaxis\": \"y2\"}],\n",
       "                        {\"barmode\": \"relative\", \"legend\": {\"title\": {\"text\": \"mrhst_induty_cl_nm\"}, \"tracegroupgap\": 0}, \"margin\": {\"t\": 60}, \"template\": {\"data\": {\"bar\": [{\"error_x\": {\"color\": \"#2a3f5f\"}, \"error_y\": {\"color\": \"#2a3f5f\"}, \"marker\": {\"line\": {\"color\": \"#E5ECF6\", \"width\": 0.5}}, \"type\": \"bar\"}], \"barpolar\": [{\"marker\": {\"line\": {\"color\": \"#E5ECF6\", \"width\": 0.5}}, \"type\": \"barpolar\"}], \"carpet\": [{\"aaxis\": {\"endlinecolor\": \"#2a3f5f\", \"gridcolor\": \"white\", \"linecolor\": \"white\", \"minorgridcolor\": \"white\", \"startlinecolor\": \"#2a3f5f\"}, \"baxis\": {\"endlinecolor\": \"#2a3f5f\", \"gridcolor\": \"white\", \"linecolor\": \"white\", \"minorgridcolor\": \"white\", \"startlinecolor\": \"#2a3f5f\"}, \"type\": \"carpet\"}], \"choropleth\": [{\"colorbar\": {\"outlinewidth\": 0, \"ticks\": \"\"}, \"type\": \"choropleth\"}], \"contour\": [{\"colorbar\": {\"outlinewidth\": 0, \"ticks\": \"\"}, \"colorscale\": [[0.0, \"#0d0887\"], [0.1111111111111111, \"#46039f\"], [0.2222222222222222, \"#7201a8\"], [0.3333333333333333, \"#9c179e\"], [0.4444444444444444, \"#bd3786\"], [0.5555555555555556, \"#d8576b\"], [0.6666666666666666, \"#ed7953\"], [0.7777777777777778, \"#fb9f3a\"], [0.8888888888888888, \"#fdca26\"], [1.0, \"#f0f921\"]], \"type\": \"contour\"}], \"contourcarpet\": [{\"colorbar\": {\"outlinewidth\": 0, \"ticks\": \"\"}, \"type\": \"contourcarpet\"}], \"heatmap\": [{\"colorbar\": {\"outlinewidth\": 0, \"ticks\": \"\"}, \"colorscale\": [[0.0, \"#0d0887\"], [0.1111111111111111, \"#46039f\"], [0.2222222222222222, \"#7201a8\"], [0.3333333333333333, \"#9c179e\"], [0.4444444444444444, \"#bd3786\"], [0.5555555555555556, \"#d8576b\"], [0.6666666666666666, \"#ed7953\"], [0.7777777777777778, \"#fb9f3a\"], [0.8888888888888888, \"#fdca26\"], [1.0, \"#f0f921\"]], \"type\": \"heatmap\"}], \"heatmapgl\": [{\"colorbar\": {\"outlinewidth\": 0, \"ticks\": \"\"}, \"colorscale\": [[0.0, \"#0d0887\"], [0.1111111111111111, \"#46039f\"], [0.2222222222222222, \"#7201a8\"], [0.3333333333333333, \"#9c179e\"], [0.4444444444444444, \"#bd3786\"], [0.5555555555555556, \"#d8576b\"], [0.6666666666666666, \"#ed7953\"], [0.7777777777777778, \"#fb9f3a\"], [0.8888888888888888, \"#fdca26\"], [1.0, \"#f0f921\"]], \"type\": \"heatmapgl\"}], \"histogram\": [{\"marker\": {\"colorbar\": {\"outlinewidth\": 0, \"ticks\": \"\"}}, \"type\": \"histogram\"}], \"histogram2d\": [{\"colorbar\": {\"outlinewidth\": 0, \"ticks\": \"\"}, \"colorscale\": [[0.0, \"#0d0887\"], [0.1111111111111111, \"#46039f\"], [0.2222222222222222, \"#7201a8\"], [0.3333333333333333, \"#9c179e\"], [0.4444444444444444, \"#bd3786\"], [0.5555555555555556, \"#d8576b\"], [0.6666666666666666, \"#ed7953\"], [0.7777777777777778, \"#fb9f3a\"], [0.8888888888888888, \"#fdca26\"], [1.0, \"#f0f921\"]], \"type\": \"histogram2d\"}], \"histogram2dcontour\": [{\"colorbar\": {\"outlinewidth\": 0, \"ticks\": \"\"}, \"colorscale\": [[0.0, \"#0d0887\"], [0.1111111111111111, \"#46039f\"], [0.2222222222222222, \"#7201a8\"], [0.3333333333333333, \"#9c179e\"], [0.4444444444444444, \"#bd3786\"], [0.5555555555555556, \"#d8576b\"], [0.6666666666666666, \"#ed7953\"], [0.7777777777777778, \"#fb9f3a\"], [0.8888888888888888, \"#fdca26\"], [1.0, \"#f0f921\"]], \"type\": \"histogram2dcontour\"}], \"mesh3d\": [{\"colorbar\": {\"outlinewidth\": 0, \"ticks\": \"\"}, \"type\": \"mesh3d\"}], \"parcoords\": [{\"line\": {\"colorbar\": {\"outlinewidth\": 0, \"ticks\": \"\"}}, \"type\": \"parcoords\"}], \"pie\": [{\"automargin\": true, \"type\": \"pie\"}], \"scatter\": [{\"marker\": {\"colorbar\": {\"outlinewidth\": 0, \"ticks\": \"\"}}, \"type\": \"scatter\"}], \"scatter3d\": [{\"line\": {\"colorbar\": {\"outlinewidth\": 0, \"ticks\": \"\"}}, \"marker\": {\"colorbar\": {\"outlinewidth\": 0, \"ticks\": \"\"}}, \"type\": \"scatter3d\"}], \"scattercarpet\": [{\"marker\": {\"colorbar\": {\"outlinewidth\": 0, \"ticks\": \"\"}}, \"type\": \"scattercarpet\"}], \"scattergeo\": [{\"marker\": {\"colorbar\": {\"outlinewidth\": 0, \"ticks\": \"\"}}, \"type\": \"scattergeo\"}], \"scattergl\": [{\"marker\": {\"colorbar\": {\"outlinewidth\": 0, \"ticks\": \"\"}}, \"type\": \"scattergl\"}], \"scattermapbox\": [{\"marker\": {\"colorbar\": {\"outlinewidth\": 0, \"ticks\": \"\"}}, \"type\": \"scattermapbox\"}], \"scatterpolar\": [{\"marker\": {\"colorbar\": {\"outlinewidth\": 0, \"ticks\": \"\"}}, \"type\": \"scatterpolar\"}], \"scatterpolargl\": [{\"marker\": {\"colorbar\": {\"outlinewidth\": 0, \"ticks\": \"\"}}, \"type\": \"scatterpolargl\"}], \"scatterternary\": [{\"marker\": {\"colorbar\": {\"outlinewidth\": 0, \"ticks\": \"\"}}, \"type\": \"scatterternary\"}], \"surface\": [{\"colorbar\": {\"outlinewidth\": 0, \"ticks\": \"\"}, \"colorscale\": [[0.0, \"#0d0887\"], [0.1111111111111111, \"#46039f\"], [0.2222222222222222, \"#7201a8\"], [0.3333333333333333, \"#9c179e\"], [0.4444444444444444, \"#bd3786\"], [0.5555555555555556, \"#d8576b\"], [0.6666666666666666, \"#ed7953\"], [0.7777777777777778, \"#fb9f3a\"], [0.8888888888888888, \"#fdca26\"], [1.0, \"#f0f921\"]], \"type\": \"surface\"}], \"table\": [{\"cells\": {\"fill\": {\"color\": \"#EBF0F8\"}, \"line\": {\"color\": \"white\"}}, \"header\": {\"fill\": {\"color\": \"#C8D4E3\"}, \"line\": {\"color\": \"white\"}}, \"type\": \"table\"}]}, \"layout\": {\"annotationdefaults\": {\"arrowcolor\": \"#2a3f5f\", \"arrowhead\": 0, \"arrowwidth\": 1}, \"coloraxis\": {\"colorbar\": {\"outlinewidth\": 0, \"ticks\": \"\"}}, \"colorscale\": {\"diverging\": [[0, \"#8e0152\"], [0.1, \"#c51b7d\"], [0.2, \"#de77ae\"], [0.3, \"#f1b6da\"], [0.4, \"#fde0ef\"], [0.5, \"#f7f7f7\"], [0.6, \"#e6f5d0\"], [0.7, \"#b8e186\"], [0.8, \"#7fbc41\"], [0.9, \"#4d9221\"], [1, \"#276419\"]], \"sequential\": [[0.0, \"#0d0887\"], [0.1111111111111111, \"#46039f\"], [0.2222222222222222, \"#7201a8\"], [0.3333333333333333, \"#9c179e\"], [0.4444444444444444, \"#bd3786\"], [0.5555555555555556, \"#d8576b\"], [0.6666666666666666, \"#ed7953\"], [0.7777777777777778, \"#fb9f3a\"], [0.8888888888888888, \"#fdca26\"], [1.0, \"#f0f921\"]], \"sequentialminus\": [[0.0, \"#0d0887\"], [0.1111111111111111, \"#46039f\"], [0.2222222222222222, \"#7201a8\"], [0.3333333333333333, \"#9c179e\"], [0.4444444444444444, \"#bd3786\"], [0.5555555555555556, \"#d8576b\"], [0.6666666666666666, \"#ed7953\"], [0.7777777777777778, \"#fb9f3a\"], [0.8888888888888888, \"#fdca26\"], [1.0, \"#f0f921\"]]}, \"colorway\": [\"#636efa\", \"#EF553B\", \"#00cc96\", \"#ab63fa\", \"#FFA15A\", \"#19d3f3\", \"#FF6692\", \"#B6E880\", \"#FF97FF\", \"#FECB52\"], \"font\": {\"color\": \"#2a3f5f\"}, \"geo\": {\"bgcolor\": \"white\", \"lakecolor\": \"white\", \"landcolor\": \"#E5ECF6\", \"showlakes\": true, \"showland\": true, \"subunitcolor\": \"white\"}, \"hoverlabel\": {\"align\": \"left\"}, \"hovermode\": \"closest\", \"mapbox\": {\"style\": \"light\"}, \"paper_bgcolor\": \"white\", \"plot_bgcolor\": \"#E5ECF6\", \"polar\": {\"angularaxis\": {\"gridcolor\": \"white\", \"linecolor\": \"white\", \"ticks\": \"\"}, \"bgcolor\": \"#E5ECF6\", \"radialaxis\": {\"gridcolor\": \"white\", \"linecolor\": \"white\", \"ticks\": \"\"}}, \"scene\": {\"xaxis\": {\"backgroundcolor\": \"#E5ECF6\", \"gridcolor\": \"white\", \"gridwidth\": 2, \"linecolor\": \"white\", \"showbackground\": true, \"ticks\": \"\", \"zerolinecolor\": \"white\"}, \"yaxis\": {\"backgroundcolor\": \"#E5ECF6\", \"gridcolor\": \"white\", \"gridwidth\": 2, \"linecolor\": \"white\", \"showbackground\": true, \"ticks\": \"\", \"zerolinecolor\": \"white\"}, \"zaxis\": {\"backgroundcolor\": \"#E5ECF6\", \"gridcolor\": \"white\", \"gridwidth\": 2, \"linecolor\": \"white\", \"showbackground\": true, \"ticks\": \"\", \"zerolinecolor\": \"white\"}}, \"shapedefaults\": {\"line\": {\"color\": \"#2a3f5f\"}}, \"ternary\": {\"aaxis\": {\"gridcolor\": \"white\", \"linecolor\": \"white\", \"ticks\": \"\"}, \"baxis\": {\"gridcolor\": \"white\", \"linecolor\": \"white\", \"ticks\": \"\"}, \"bgcolor\": \"#E5ECF6\", \"caxis\": {\"gridcolor\": \"white\", \"linecolor\": \"white\", \"ticks\": \"\"}}, \"title\": {\"x\": 0.05}, \"xaxis\": {\"automargin\": true, \"gridcolor\": \"white\", \"linecolor\": \"white\", \"ticks\": \"\", \"title\": {\"standoff\": 15}, \"zerolinecolor\": \"white\", \"zerolinewidth\": 2}, \"yaxis\": {\"automargin\": true, \"gridcolor\": \"white\", \"linecolor\": \"white\", \"ticks\": \"\", \"title\": {\"standoff\": 15}, \"zerolinecolor\": \"white\", \"zerolinewidth\": 2}}}, \"xaxis\": {\"anchor\": \"y\", \"domain\": [0.0, 1.0], \"title\": {\"text\": \"salamt\"}}, \"xaxis2\": {\"anchor\": \"y2\", \"domain\": [0.0, 1.0], \"matches\": \"x\", \"showgrid\": true, \"showticklabels\": false}, \"yaxis\": {\"anchor\": \"x\", \"domain\": [0.0, 0.7326], \"title\": {\"text\": \"count of selng_cascnt\"}}, \"yaxis2\": {\"anchor\": \"x2\", \"domain\": [0.7426, 1.0], \"matches\": \"y2\", \"showgrid\": false, \"showline\": false, \"showticklabels\": false, \"ticks\": \"\"}},\n",
       "                        {\"responsive\": true}\n",
       "                    ).then(function(){\n",
       "                            \n",
       "var gd = document.getElementById('f54d16ce-637e-4357-a26c-e63807744cbc');\n",
       "var x = new MutationObserver(function (mutations, observer) {{\n",
       "        var display = window.getComputedStyle(gd).display;\n",
       "        if (!display || display === 'none') {{\n",
       "            console.log([gd, 'removed!']);\n",
       "            Plotly.purge(gd);\n",
       "            observer.disconnect();\n",
       "        }}\n",
       "}});\n",
       "\n",
       "// Listen for the removal of the full notebook cells\n",
       "var notebookContainer = gd.closest('#notebook-container');\n",
       "if (notebookContainer) {{\n",
       "    x.observe(notebookContainer, {childList: true});\n",
       "}}\n",
       "\n",
       "// Listen for the clearing of the current output cell\n",
       "var outputEl = gd.closest('.output');\n",
       "if (outputEl) {{\n",
       "    x.observe(outputEl, {childList: true});\n",
       "}}\n",
       "\n",
       "                        })\n",
       "                };\n",
       "                });\n",
       "            </script>\n",
       "        </div>"
      ]
     },
     "metadata": {},
     "output_type": "display_data"
    }
   ],
   "source": [
    "fig = px.histogram(traces_all, \n",
    "                   x=target_bincol, \n",
    "                   y=\"selng_cascnt\", \n",
    "                   color=target_kindcol,\n",
    "                   marginal=\"box\", # or violin, rug\n",
    "#                    hover_data=traces_all.columns\n",
    "                  )\n",
    "fig.show()"
   ]
  },
  {
   "cell_type": "markdown",
   "metadata": {},
   "source": [
    "### Plot Hist and Rug with Different Bin Sizes\n"
   ]
  },
  {
   "cell_type": "code",
   "execution_count": 18,
   "metadata": {},
   "outputs": [],
   "source": [
    "data           = card\n",
    "target_kindcol = \"mrhst_induty_cl_nm\"\n",
    "target_kinds   = [\"칵테일바\", \"주점\"]\n",
    "target_bincol  = \"salamt\"\n",
    "target_gbcol   = [\"receipt_dttm\",\"adstrd_nm\"]\n",
    "\n",
    "traces = []\n",
    "traces_all = pd.DataFrame()\n",
    "    \n",
    "for i in range(len(target_kinds)):\n",
    "    trace = \"trace0\"\n",
    "    trace = trace + str(i)\n",
    "    traces.append(trace)\n",
    "    traces[i] = data[data[target_kindcol]==target_kinds[i]].groupby(target_gbcol).sum().reset_index()\n",
    "    traces[i][target_kindcol] = target_kinds[i]\n",
    "    if traces[i].empty == False:\n",
    "        traces_all = pd.concat([traces_all, traces[i]])"
   ]
  },
  {
   "cell_type": "code",
   "execution_count": 19,
   "metadata": {},
   "outputs": [],
   "source": [
    "# colors = ['#393E46', #'#2BCDC1', \n",
    "#           '#F66095']\n",
    "# hist_data = []\n",
    "# for i in range(len(target_kinds)):\n",
    "#     hist_data.append(traces[i][target_bincol])\n",
    "\n",
    "# group_labels = target_kinds\n",
    "\n",
    "# fig = ff.create_distplot(hist_data, group_labels, colors=colors,\n",
    "# #                          bin_size=[0.3, 0.1], \n",
    "# #                          show_curve=False\n",
    "#                         )\n",
    "\n",
    "# # Add title\n",
    "# fig.update(layout_title_text='Hist and Rug Plot')\n",
    "# fig.show()"
   ]
  },
  {
   "cell_type": "markdown",
   "metadata": {},
   "source": [
    "### pandas로 그리기"
   ]
  },
  {
   "cell_type": "code",
   "execution_count": 34,
   "metadata": {},
   "outputs": [
    {
     "ename": "PlotlyError",
     "evalue": "Oops, this function was written to handle multiple datasets, if you want to plot just one, make sure your hist_data variable is still a list of lists, i.e. x = [1, 2, 3] -> x = [[1, 2, 3]]",
     "output_type": "error",
     "traceback": [
      "\u001b[1;31m---------------------------------------------------------------------------\u001b[0m",
      "\u001b[1;31mPlotlyError\u001b[0m                               Traceback (most recent call last)",
      "\u001b[1;32m<ipython-input-34-5bdb5ef8c7f7>\u001b[0m in \u001b[0;36m<module>\u001b[1;34m\u001b[0m\n\u001b[0;32m     23\u001b[0m     [ traces_all[traces_all[target_kindcol]==target_kind]\n\u001b[0;32m     24\u001b[0m      for target_kind in target_kinds ],\n\u001b[1;32m---> 25\u001b[1;33m                          \u001b[0mtarget_kinds\u001b[0m\u001b[1;33m,\u001b[0m\u001b[1;33m\u001b[0m\u001b[1;33m\u001b[0m\u001b[0m\n\u001b[0m\u001b[0;32m     26\u001b[0m \u001b[1;31m#                          bin_size=.25\u001b[0m\u001b[1;33m\u001b[0m\u001b[1;33m\u001b[0m\u001b[1;33m\u001b[0m\u001b[0m\n\u001b[0;32m     27\u001b[0m                         )\n",
      "\u001b[1;32m~\\anaconda3\\lib\\site-packages\\plotly\\figure_factory\\_distplot.py\u001b[0m in \u001b[0;36mcreate_distplot\u001b[1;34m(hist_data, group_labels, bin_size, curve_type, colors, rug_text, histnorm, show_hist, show_curve, show_rug)\u001b[0m\n\u001b[0;32m    178\u001b[0m         \u001b[0mrug_text\u001b[0m \u001b[1;33m=\u001b[0m \u001b[1;33m[\u001b[0m\u001b[1;33m]\u001b[0m\u001b[1;33m\u001b[0m\u001b[1;33m\u001b[0m\u001b[0m\n\u001b[0;32m    179\u001b[0m \u001b[1;33m\u001b[0m\u001b[0m\n\u001b[1;32m--> 180\u001b[1;33m     \u001b[0mvalidate_distplot\u001b[0m\u001b[1;33m(\u001b[0m\u001b[0mhist_data\u001b[0m\u001b[1;33m,\u001b[0m \u001b[0mcurve_type\u001b[0m\u001b[1;33m)\u001b[0m\u001b[1;33m\u001b[0m\u001b[1;33m\u001b[0m\u001b[0m\n\u001b[0m\u001b[0;32m    181\u001b[0m     \u001b[0mutils\u001b[0m\u001b[1;33m.\u001b[0m\u001b[0mvalidate_equal_length\u001b[0m\u001b[1;33m(\u001b[0m\u001b[0mhist_data\u001b[0m\u001b[1;33m,\u001b[0m \u001b[0mgroup_labels\u001b[0m\u001b[1;33m)\u001b[0m\u001b[1;33m\u001b[0m\u001b[1;33m\u001b[0m\u001b[0m\n\u001b[0;32m    182\u001b[0m \u001b[1;33m\u001b[0m\u001b[0m\n",
      "\u001b[1;32m~\\anaconda3\\lib\\site-packages\\plotly\\figure_factory\\_distplot.py\u001b[0m in \u001b[0;36mvalidate_distplot\u001b[1;34m(hist_data, curve_type)\u001b[0m\n\u001b[0;32m     32\u001b[0m     \u001b[1;32mif\u001b[0m \u001b[1;32mnot\u001b[0m \u001b[0misinstance\u001b[0m\u001b[1;33m(\u001b[0m\u001b[0mhist_data\u001b[0m\u001b[1;33m[\u001b[0m\u001b[1;36m0\u001b[0m\u001b[1;33m]\u001b[0m\u001b[1;33m,\u001b[0m \u001b[0mhist_data_types\u001b[0m\u001b[1;33m)\u001b[0m\u001b[1;33m:\u001b[0m\u001b[1;33m\u001b[0m\u001b[1;33m\u001b[0m\u001b[0m\n\u001b[0;32m     33\u001b[0m         raise exceptions.PlotlyError(\n\u001b[1;32m---> 34\u001b[1;33m             \u001b[1;34m\"Oops, this function was written \"\u001b[0m\u001b[1;33m\u001b[0m\u001b[1;33m\u001b[0m\u001b[0m\n\u001b[0m\u001b[0;32m     35\u001b[0m             \u001b[1;34m\"to handle multiple datasets, if \"\u001b[0m\u001b[1;33m\u001b[0m\u001b[1;33m\u001b[0m\u001b[0m\n\u001b[0;32m     36\u001b[0m             \u001b[1;34m\"you want to plot just one, make \"\u001b[0m\u001b[1;33m\u001b[0m\u001b[1;33m\u001b[0m\u001b[0m\n",
      "\u001b[1;31mPlotlyError\u001b[0m: Oops, this function was written to handle multiple datasets, if you want to plot just one, make sure your hist_data variable is still a list of lists, i.e. x = [1, 2, 3] -> x = [[1, 2, 3]]"
     ]
    }
   ],
   "source": [
    "data           = card\n",
    "target_kindcol = \"mrhst_induty_cl_nm\"\n",
    "target_kinds   = [\"칵테일바\", \"주점\"]\n",
    "target_bincol  = \"salamt\"\n",
    "target_gbcol   = [\"receipt_dttm\",\"adstrd_nm\"]\n",
    "\n",
    "traces = []\n",
    "traces_all = pd.DataFrame()\n",
    "    \n",
    "for i in range(len(target_kinds)):\n",
    "    trace = \"trace0\"\n",
    "    trace = trace + str(i)\n",
    "    traces.append(trace)\n",
    "    traces[i] = data[data[target_kindcol]==target_kinds[i]].groupby(target_gbcol).sum().reset_index()\n",
    "    traces[i][target_kindcol] = target_kinds[i]\n",
    "    if traces[i].empty == False:\n",
    "        traces_all = pd.concat([traces_all, traces[i]])\n",
    "        \n",
    "# df = pd.DataFrame({'2012': np.random.randn(200),\n",
    "#                    '2013': np.random.randn(200)+1})\n",
    "fig = ff.create_distplot(\n",
    "#     [df[c] for c in df.columns], \n",
    "    [ traces_all[traces_all[target_kindcol]==target_kind]\n",
    "     for target_kind in target_kinds ],\n",
    "                         target_kinds, \n",
    "#                          bin_size=.25\n",
    "                        )\n",
    "fig.show()"
   ]
  },
  {
   "cell_type": "code",
   "execution_count": 42,
   "metadata": {},
   "outputs": [
    {
     "data": {
      "text/plain": [
       "2"
      ]
     },
     "execution_count": 42,
     "metadata": {},
     "output_type": "execute_result"
    }
   ],
   "source": [
    "len([ traces_all[traces_all[target_kindcol]==target_kind] for target_kind in target_kinds ])"
   ]
  },
  {
   "cell_type": "code",
   "execution_count": 44,
   "metadata": {},
   "outputs": [
    {
     "ename": "AttributeError",
     "evalue": "'DataFrame' object has no attribute 'target_bincol'",
     "output_type": "error",
     "traceback": [
      "\u001b[1;31m---------------------------------------------------------------------------\u001b[0m",
      "\u001b[1;31mAttributeError\u001b[0m                            Traceback (most recent call last)",
      "\u001b[1;32m<ipython-input-44-ecae4936005c>\u001b[0m in \u001b[0;36m<module>\u001b[1;34m\u001b[0m\n\u001b[0;32m      1\u001b[0m [ traces_all[traces_all[target_kindcol]==target_kind].target_bincol \n\u001b[1;32m----> 2\u001b[1;33m  for target_kind in target_kinds ]\n\u001b[0m",
      "\u001b[1;32m<ipython-input-44-ecae4936005c>\u001b[0m in \u001b[0;36m<listcomp>\u001b[1;34m(.0)\u001b[0m\n\u001b[0;32m      1\u001b[0m [ traces_all[traces_all[target_kindcol]==target_kind].target_bincol \n\u001b[1;32m----> 2\u001b[1;33m  for target_kind in target_kinds ]\n\u001b[0m",
      "\u001b[1;32m~\\anaconda3\\lib\\site-packages\\pandas\\core\\generic.py\u001b[0m in \u001b[0;36m__getattr__\u001b[1;34m(self, name)\u001b[0m\n\u001b[0;32m   5272\u001b[0m             \u001b[1;32mif\u001b[0m \u001b[0mself\u001b[0m\u001b[1;33m.\u001b[0m\u001b[0m_info_axis\u001b[0m\u001b[1;33m.\u001b[0m\u001b[0m_can_hold_identifiers_and_holds_name\u001b[0m\u001b[1;33m(\u001b[0m\u001b[0mname\u001b[0m\u001b[1;33m)\u001b[0m\u001b[1;33m:\u001b[0m\u001b[1;33m\u001b[0m\u001b[1;33m\u001b[0m\u001b[0m\n\u001b[0;32m   5273\u001b[0m                 \u001b[1;32mreturn\u001b[0m \u001b[0mself\u001b[0m\u001b[1;33m[\u001b[0m\u001b[0mname\u001b[0m\u001b[1;33m]\u001b[0m\u001b[1;33m\u001b[0m\u001b[1;33m\u001b[0m\u001b[0m\n\u001b[1;32m-> 5274\u001b[1;33m             \u001b[1;32mreturn\u001b[0m \u001b[0mobject\u001b[0m\u001b[1;33m.\u001b[0m\u001b[0m__getattribute__\u001b[0m\u001b[1;33m(\u001b[0m\u001b[0mself\u001b[0m\u001b[1;33m,\u001b[0m \u001b[0mname\u001b[0m\u001b[1;33m)\u001b[0m\u001b[1;33m\u001b[0m\u001b[1;33m\u001b[0m\u001b[0m\n\u001b[0m\u001b[0;32m   5275\u001b[0m \u001b[1;33m\u001b[0m\u001b[0m\n\u001b[0;32m   5276\u001b[0m     \u001b[1;32mdef\u001b[0m \u001b[0m__setattr__\u001b[0m\u001b[1;33m(\u001b[0m\u001b[0mself\u001b[0m\u001b[1;33m,\u001b[0m \u001b[0mname\u001b[0m\u001b[1;33m:\u001b[0m \u001b[0mstr\u001b[0m\u001b[1;33m,\u001b[0m \u001b[0mvalue\u001b[0m\u001b[1;33m)\u001b[0m \u001b[1;33m->\u001b[0m \u001b[1;32mNone\u001b[0m\u001b[1;33m:\u001b[0m\u001b[1;33m\u001b[0m\u001b[1;33m\u001b[0m\u001b[0m\n",
      "\u001b[1;31mAttributeError\u001b[0m: 'DataFrame' object has no attribute 'target_bincol'"
     ]
    }
   ],
   "source": [
    "[ traces_all[traces_all[target_kindcol]==target_kind].target_bincol \n",
    " for target_kind in target_kinds ]"
   ]
  },
  {
   "cell_type": "code",
   "execution_count": 39,
   "metadata": {},
   "outputs": [
    {
     "data": {
      "text/plain": [
       "(2,\n",
       " [0      0.588332\n",
       "  1     -1.146459\n",
       "  2      0.941475\n",
       "  3     -1.130796\n",
       "  4      0.228432\n",
       "           ...   \n",
       "  195    0.134003\n",
       "  196   -0.682767\n",
       "  197   -0.806329\n",
       "  198   -0.278928\n",
       "  199   -1.196273\n",
       "  Name: 2012, Length: 200, dtype: float64,\n",
       "  0     -0.405527\n",
       "  1      1.057872\n",
       "  2     -0.483747\n",
       "  3      0.145995\n",
       "  4      0.901064\n",
       "           ...   \n",
       "  195    3.389363\n",
       "  196   -0.221265\n",
       "  197    0.134786\n",
       "  198    0.319745\n",
       "  199    1.126747\n",
       "  Name: 2013, Length: 200, dtype: float64])"
      ]
     },
     "execution_count": 39,
     "metadata": {},
     "output_type": "execute_result"
    }
   ],
   "source": [
    "        \n",
    "df = pd.DataFrame({'2012': np.random.randn(200),\n",
    "                   '2013': np.random.randn(200)+1})\n",
    "len([df[c] for c in df.columns]),[df[c] for c in df.columns]"
   ]
  },
  {
   "cell_type": "markdown",
   "metadata": {},
   "source": [
    "# Overlaid Histogram"
   ]
  },
  {
   "cell_type": "code",
   "execution_count": 21,
   "metadata": {},
   "outputs": [
    {
     "data": {
      "application/vnd.plotly.v1+json": {
       "config": {
        "plotlyServerURL": "https://plot.ly"
       },
       "data": [
        {
         "opacity": 0.75,
         "type": "histogram",
         "x": [
          0.7981894852712383,
          -0.6865735017813941,
          0.24519685630832072,
          -1.3210686406098615,
          -0.29152986178433643,
          -0.6973126250138701,
          -0.04129454724100735,
          -0.8802744487192038,
          -0.5858733699292764,
          -1.3823802835347505,
          0.033442258032921036,
          0.18504151664980245,
          1.4014384201686387,
          -0.7644538196022465,
          0.23764756618435617,
          -1.636640588767188,
          -1.7814379305979164,
          0.2672844852718599,
          -0.7694606151045745,
          0.17781070143772637,
          -0.7344980325996945,
          -0.02335752181060901,
          -1.6266057452602773,
          -0.2712786206277657,
          -1.6768188658080936,
          1.0731126376676807,
          -0.7175084007098875,
          0.5843235316007479,
          -0.7518510895303065,
          -2.090211359047505,
          0.1998515475342946,
          -0.21446597676364632,
          -1.0570301461369418,
          1.0682543273552298,
          -0.1688024426585997,
          2.2836729487329,
          -0.08215708277124248,
          0.7325226792448696,
          -0.054440224295956505,
          1.2595273455035454,
          -1.0158240377957828,
          -0.9276503706175461,
          0.5162372347902887,
          0.32887022513828007,
          -0.334393786255324,
          -0.13799247682971977,
          0.8472827295380982,
          -0.5321872573140175,
          0.2796785838873634,
          2.373570396117744,
          0.31408323785975567,
          0.16306085493599887,
          -0.13770235659265082,
          1.959630622316562,
          1.9036321499834152,
          -0.5106655379994439,
          0.5520154009762792,
          -1.447522406445813,
          1.0825862157530117,
          -1.015510617788086,
          0.7922552683410614,
          -0.7137099425597043,
          -1.4234462145157787,
          0.1472130569370383,
          -0.1913479777427292,
          0.5021210360952294,
          -1.0550590427325677,
          -0.240481095657738,
          0.9619522082282742,
          0.38178736721477186,
          0.8147934805962316,
          0.9038149628561883,
          0.3502656571885757,
          -0.7323171267061819,
          0.30390770864961814,
          0.3245933140362558,
          1.0651798014694682,
          -0.3254457650881491,
          0.5158791810925704,
          -0.3669172922260677,
          0.5600794424127197,
          0.32453857052502383,
          -0.058146864865711356,
          1.4373278249271333,
          0.040359513008294254,
          1.446510547068158,
          2.269127382622663,
          0.09599054421376137,
          -1.2044367548532435,
          -0.3884845513460369,
          -2.2130399480012555,
          0.8688532309228448,
          0.23023406173534333,
          0.6782608882358226,
          0.5292181914275795,
          -0.8758225095162462,
          0.8523959093212806,
          -1.2217352701680446,
          1.147831780519845,
          0.46084599002321575,
          -1.5505990591909984,
          -1.3241917216771657,
          -0.25231125795809833,
          0.8709819039311335,
          0.2821723578627262,
          -0.03239773084180141,
          -1.079948984552856,
          0.5340336589715506,
          -2.0065438526233037,
          -0.15080891724362705,
          -0.894897108062787,
          -0.2701797579506162,
          0.378188373235673,
          -0.9501899209103783,
          -1.7835301894852664,
          0.9333665010670413,
          -2.1222323878013496,
          -0.6062820788243252,
          0.8844983722497314,
          1.0155777172447866,
          0.03915830098603226,
          -0.0989166094168334,
          -0.47401531483206716,
          -0.0013346905401357613,
          -0.4504528678091024,
          0.5335073873634799,
          -1.1647217581188,
          2.696057291999059,
          -0.727448349625071,
          -0.4515757084259261,
          -0.874108984544403,
          -1.611487795596745,
          1.446933067308282,
          -0.8019709290925259,
          0.8603655468394199,
          1.6256408226622916,
          2.1719831825610134,
          0.9161957729128148,
          1.5849425499231589,
          -1.0361808164658508,
          -1.3563390773336628,
          -0.17557893227603943,
          -1.2729989826823151,
          -0.30999741278515874,
          0.6225069319060533,
          0.03601879343731386,
          -0.8709327306744001,
          0.41051104387405035,
          -1.46786805685427,
          -0.26924859970064674,
          0.42527515631258295,
          0.5039880358996978,
          -1.0498229901680356,
          1.7862476547064159,
          -0.2402361478528103,
          -0.28413526401869693,
          -0.6945590843123686,
          -0.5648338710602874,
          1.5711542641753862,
          -0.44434076271616857,
          0.37911941380985376,
          0.13000246345656394,
          0.7108047643155887,
          0.3801426265007164,
          0.6736475021051712,
          -0.9027787286266195,
          -0.10258151802990868,
          0.6849416211676156,
          -1.4776193954224657,
          -0.35683654889087446,
          0.46681866273214634,
          0.4402563797105194,
          1.4159154635512095,
          0.9332388275449452,
          1.4589668623659582,
          -0.9185086625189235,
          -0.7483609731748633,
          -1.3574153015749042,
          0.22193571818777053,
          1.6903335396255086,
          -0.4758820477668054,
          1.1649211359264704,
          1.2833876445870487,
          -1.2447239437328907,
          -0.9163542100939464,
          0.09193911829381844,
          -0.4002319830009706,
          0.761171806708479,
          -0.8960206711355123,
          1.8213363985556428,
          0.8004835176016645,
          0.4439020029845921,
          0.3660749293964267,
          0.41403661051785123,
          0.9112990638352872,
          -1.144404481923912,
          -0.7141161796784534,
          0.7526387379804412,
          -0.8122478897967427,
          0.4605013801806606,
          0.21951209572710573,
          -0.7191399405537429,
          -0.8923032382998717,
          -1.0488731611911806,
          0.38732688796881765,
          1.2248828761254154,
          0.09300285541199842,
          -0.13157161407129814,
          0.7492348575985608,
          -0.9186023568691858,
          -1.0764431890985486,
          0.3175075855020665,
          0.6685419862580175,
          1.508686291194579,
          -1.4541641994874566,
          -1.3086652835488928,
          1.5597729613446094,
          0.46155503467486864,
          -0.7699862382690811,
          -0.18264823375640252,
          1.779242866700895,
          -1.5932917244643559,
          1.452410242961385,
          0.2307224648094437,
          1.3929186212785039,
          -0.7923633068706483,
          -0.24280146865866822,
          -0.25378699809308547,
          0.4321385013544981,
          -0.46827247791454535,
          -2.2694207625458054,
          -0.2782436498382781,
          -1.1311301284738662,
          1.4773668001662,
          -0.7986452697384857,
          0.5482992521177122,
          -0.4211925491647404,
          0.4922008729779266,
          1.7204397407343257,
          -0.3949944892163181,
          -0.6836380511517826,
          -0.9155260736417239,
          1.132835723223408,
          0.6109797595410238,
          0.7957846954675376,
          0.999780533951887,
          -0.40555298626785125,
          0.9300618972841365,
          0.9996869059736612,
          0.5722287397459527,
          -0.9061709615683718,
          2.1263522005411204,
          -1.0574523599105115,
          0.043264724647080754,
          -0.6030423940844838,
          -1.0424377163142295,
          1.2476784177370275,
          0.2031738555187953,
          0.5201417721665871,
          -2.0005113058283674,
          -1.709472846311044,
          0.43427025006796016,
          -1.3686051169212277,
          -0.4032063949801101,
          -1.9314634442575265,
          -0.8746567057140422,
          -0.4011738436836634,
          0.7430355104294065,
          0.847688146718517,
          -0.264532805015169,
          0.25723216273266974,
          -1.1480192001627354,
          -0.11183142455218882,
          1.3685783313324085,
          -1.0644860204286097,
          -0.050453281979787386,
          0.35579770785791126,
          -0.21446458945905122,
          -0.1712415924097816,
          -1.5136919788732905,
          -0.8155531697840263,
          -0.731829855503416,
          -0.9335022673251422,
          -0.17544806417225214,
          0.018571592637300165,
          0.994961957022185,
          1.3266163861145568,
          1.3536419247952396,
          1.0910091200006318,
          0.6064619792313063,
          -0.1049611337158464,
          0.46127262144633274,
          1.422479633960761,
          1.0947816431873871,
          -0.9392920776476157,
          0.8861110365436333,
          -0.20985029920040604,
          0.1178276990802916,
          -0.10411409937340234,
          1.096712566168337,
          -1.07145855896199,
          0.7119169463815415,
          0.8344155082823905,
          0.06661281280651189,
          -1.971798490609572,
          0.5170124486798904,
          -0.1965492214919856,
          1.4453236821109172,
          -0.0064917474168699274,
          0.8391947577641926,
          1.2646244886566702,
          1.3191665378702304,
          -2.5880166553452995,
          1.2131819053011328,
          0.906381723660725,
          -0.2064946584948379,
          -1.946073486850359,
          -0.9798313311082165,
          0.8034382327581824,
          0.07931734186542005,
          -1.096745055188873,
          1.9529555449088063,
          -2.2038750601044246,
          1.925419597436946,
          0.0847651285657949,
          -1.3629818431739136,
          0.07236021320479066,
          -0.5927152564662952,
          1.3191920692706072,
          -0.7641653246498109,
          1.461919335992766,
          -1.8550067490907507,
          1.328936398841223,
          0.7005540301585904,
          -0.4409078258442252,
          -1.7450465008216676,
          -0.7284173561152378,
          -0.5093939070702731,
          0.8550344851309641,
          1.00846139417566,
          -0.42045910894777094,
          -1.6533016113532262,
          0.4304084273440822,
          0.2741635565629954,
          0.7152740389871974,
          -1.6448503295448478,
          -1.4057085173487622,
          -0.0417999955731084,
          0.48505288086420295,
          0.14890832250513547,
          0.5329941732726939,
          -0.864909351810833,
          -0.9845740943398859,
          0.4654757765407677,
          2.2743250429461295,
          0.1876330474767515,
          -0.13976691388532156,
          0.1713928093921517,
          -0.931742638809766,
          1.430602818397034,
          0.49966702942731445,
          -1.052047897614231,
          -0.4868805756525604,
          1.421882954821259,
          -0.9835112274593073,
          -1.5859750682344045,
          -2.361499205953448,
          -0.25921043656424997,
          0.7693566766270594,
          0.9498293939502052,
          1.0004991382925625,
          0.7785676304153915,
          -0.8046647075107769,
          0.30526229681790285,
          0.9102094603242761,
          -0.22892988833382058,
          -2.1213109226351445,
          -0.7736763241328818,
          -0.8735570829587236,
          1.1783882751363546,
          0.40019715515460047,
          1.590601316482531,
          -0.19290889620604207,
          0.9896056472656044,
          0.11850159180563861,
          0.6870665327713313,
          -0.9622876176829547,
          -0.23863456249450724,
          -0.42002939875968764,
          -0.38824656730229773,
          0.006550792816301556,
          1.1031656696952759,
          -1.297905670818426,
          -0.3560081388678397,
          -0.4627898009004691,
          0.41163389889621543,
          -0.07048466261025928,
          -0.608110394005535,
          0.3724010134538055,
          0.3508909814964584,
          -0.36063953083401645,
          0.25854448882173975,
          1.4017609312541333,
          -1.2207554172835904,
          0.4969296722396626,
          1.751018233396315,
          0.24214524786233427,
          -0.08655015444173546,
          1.3795091564214403,
          -1.198079983026468,
          0.9162702803909063,
          -0.5728923265788773,
          -1.0195172227922407,
          1.7679956242036168,
          -0.0409289717054481,
          -1.5757940933975718,
          -0.04156632105495678,
          0.7236345348109271,
          -0.5035431832238698,
          -1.2205451923103752,
          1.3680074132741697,
          -0.583703878734627,
          -0.02842861776109021,
          -0.9260839188115771,
          -0.03682870662102417,
          0.4701229288765855,
          -0.10604620428074416,
          -0.6184725634003453,
          -1.4340034914541067,
          1.1664389037615999,
          -0.8700523733557624,
          0.009959008843616364,
          -0.32324421249248597,
          0.5273427280878015,
          1.1511394959722816,
          0.34613104370967607,
          0.09480056633019013,
          0.9299068757894607,
          -0.26900968005065967,
          0.1661364768441398,
          0.8769596522632536,
          2.5498123123731697,
          -0.23411765391097852,
          -0.03305225235491088,
          -0.2354464189082633,
          -0.030332741498016257,
          -0.685244301664501,
          -0.047150997201241884,
          -0.8911647458163564,
          -0.7388595710597721,
          0.4584143298236588,
          -0.24485742672727429,
          -0.6289247490575861,
          0.8197143932410804,
          -0.3155648724596148,
          0.6045503185379245,
          -0.5982666159805562,
          0.6962777021140844,
          1.7259706857438197,
          2.185619285434138,
          -1.4545900298768093,
          -0.8448748550859264,
          0.39586676514537505,
          -0.1281205814592788,
          -0.5958952931379969,
          0.6377119167666783,
          0.6804914197193451,
          0.9671656233659125,
          -1.5781922294717106,
          0.2515671780507666,
          0.4098588862116466,
          0.43150401028083507,
          0.1507127563801232,
          1.2988731377792464,
          0.3145953313956395,
          1.093240525940698,
          -0.3940844080332182,
          -0.4462373463539975,
          0.25158251367509094,
          0.9191764274449277,
          0.21237988143853567,
          0.0011735401024421245,
          -1.349669604421207,
          1.2839747400621635,
          -0.6103835234680643,
          2.17232031221323,
          -0.6879861522358716,
          -0.3236958700778909,
          0.5986973827236214,
          -0.2814670418321512,
          0.46270650687742776,
          -0.0996987843204501,
          0.08631351354523516,
          -0.8798813922342523,
          -0.046800184236595904,
          -1.0599841547153008,
          1.054013237282366,
          0.6497130400337531,
          -0.01852757535157101,
          -0.6168125105506181
         ]
        },
        {
         "opacity": 0.75,
         "type": "histogram",
         "x": [
          1.2954142985631298,
          2.0652629363991926,
          1.5209961954649267,
          1.2414100678570983,
          1.339019592875125,
          -2.3097366161409663,
          0.8490906234474607,
          3.591444600756121,
          1.5259535169688552,
          0.44306295124452233,
          0.21655525936914954,
          2.244055622060226,
          0.9210143464237882,
          1.5466413936524315,
          1.3580661323260337,
          1.8143657640419133,
          2.1335680216439723,
          1.3928240961807554,
          0.17778911935676533,
          0.34054521800647597,
          0.05897113887960015,
          2.976267619990946,
          1.025352914336388,
          -0.32357883385359654,
          1.5209278478961346,
          1.0463336140221398,
          0.47110147236654765,
          1.138156103379008,
          1.6070300407196836,
          -0.2633179870765905,
          2.041822433009484,
          -0.06763909034855731,
          0.19735962863641932,
          2.020622276834146,
          1.6166434459958618,
          1.2813941180045096,
          -0.8025342704948593,
          1.748068256119967,
          2.142103456001756,
          -0.5187960349199736,
          2.0431877237266196,
          -0.21986461154610404,
          0.5531501666507948,
          0.7362540426575325,
          1.538982367891021,
          1.1371388170191603,
          2.449338611913972,
          1.4133955966250054,
          -0.25327100416182824,
          1.3500269659727029,
          1.5475046371235122,
          1.232689794013485,
          2.163018847980105,
          0.08323800371248602,
          1.262773776189901,
          1.0247983236293805,
          1.140208415589918,
          0.6012460332162564,
          0.4946278515042897,
          2.495634969882055,
          2.6602523780021934,
          -0.25587737100093566,
          2.3923779206351496,
          0.5142603902765037,
          3.1511531291803823,
          1.5450810854243642,
          0.6442103716065251,
          1.2238184947687119,
          1.3751124611348708,
          1.5760400720675645,
          -0.6599918827388316,
          1.7419599671237105,
          1.9556591276887265,
          1.3544229981731168,
          0.08051051920689722,
          1.4737983985967977,
          0.4952031241740876,
          1.4808503420424357,
          1.666476225896163,
          1.638277514527127,
          0.7918092110342202,
          1.710278724957178,
          0.9124845059943179,
          2.0485336413087194,
          1.8538520400747278,
          0.11976694807086408,
          0.7429344620566576,
          0.4148371311798491,
          -1.1304357823037572,
          0.7592539668855205,
          -0.31107615592817517,
          -0.5451066096080772,
          0.8787528321513731,
          2.8728740902445797,
          2.423147338077529,
          2.7473679786934593,
          0.33525598519713995,
          1.0134270362834177,
          2.1680712338766837,
          2.179006848150837,
          1.4751557150061239,
          0.17264140720212284,
          1.5726638067759438,
          -0.15863621418650142,
          1.397914400919849,
          1.9469964029116316,
          1.2778931719998818,
          0.09237284328445228,
          2.6321466392541204,
          1.18435303335959,
          0.11355869286595621,
          0.9504355107812426,
          1.4513031593415957,
          0.6635112833155615,
          0.8602576042554568,
          2.246764980056466,
          2.355099332631813,
          0.5617393536751325,
          -1.0123141539188332,
          1.4272208138417781,
          1.5658752023878257,
          0.4263250154943453,
          0.9977820374243442,
          0.8181216563205325,
          0.5388828463949105,
          0.7278923663906894,
          0.2908049612454412,
          2.344443070668999,
          1.5100444514950109,
          1.5001672916609847,
          1.744997185070917,
          1.0684504474823946,
          -0.39553862996091116,
          1.3122095618300855,
          0.9160837006277117,
          2.5228196100957345,
          0.3901129126709362,
          2.1788033640960354,
          -1.5088222202969694,
          1.527814671004009,
          -1.1006671455732362,
          -0.21569133827168718,
          1.2602827577343898,
          -0.7800691688594126,
          -0.5050758065600316,
          0.017517748541656886,
          0.6887716581447527,
          0.3428446254214661,
          1.6426610989053456,
          1.8674410271819981,
          2.5383530108210457,
          2.9063796586249513,
          0.8896469516900083,
          0.5187594426697884,
          1.1177928978043676,
          0.2503840278814864,
          -0.5155562980182271,
          2.7445792830175604,
          1.83610439674516,
          1.3067800347975465,
          1.4767075789924973,
          -0.7401327313451913,
          -0.5982591880377706,
          1.193825438565192,
          0.015845124179826642,
          0.12870822948277238,
          1.168897395005777,
          2.9715534481538626,
          2.3080649193631118,
          3.3006420006105968,
          1.3794222588015623,
          1.8796744781128538,
          1.8688302247166693,
          2.234238252345345,
          1.670783703788259,
          -1.1820640055084999,
          -0.4477581928688299,
          1.9338589450252028,
          1.9460941998022987,
          -0.7687028031180863,
          1.5492755493613242,
          0.19356010290355663,
          2.3028067982561966,
          -0.16727874025896683,
          0.8234972778967776,
          1.9356694067892213,
          1.4929534172368522,
          -0.0010331442281765746,
          1.5463965782986824,
          2.511261435220979,
          0.9915341038291816,
          2.0543498410758474,
          0.1739555812756901,
          2.1344617131291876,
          -1.527261733208142,
          1.9925241335946386,
          0.6992381849099449,
          1.4526522191528168,
          0.8067780188000835,
          -0.23536034647374215,
          1.43123423722554,
          0.6772108829259288,
          1.208688790528399,
          1.8125445930015953,
          0.5560529151165305,
          -0.17544094724558446,
          0.8025386613556699,
          0.8019252109270414,
          -0.7730917533377522,
          0.8220380947924312,
          1.5209344649112215,
          0.6981792437813668,
          0.8166148013976041,
          2.7258711894164143,
          0.6090422239321351,
          -0.6571973648818044,
          0.7159394769825692,
          1.8349621154812876,
          2.8787648539588755,
          1.1763357881133663,
          -0.5475398490694536,
          2.5749555250548664,
          1.8670048248553446,
          -0.38959497229220097,
          -0.32008486104182254,
          1.8557635728857007,
          0.7807492845614399,
          1.590041115052934,
          1.571649654161143,
          1.6344280153239423,
          -0.1612625439616142,
          -0.5581328679968369,
          0.4660101641033636,
          1.84399306866632,
          0.018779558904566507,
          1.1520439415784614,
          1.3428038455345908,
          2.0999741550608095,
          0.1311479740121645,
          0.7006604343834589,
          0.3675125560315815,
          1.8653046508012228,
          2.177992501461582,
          0.017508300963398504,
          1.064809775071315,
          1.6266603620357862,
          1.1962205811934161,
          1.6640473256668615,
          -0.5182422880856621,
          -0.09104461089154747,
          1.174050812121546,
          0.7704220459065971,
          1.736308783286906,
          0.3670030595453566,
          0.6511233712857382,
          1.9214649485604967,
          1.0447949095649132,
          1.6309065726037026,
          0.9887611085175568,
          -0.13166168560629843,
          0.3723417595566746,
          0.11838875337864718,
          -0.6649904713794546,
          1.3469786130043635,
          -0.07857523465065452,
          1.1412598186573768,
          1.3480286017296697,
          1.506019380490973,
          -0.7031069915739607,
          0.37868807041659314,
          0.7586837654604724,
          2.9651207007970357,
          0.8160992866460637,
          1.6400372552049687,
          1.390592630979961,
          0.6197383349473777,
          1.744146930563323,
          1.4408741392669207,
          -0.3208100812390613,
          -0.2301674683078372,
          2.6761632417409533,
          1.5322430831286014,
          1.2149581575713873,
          2.025863635327005,
          0.674004463052085,
          1.8973245842591742,
          1.8451474975186333,
          1.9038877443385562,
          1.016012249124329,
          0.7963012985218632,
          0.8323434656910277,
          -0.696680996139664,
          1.5873369236661141,
          0.599108385402196,
          0.11185907994231081,
          1.1592246760164153,
          1.2758193113469365,
          0.12839388835990162,
          1.0869527184084555,
          2.457988780048239,
          -1.097384725554651,
          0.9286719726694614,
          1.0721988030883507,
          -0.06684490150679112,
          1.3176422351915142,
          1.676501136101472,
          2.3136578168818245,
          0.18251628920530583,
          -1.0116055092857814,
          0.4109258231139523,
          1.5885769876420408,
          2.6386108811611884,
          0.7126542617148964,
          1.6272381140565129,
          -0.13331031242084967,
          1.312129028529503,
          0.47641646773096635,
          0.3731750705807405,
          1.2210908986318758,
          0.8133400696565147,
          0.08735178857113624,
          1.0123606927417375,
          0.23577664422593936,
          0.5658457047698933,
          0.2503390318659665,
          -0.02417442741412712,
          1.371263365922712,
          -0.5131085141684175,
          0.7129792861915958,
          1.1076261814969222,
          -0.19663378838941403,
          1.0385938896893945,
          1.5522489449498051,
          1.7524043907425377,
          3.110318333665192,
          0.8215064106227058,
          1.0024659001869827,
          1.448076099848166,
          1.915172654595928,
          -0.16870690056676962,
          0.8629423959850624,
          -0.16851869564613398,
          3.0492372967584944,
          1.0701836895945276,
          0.41869236107134544,
          0.9829500453756355,
          4.184631606952579,
          0.5498307753352247,
          0.9445864721996561,
          3.6982131597845234,
          -0.19242981550797844,
          0.9331555902057056,
          0.9788722687513375,
          1.859254259809747,
          -0.04891054430610908,
          0.46861773812357543,
          0.6445991751195514,
          2.038426821125566,
          -0.7343436032854511,
          1.2620444410880867,
          -0.14976732317455,
          1.189394935110882,
          0.24591294186515855,
          1.9673981228065598,
          2.1210991462527122,
          -0.4272784885612304,
          1.3274377557770456,
          0.9776652142228835,
          2.233893830564781,
          0.9646744307902683,
          1.487967555159694,
          0.06602663914864759,
          0.8860773320363133,
          1.6016539865935462,
          1.4019425568953614,
          0.4409250145049268,
          0.3133543498816772,
          2.8607816708484863,
          -1.193026194012516,
          2.0672112443049926,
          0.6623153017879246,
          1.1151731366694992,
          1.0943080686575315,
          2.1931172176826346,
          0.43597181903791926,
          0.9451525725646025,
          -0.5268519067024251,
          0.9483142510259611,
          0.9497005904156091,
          -1.7149917159968555,
          1.4242612895868716,
          1.8415253711100412,
          -0.4291051141757327,
          1.3174037175832392,
          -0.6940105124789473,
          1.3722626554409731,
          0.7908273350157432,
          1.8436268182535052,
          -0.09459491455975866,
          0.4482981488133815,
          0.6937954421902933,
          0.07580626368662591,
          1.6329790028076192,
          1.7928301414890937,
          0.25388454616589884,
          1.8117435000894289,
          0.8701004016901083,
          0.33518880302874166,
          1.4014710341079861,
          0.923998765222495,
          1.4312109980861276,
          0.40361593791874506,
          -0.4393335208442486,
          1.8385375323941466,
          1.1301961668810965,
          -0.5061689141743353,
          1.83754965741121,
          1.6947419642370938,
          1.8239415718423173,
          0.3865671915085499,
          -0.9070796285433806,
          0.9431821656907984,
          2.0626916478521347,
          1.7445786035923285,
          -0.3367899926242406,
          1.393501342857184,
          0.5322844910009685,
          0.00039063383151527464,
          0.5813471157320265,
          0.39529420196258636,
          0.8497064057700832,
          0.6167952435880052,
          0.5632364229517828,
          0.3576718237435641,
          1.627295659831789,
          0.635137870749502,
          4.062674726922658,
          1.0974590940530375,
          -0.5440710333322569,
          1.753289900403471,
          -0.314508619791787,
          2.5457301757116886,
          1.620421221290163,
          2.0266385512507403,
          0.3285133622497556,
          -0.1520000745256398,
          1.6658364597326507,
          1.0983004813875312,
          0.5017073670304775,
          -0.12203040057410197,
          -0.5052113266391411,
          1.1673102353676577,
          3.2079015342129495,
          0.7961596243972762,
          2.2844861240080965,
          1.2687000963870267,
          1.742895265803592,
          1.644417957207153,
          1.3830924906351085,
          -0.08233014487140777,
          1.78814221524524,
          0.05108443524009221,
          2.7364689428426976,
          1.3575050841662646,
          -0.5642078237597199,
          0.8154836296429401,
          0.9354528441227179,
          -0.43618431231106514,
          0.7764459885998589,
          1.6065126509978715,
          0.6502780858035827,
          1.199416057142457,
          0.9408623415159527,
          1.5144721577359026,
          1.0375395239633023,
          -0.34382790402175134,
          -0.26247005821494973,
          0.6316930959892356,
          -0.881830531717996,
          1.174357760429553,
          1.2652441095262001,
          1.6569216151289041,
          -0.023485720400872934,
          0.29720019488786786,
          2.2459435098407035,
          0.8464298909145423,
          1.7784286697840224,
          0.7791465232808608,
          0.6340472165334432,
          0.0834171503349489,
          0.9098917205069874,
          1.525273134036968,
          0.19545992720332683,
          0.5059332876849012,
          1.0560102278858228,
          0.5768521075347006,
          3.120589782871983,
          0.2588259025055666,
          1.4155074692869638,
          0.9660848707289079
         ]
        }
       ],
       "layout": {
        "barmode": "overlay",
        "template": {
         "data": {
          "bar": [
           {
            "error_x": {
             "color": "#2a3f5f"
            },
            "error_y": {
             "color": "#2a3f5f"
            },
            "marker": {
             "line": {
              "color": "#E5ECF6",
              "width": 0.5
             }
            },
            "type": "bar"
           }
          ],
          "barpolar": [
           {
            "marker": {
             "line": {
              "color": "#E5ECF6",
              "width": 0.5
             }
            },
            "type": "barpolar"
           }
          ],
          "carpet": [
           {
            "aaxis": {
             "endlinecolor": "#2a3f5f",
             "gridcolor": "white",
             "linecolor": "white",
             "minorgridcolor": "white",
             "startlinecolor": "#2a3f5f"
            },
            "baxis": {
             "endlinecolor": "#2a3f5f",
             "gridcolor": "white",
             "linecolor": "white",
             "minorgridcolor": "white",
             "startlinecolor": "#2a3f5f"
            },
            "type": "carpet"
           }
          ],
          "choropleth": [
           {
            "colorbar": {
             "outlinewidth": 0,
             "ticks": ""
            },
            "type": "choropleth"
           }
          ],
          "contour": [
           {
            "colorbar": {
             "outlinewidth": 0,
             "ticks": ""
            },
            "colorscale": [
             [
              0,
              "#0d0887"
             ],
             [
              0.1111111111111111,
              "#46039f"
             ],
             [
              0.2222222222222222,
              "#7201a8"
             ],
             [
              0.3333333333333333,
              "#9c179e"
             ],
             [
              0.4444444444444444,
              "#bd3786"
             ],
             [
              0.5555555555555556,
              "#d8576b"
             ],
             [
              0.6666666666666666,
              "#ed7953"
             ],
             [
              0.7777777777777778,
              "#fb9f3a"
             ],
             [
              0.8888888888888888,
              "#fdca26"
             ],
             [
              1,
              "#f0f921"
             ]
            ],
            "type": "contour"
           }
          ],
          "contourcarpet": [
           {
            "colorbar": {
             "outlinewidth": 0,
             "ticks": ""
            },
            "type": "contourcarpet"
           }
          ],
          "heatmap": [
           {
            "colorbar": {
             "outlinewidth": 0,
             "ticks": ""
            },
            "colorscale": [
             [
              0,
              "#0d0887"
             ],
             [
              0.1111111111111111,
              "#46039f"
             ],
             [
              0.2222222222222222,
              "#7201a8"
             ],
             [
              0.3333333333333333,
              "#9c179e"
             ],
             [
              0.4444444444444444,
              "#bd3786"
             ],
             [
              0.5555555555555556,
              "#d8576b"
             ],
             [
              0.6666666666666666,
              "#ed7953"
             ],
             [
              0.7777777777777778,
              "#fb9f3a"
             ],
             [
              0.8888888888888888,
              "#fdca26"
             ],
             [
              1,
              "#f0f921"
             ]
            ],
            "type": "heatmap"
           }
          ],
          "heatmapgl": [
           {
            "colorbar": {
             "outlinewidth": 0,
             "ticks": ""
            },
            "colorscale": [
             [
              0,
              "#0d0887"
             ],
             [
              0.1111111111111111,
              "#46039f"
             ],
             [
              0.2222222222222222,
              "#7201a8"
             ],
             [
              0.3333333333333333,
              "#9c179e"
             ],
             [
              0.4444444444444444,
              "#bd3786"
             ],
             [
              0.5555555555555556,
              "#d8576b"
             ],
             [
              0.6666666666666666,
              "#ed7953"
             ],
             [
              0.7777777777777778,
              "#fb9f3a"
             ],
             [
              0.8888888888888888,
              "#fdca26"
             ],
             [
              1,
              "#f0f921"
             ]
            ],
            "type": "heatmapgl"
           }
          ],
          "histogram": [
           {
            "marker": {
             "colorbar": {
              "outlinewidth": 0,
              "ticks": ""
             }
            },
            "type": "histogram"
           }
          ],
          "histogram2d": [
           {
            "colorbar": {
             "outlinewidth": 0,
             "ticks": ""
            },
            "colorscale": [
             [
              0,
              "#0d0887"
             ],
             [
              0.1111111111111111,
              "#46039f"
             ],
             [
              0.2222222222222222,
              "#7201a8"
             ],
             [
              0.3333333333333333,
              "#9c179e"
             ],
             [
              0.4444444444444444,
              "#bd3786"
             ],
             [
              0.5555555555555556,
              "#d8576b"
             ],
             [
              0.6666666666666666,
              "#ed7953"
             ],
             [
              0.7777777777777778,
              "#fb9f3a"
             ],
             [
              0.8888888888888888,
              "#fdca26"
             ],
             [
              1,
              "#f0f921"
             ]
            ],
            "type": "histogram2d"
           }
          ],
          "histogram2dcontour": [
           {
            "colorbar": {
             "outlinewidth": 0,
             "ticks": ""
            },
            "colorscale": [
             [
              0,
              "#0d0887"
             ],
             [
              0.1111111111111111,
              "#46039f"
             ],
             [
              0.2222222222222222,
              "#7201a8"
             ],
             [
              0.3333333333333333,
              "#9c179e"
             ],
             [
              0.4444444444444444,
              "#bd3786"
             ],
             [
              0.5555555555555556,
              "#d8576b"
             ],
             [
              0.6666666666666666,
              "#ed7953"
             ],
             [
              0.7777777777777778,
              "#fb9f3a"
             ],
             [
              0.8888888888888888,
              "#fdca26"
             ],
             [
              1,
              "#f0f921"
             ]
            ],
            "type": "histogram2dcontour"
           }
          ],
          "mesh3d": [
           {
            "colorbar": {
             "outlinewidth": 0,
             "ticks": ""
            },
            "type": "mesh3d"
           }
          ],
          "parcoords": [
           {
            "line": {
             "colorbar": {
              "outlinewidth": 0,
              "ticks": ""
             }
            },
            "type": "parcoords"
           }
          ],
          "pie": [
           {
            "automargin": true,
            "type": "pie"
           }
          ],
          "scatter": [
           {
            "marker": {
             "colorbar": {
              "outlinewidth": 0,
              "ticks": ""
             }
            },
            "type": "scatter"
           }
          ],
          "scatter3d": [
           {
            "line": {
             "colorbar": {
              "outlinewidth": 0,
              "ticks": ""
             }
            },
            "marker": {
             "colorbar": {
              "outlinewidth": 0,
              "ticks": ""
             }
            },
            "type": "scatter3d"
           }
          ],
          "scattercarpet": [
           {
            "marker": {
             "colorbar": {
              "outlinewidth": 0,
              "ticks": ""
             }
            },
            "type": "scattercarpet"
           }
          ],
          "scattergeo": [
           {
            "marker": {
             "colorbar": {
              "outlinewidth": 0,
              "ticks": ""
             }
            },
            "type": "scattergeo"
           }
          ],
          "scattergl": [
           {
            "marker": {
             "colorbar": {
              "outlinewidth": 0,
              "ticks": ""
             }
            },
            "type": "scattergl"
           }
          ],
          "scattermapbox": [
           {
            "marker": {
             "colorbar": {
              "outlinewidth": 0,
              "ticks": ""
             }
            },
            "type": "scattermapbox"
           }
          ],
          "scatterpolar": [
           {
            "marker": {
             "colorbar": {
              "outlinewidth": 0,
              "ticks": ""
             }
            },
            "type": "scatterpolar"
           }
          ],
          "scatterpolargl": [
           {
            "marker": {
             "colorbar": {
              "outlinewidth": 0,
              "ticks": ""
             }
            },
            "type": "scatterpolargl"
           }
          ],
          "scatterternary": [
           {
            "marker": {
             "colorbar": {
              "outlinewidth": 0,
              "ticks": ""
             }
            },
            "type": "scatterternary"
           }
          ],
          "surface": [
           {
            "colorbar": {
             "outlinewidth": 0,
             "ticks": ""
            },
            "colorscale": [
             [
              0,
              "#0d0887"
             ],
             [
              0.1111111111111111,
              "#46039f"
             ],
             [
              0.2222222222222222,
              "#7201a8"
             ],
             [
              0.3333333333333333,
              "#9c179e"
             ],
             [
              0.4444444444444444,
              "#bd3786"
             ],
             [
              0.5555555555555556,
              "#d8576b"
             ],
             [
              0.6666666666666666,
              "#ed7953"
             ],
             [
              0.7777777777777778,
              "#fb9f3a"
             ],
             [
              0.8888888888888888,
              "#fdca26"
             ],
             [
              1,
              "#f0f921"
             ]
            ],
            "type": "surface"
           }
          ],
          "table": [
           {
            "cells": {
             "fill": {
              "color": "#EBF0F8"
             },
             "line": {
              "color": "white"
             }
            },
            "header": {
             "fill": {
              "color": "#C8D4E3"
             },
             "line": {
              "color": "white"
             }
            },
            "type": "table"
           }
          ]
         },
         "layout": {
          "annotationdefaults": {
           "arrowcolor": "#2a3f5f",
           "arrowhead": 0,
           "arrowwidth": 1
          },
          "coloraxis": {
           "colorbar": {
            "outlinewidth": 0,
            "ticks": ""
           }
          },
          "colorscale": {
           "diverging": [
            [
             0,
             "#8e0152"
            ],
            [
             0.1,
             "#c51b7d"
            ],
            [
             0.2,
             "#de77ae"
            ],
            [
             0.3,
             "#f1b6da"
            ],
            [
             0.4,
             "#fde0ef"
            ],
            [
             0.5,
             "#f7f7f7"
            ],
            [
             0.6,
             "#e6f5d0"
            ],
            [
             0.7,
             "#b8e186"
            ],
            [
             0.8,
             "#7fbc41"
            ],
            [
             0.9,
             "#4d9221"
            ],
            [
             1,
             "#276419"
            ]
           ],
           "sequential": [
            [
             0,
             "#0d0887"
            ],
            [
             0.1111111111111111,
             "#46039f"
            ],
            [
             0.2222222222222222,
             "#7201a8"
            ],
            [
             0.3333333333333333,
             "#9c179e"
            ],
            [
             0.4444444444444444,
             "#bd3786"
            ],
            [
             0.5555555555555556,
             "#d8576b"
            ],
            [
             0.6666666666666666,
             "#ed7953"
            ],
            [
             0.7777777777777778,
             "#fb9f3a"
            ],
            [
             0.8888888888888888,
             "#fdca26"
            ],
            [
             1,
             "#f0f921"
            ]
           ],
           "sequentialminus": [
            [
             0,
             "#0d0887"
            ],
            [
             0.1111111111111111,
             "#46039f"
            ],
            [
             0.2222222222222222,
             "#7201a8"
            ],
            [
             0.3333333333333333,
             "#9c179e"
            ],
            [
             0.4444444444444444,
             "#bd3786"
            ],
            [
             0.5555555555555556,
             "#d8576b"
            ],
            [
             0.6666666666666666,
             "#ed7953"
            ],
            [
             0.7777777777777778,
             "#fb9f3a"
            ],
            [
             0.8888888888888888,
             "#fdca26"
            ],
            [
             1,
             "#f0f921"
            ]
           ]
          },
          "colorway": [
           "#636efa",
           "#EF553B",
           "#00cc96",
           "#ab63fa",
           "#FFA15A",
           "#19d3f3",
           "#FF6692",
           "#B6E880",
           "#FF97FF",
           "#FECB52"
          ],
          "font": {
           "color": "#2a3f5f"
          },
          "geo": {
           "bgcolor": "white",
           "lakecolor": "white",
           "landcolor": "#E5ECF6",
           "showlakes": true,
           "showland": true,
           "subunitcolor": "white"
          },
          "hoverlabel": {
           "align": "left"
          },
          "hovermode": "closest",
          "mapbox": {
           "style": "light"
          },
          "paper_bgcolor": "white",
          "plot_bgcolor": "#E5ECF6",
          "polar": {
           "angularaxis": {
            "gridcolor": "white",
            "linecolor": "white",
            "ticks": ""
           },
           "bgcolor": "#E5ECF6",
           "radialaxis": {
            "gridcolor": "white",
            "linecolor": "white",
            "ticks": ""
           }
          },
          "scene": {
           "xaxis": {
            "backgroundcolor": "#E5ECF6",
            "gridcolor": "white",
            "gridwidth": 2,
            "linecolor": "white",
            "showbackground": true,
            "ticks": "",
            "zerolinecolor": "white"
           },
           "yaxis": {
            "backgroundcolor": "#E5ECF6",
            "gridcolor": "white",
            "gridwidth": 2,
            "linecolor": "white",
            "showbackground": true,
            "ticks": "",
            "zerolinecolor": "white"
           },
           "zaxis": {
            "backgroundcolor": "#E5ECF6",
            "gridcolor": "white",
            "gridwidth": 2,
            "linecolor": "white",
            "showbackground": true,
            "ticks": "",
            "zerolinecolor": "white"
           }
          },
          "shapedefaults": {
           "line": {
            "color": "#2a3f5f"
           }
          },
          "ternary": {
           "aaxis": {
            "gridcolor": "white",
            "linecolor": "white",
            "ticks": ""
           },
           "baxis": {
            "gridcolor": "white",
            "linecolor": "white",
            "ticks": ""
           },
           "bgcolor": "#E5ECF6",
           "caxis": {
            "gridcolor": "white",
            "linecolor": "white",
            "ticks": ""
           }
          },
          "title": {
           "x": 0.05
          },
          "xaxis": {
           "automargin": true,
           "gridcolor": "white",
           "linecolor": "white",
           "ticks": "",
           "title": {
            "standoff": 15
           },
           "zerolinecolor": "white",
           "zerolinewidth": 2
          },
          "yaxis": {
           "automargin": true,
           "gridcolor": "white",
           "linecolor": "white",
           "ticks": "",
           "title": {
            "standoff": 15
           },
           "zerolinecolor": "white",
           "zerolinewidth": 2
          }
         }
        }
       }
      },
      "text/html": [
       "<div>\n",
       "        \n",
       "        \n",
       "            <div id=\"2d889426-d5dc-44cc-8f3e-82eabf5c72ee\" class=\"plotly-graph-div\" style=\"height:525px; width:100%;\"></div>\n",
       "            <script type=\"text/javascript\">\n",
       "                require([\"plotly\"], function(Plotly) {\n",
       "                    window.PLOTLYENV=window.PLOTLYENV || {};\n",
       "                    \n",
       "                if (document.getElementById(\"2d889426-d5dc-44cc-8f3e-82eabf5c72ee\")) {\n",
       "                    Plotly.newPlot(\n",
       "                        '2d889426-d5dc-44cc-8f3e-82eabf5c72ee',\n",
       "                        [{\"opacity\": 0.75, \"type\": \"histogram\", \"x\": [0.7981894852712383, -0.6865735017813941, 0.24519685630832072, -1.3210686406098615, -0.29152986178433643, -0.6973126250138701, -0.04129454724100735, -0.8802744487192038, -0.5858733699292764, -1.3823802835347505, 0.033442258032921036, 0.18504151664980245, 1.4014384201686387, -0.7644538196022465, 0.23764756618435617, -1.636640588767188, -1.7814379305979164, 0.2672844852718599, -0.7694606151045745, 0.17781070143772637, -0.7344980325996945, -0.02335752181060901, -1.6266057452602773, -0.2712786206277657, -1.6768188658080936, 1.0731126376676807, -0.7175084007098875, 0.5843235316007479, -0.7518510895303065, -2.090211359047505, 0.1998515475342946, -0.21446597676364632, -1.0570301461369418, 1.0682543273552298, -0.1688024426585997, 2.2836729487329, -0.08215708277124248, 0.7325226792448696, -0.054440224295956505, 1.2595273455035454, -1.0158240377957828, -0.9276503706175461, 0.5162372347902887, 0.32887022513828007, -0.334393786255324, -0.13799247682971977, 0.8472827295380982, -0.5321872573140175, 0.2796785838873634, 2.373570396117744, 0.31408323785975567, 0.16306085493599887, -0.13770235659265082, 1.959630622316562, 1.9036321499834152, -0.5106655379994439, 0.5520154009762792, -1.447522406445813, 1.0825862157530117, -1.015510617788086, 0.7922552683410614, -0.7137099425597043, -1.4234462145157787, 0.1472130569370383, -0.1913479777427292, 0.5021210360952294, -1.0550590427325677, -0.240481095657738, 0.9619522082282742, 0.38178736721477186, 0.8147934805962316, 0.9038149628561883, 0.3502656571885757, -0.7323171267061819, 0.30390770864961814, 0.3245933140362558, 1.0651798014694682, -0.3254457650881491, 0.5158791810925704, -0.3669172922260677, 0.5600794424127197, 0.32453857052502383, -0.058146864865711356, 1.4373278249271333, 0.040359513008294254, 1.446510547068158, 2.269127382622663, 0.09599054421376137, -1.2044367548532435, -0.3884845513460369, -2.2130399480012555, 0.8688532309228448, 0.23023406173534333, 0.6782608882358226, 0.5292181914275795, -0.8758225095162462, 0.8523959093212806, -1.2217352701680446, 1.147831780519845, 0.46084599002321575, -1.5505990591909984, -1.3241917216771657, -0.25231125795809833, 0.8709819039311335, 0.2821723578627262, -0.03239773084180141, -1.079948984552856, 0.5340336589715506, -2.0065438526233037, -0.15080891724362705, -0.894897108062787, -0.2701797579506162, 0.378188373235673, -0.9501899209103783, -1.7835301894852664, 0.9333665010670413, -2.1222323878013496, -0.6062820788243252, 0.8844983722497314, 1.0155777172447866, 0.03915830098603226, -0.0989166094168334, -0.47401531483206716, -0.0013346905401357613, -0.4504528678091024, 0.5335073873634799, -1.1647217581188, 2.696057291999059, -0.727448349625071, -0.4515757084259261, -0.874108984544403, -1.611487795596745, 1.446933067308282, -0.8019709290925259, 0.8603655468394199, 1.6256408226622916, 2.1719831825610134, 0.9161957729128148, 1.5849425499231589, -1.0361808164658508, -1.3563390773336628, -0.17557893227603943, -1.2729989826823151, -0.30999741278515874, 0.6225069319060533, 0.03601879343731386, -0.8709327306744001, 0.41051104387405035, -1.46786805685427, -0.26924859970064674, 0.42527515631258295, 0.5039880358996978, -1.0498229901680356, 1.7862476547064159, -0.2402361478528103, -0.28413526401869693, -0.6945590843123686, -0.5648338710602874, 1.5711542641753862, -0.44434076271616857, 0.37911941380985376, 0.13000246345656394, 0.7108047643155887, 0.3801426265007164, 0.6736475021051712, -0.9027787286266195, -0.10258151802990868, 0.6849416211676156, -1.4776193954224657, -0.35683654889087446, 0.46681866273214634, 0.4402563797105194, 1.4159154635512095, 0.9332388275449452, 1.4589668623659582, -0.9185086625189235, -0.7483609731748633, -1.3574153015749042, 0.22193571818777053, 1.6903335396255086, -0.4758820477668054, 1.1649211359264704, 1.2833876445870487, -1.2447239437328907, -0.9163542100939464, 0.09193911829381844, -0.4002319830009706, 0.761171806708479, -0.8960206711355123, 1.8213363985556428, 0.8004835176016645, 0.4439020029845921, 0.3660749293964267, 0.41403661051785123, 0.9112990638352872, -1.144404481923912, -0.7141161796784534, 0.7526387379804412, -0.8122478897967427, 0.4605013801806606, 0.21951209572710573, -0.7191399405537429, -0.8923032382998717, -1.0488731611911806, 0.38732688796881765, 1.2248828761254154, 0.09300285541199842, -0.13157161407129814, 0.7492348575985608, -0.9186023568691858, -1.0764431890985486, 0.3175075855020665, 0.6685419862580175, 1.508686291194579, -1.4541641994874566, -1.3086652835488928, 1.5597729613446094, 0.46155503467486864, -0.7699862382690811, -0.18264823375640252, 1.779242866700895, -1.5932917244643559, 1.452410242961385, 0.2307224648094437, 1.3929186212785039, -0.7923633068706483, -0.24280146865866822, -0.25378699809308547, 0.4321385013544981, -0.46827247791454535, -2.2694207625458054, -0.2782436498382781, -1.1311301284738662, 1.4773668001662, -0.7986452697384857, 0.5482992521177122, -0.4211925491647404, 0.4922008729779266, 1.7204397407343257, -0.3949944892163181, -0.6836380511517826, -0.9155260736417239, 1.132835723223408, 0.6109797595410238, 0.7957846954675376, 0.999780533951887, -0.40555298626785125, 0.9300618972841365, 0.9996869059736612, 0.5722287397459527, -0.9061709615683718, 2.1263522005411204, -1.0574523599105115, 0.043264724647080754, -0.6030423940844838, -1.0424377163142295, 1.2476784177370275, 0.2031738555187953, 0.5201417721665871, -2.0005113058283674, -1.709472846311044, 0.43427025006796016, -1.3686051169212277, -0.4032063949801101, -1.9314634442575265, -0.8746567057140422, -0.4011738436836634, 0.7430355104294065, 0.847688146718517, -0.264532805015169, 0.25723216273266974, -1.1480192001627354, -0.11183142455218882, 1.3685783313324085, -1.0644860204286097, -0.050453281979787386, 0.35579770785791126, -0.21446458945905122, -0.1712415924097816, -1.5136919788732905, -0.8155531697840263, -0.731829855503416, -0.9335022673251422, -0.17544806417225214, 0.018571592637300165, 0.994961957022185, 1.3266163861145568, 1.3536419247952396, 1.0910091200006318, 0.6064619792313063, -0.1049611337158464, 0.46127262144633274, 1.422479633960761, 1.0947816431873871, -0.9392920776476157, 0.8861110365436333, -0.20985029920040604, 0.1178276990802916, -0.10411409937340234, 1.096712566168337, -1.07145855896199, 0.7119169463815415, 0.8344155082823905, 0.06661281280651189, -1.971798490609572, 0.5170124486798904, -0.1965492214919856, 1.4453236821109172, -0.0064917474168699274, 0.8391947577641926, 1.2646244886566702, 1.3191665378702304, -2.5880166553452995, 1.2131819053011328, 0.906381723660725, -0.2064946584948379, -1.946073486850359, -0.9798313311082165, 0.8034382327581824, 0.07931734186542005, -1.096745055188873, 1.9529555449088063, -2.2038750601044246, 1.925419597436946, 0.0847651285657949, -1.3629818431739136, 0.07236021320479066, -0.5927152564662952, 1.3191920692706072, -0.7641653246498109, 1.461919335992766, -1.8550067490907507, 1.328936398841223, 0.7005540301585904, -0.4409078258442252, -1.7450465008216676, -0.7284173561152378, -0.5093939070702731, 0.8550344851309641, 1.00846139417566, -0.42045910894777094, -1.6533016113532262, 0.4304084273440822, 0.2741635565629954, 0.7152740389871974, -1.6448503295448478, -1.4057085173487622, -0.0417999955731084, 0.48505288086420295, 0.14890832250513547, 0.5329941732726939, -0.864909351810833, -0.9845740943398859, 0.4654757765407677, 2.2743250429461295, 0.1876330474767515, -0.13976691388532156, 0.1713928093921517, -0.931742638809766, 1.430602818397034, 0.49966702942731445, -1.052047897614231, -0.4868805756525604, 1.421882954821259, -0.9835112274593073, -1.5859750682344045, -2.361499205953448, -0.25921043656424997, 0.7693566766270594, 0.9498293939502052, 1.0004991382925625, 0.7785676304153915, -0.8046647075107769, 0.30526229681790285, 0.9102094603242761, -0.22892988833382058, -2.1213109226351445, -0.7736763241328818, -0.8735570829587236, 1.1783882751363546, 0.40019715515460047, 1.590601316482531, -0.19290889620604207, 0.9896056472656044, 0.11850159180563861, 0.6870665327713313, -0.9622876176829547, -0.23863456249450724, -0.42002939875968764, -0.38824656730229773, 0.006550792816301556, 1.1031656696952759, -1.297905670818426, -0.3560081388678397, -0.4627898009004691, 0.41163389889621543, -0.07048466261025928, -0.608110394005535, 0.3724010134538055, 0.3508909814964584, -0.36063953083401645, 0.25854448882173975, 1.4017609312541333, -1.2207554172835904, 0.4969296722396626, 1.751018233396315, 0.24214524786233427, -0.08655015444173546, 1.3795091564214403, -1.198079983026468, 0.9162702803909063, -0.5728923265788773, -1.0195172227922407, 1.7679956242036168, -0.0409289717054481, -1.5757940933975718, -0.04156632105495678, 0.7236345348109271, -0.5035431832238698, -1.2205451923103752, 1.3680074132741697, -0.583703878734627, -0.02842861776109021, -0.9260839188115771, -0.03682870662102417, 0.4701229288765855, -0.10604620428074416, -0.6184725634003453, -1.4340034914541067, 1.1664389037615999, -0.8700523733557624, 0.009959008843616364, -0.32324421249248597, 0.5273427280878015, 1.1511394959722816, 0.34613104370967607, 0.09480056633019013, 0.9299068757894607, -0.26900968005065967, 0.1661364768441398, 0.8769596522632536, 2.5498123123731697, -0.23411765391097852, -0.03305225235491088, -0.2354464189082633, -0.030332741498016257, -0.685244301664501, -0.047150997201241884, -0.8911647458163564, -0.7388595710597721, 0.4584143298236588, -0.24485742672727429, -0.6289247490575861, 0.8197143932410804, -0.3155648724596148, 0.6045503185379245, -0.5982666159805562, 0.6962777021140844, 1.7259706857438197, 2.185619285434138, -1.4545900298768093, -0.8448748550859264, 0.39586676514537505, -0.1281205814592788, -0.5958952931379969, 0.6377119167666783, 0.6804914197193451, 0.9671656233659125, -1.5781922294717106, 0.2515671780507666, 0.4098588862116466, 0.43150401028083507, 0.1507127563801232, 1.2988731377792464, 0.3145953313956395, 1.093240525940698, -0.3940844080332182, -0.4462373463539975, 0.25158251367509094, 0.9191764274449277, 0.21237988143853567, 0.0011735401024421245, -1.349669604421207, 1.2839747400621635, -0.6103835234680643, 2.17232031221323, -0.6879861522358716, -0.3236958700778909, 0.5986973827236214, -0.2814670418321512, 0.46270650687742776, -0.0996987843204501, 0.08631351354523516, -0.8798813922342523, -0.046800184236595904, -1.0599841547153008, 1.054013237282366, 0.6497130400337531, -0.01852757535157101, -0.6168125105506181]}, {\"opacity\": 0.75, \"type\": \"histogram\", \"x\": [1.2954142985631298, 2.0652629363991926, 1.5209961954649267, 1.2414100678570983, 1.339019592875125, -2.3097366161409663, 0.8490906234474607, 3.591444600756121, 1.5259535169688552, 0.44306295124452233, 0.21655525936914954, 2.244055622060226, 0.9210143464237882, 1.5466413936524315, 1.3580661323260337, 1.8143657640419133, 2.1335680216439723, 1.3928240961807554, 0.17778911935676533, 0.34054521800647597, 0.05897113887960015, 2.976267619990946, 1.025352914336388, -0.32357883385359654, 1.5209278478961346, 1.0463336140221398, 0.47110147236654765, 1.138156103379008, 1.6070300407196836, -0.2633179870765905, 2.041822433009484, -0.06763909034855731, 0.19735962863641932, 2.020622276834146, 1.6166434459958618, 1.2813941180045096, -0.8025342704948593, 1.748068256119967, 2.142103456001756, -0.5187960349199736, 2.0431877237266196, -0.21986461154610404, 0.5531501666507948, 0.7362540426575325, 1.538982367891021, 1.1371388170191603, 2.449338611913972, 1.4133955966250054, -0.25327100416182824, 1.3500269659727029, 1.5475046371235122, 1.232689794013485, 2.163018847980105, 0.08323800371248602, 1.262773776189901, 1.0247983236293805, 1.140208415589918, 0.6012460332162564, 0.4946278515042897, 2.495634969882055, 2.6602523780021934, -0.25587737100093566, 2.3923779206351496, 0.5142603902765037, 3.1511531291803823, 1.5450810854243642, 0.6442103716065251, 1.2238184947687119, 1.3751124611348708, 1.5760400720675645, -0.6599918827388316, 1.7419599671237105, 1.9556591276887265, 1.3544229981731168, 0.08051051920689722, 1.4737983985967977, 0.4952031241740876, 1.4808503420424357, 1.666476225896163, 1.638277514527127, 0.7918092110342202, 1.710278724957178, 0.9124845059943179, 2.0485336413087194, 1.8538520400747278, 0.11976694807086408, 0.7429344620566576, 0.4148371311798491, -1.1304357823037572, 0.7592539668855205, -0.31107615592817517, -0.5451066096080772, 0.8787528321513731, 2.8728740902445797, 2.423147338077529, 2.7473679786934593, 0.33525598519713995, 1.0134270362834177, 2.1680712338766837, 2.179006848150837, 1.4751557150061239, 0.17264140720212284, 1.5726638067759438, -0.15863621418650142, 1.397914400919849, 1.9469964029116316, 1.2778931719998818, 0.09237284328445228, 2.6321466392541204, 1.18435303335959, 0.11355869286595621, 0.9504355107812426, 1.4513031593415957, 0.6635112833155615, 0.8602576042554568, 2.246764980056466, 2.355099332631813, 0.5617393536751325, -1.0123141539188332, 1.4272208138417781, 1.5658752023878257, 0.4263250154943453, 0.9977820374243442, 0.8181216563205325, 0.5388828463949105, 0.7278923663906894, 0.2908049612454412, 2.344443070668999, 1.5100444514950109, 1.5001672916609847, 1.744997185070917, 1.0684504474823946, -0.39553862996091116, 1.3122095618300855, 0.9160837006277117, 2.5228196100957345, 0.3901129126709362, 2.1788033640960354, -1.5088222202969694, 1.527814671004009, -1.1006671455732362, -0.21569133827168718, 1.2602827577343898, -0.7800691688594126, -0.5050758065600316, 0.017517748541656886, 0.6887716581447527, 0.3428446254214661, 1.6426610989053456, 1.8674410271819981, 2.5383530108210457, 2.9063796586249513, 0.8896469516900083, 0.5187594426697884, 1.1177928978043676, 0.2503840278814864, -0.5155562980182271, 2.7445792830175604, 1.83610439674516, 1.3067800347975465, 1.4767075789924973, -0.7401327313451913, -0.5982591880377706, 1.193825438565192, 0.015845124179826642, 0.12870822948277238, 1.168897395005777, 2.9715534481538626, 2.3080649193631118, 3.3006420006105968, 1.3794222588015623, 1.8796744781128538, 1.8688302247166693, 2.234238252345345, 1.670783703788259, -1.1820640055084999, -0.4477581928688299, 1.9338589450252028, 1.9460941998022987, -0.7687028031180863, 1.5492755493613242, 0.19356010290355663, 2.3028067982561966, -0.16727874025896683, 0.8234972778967776, 1.9356694067892213, 1.4929534172368522, -0.0010331442281765746, 1.5463965782986824, 2.511261435220979, 0.9915341038291816, 2.0543498410758474, 0.1739555812756901, 2.1344617131291876, -1.527261733208142, 1.9925241335946386, 0.6992381849099449, 1.4526522191528168, 0.8067780188000835, -0.23536034647374215, 1.43123423722554, 0.6772108829259288, 1.208688790528399, 1.8125445930015953, 0.5560529151165305, -0.17544094724558446, 0.8025386613556699, 0.8019252109270414, -0.7730917533377522, 0.8220380947924312, 1.5209344649112215, 0.6981792437813668, 0.8166148013976041, 2.7258711894164143, 0.6090422239321351, -0.6571973648818044, 0.7159394769825692, 1.8349621154812876, 2.8787648539588755, 1.1763357881133663, -0.5475398490694536, 2.5749555250548664, 1.8670048248553446, -0.38959497229220097, -0.32008486104182254, 1.8557635728857007, 0.7807492845614399, 1.590041115052934, 1.571649654161143, 1.6344280153239423, -0.1612625439616142, -0.5581328679968369, 0.4660101641033636, 1.84399306866632, 0.018779558904566507, 1.1520439415784614, 1.3428038455345908, 2.0999741550608095, 0.1311479740121645, 0.7006604343834589, 0.3675125560315815, 1.8653046508012228, 2.177992501461582, 0.017508300963398504, 1.064809775071315, 1.6266603620357862, 1.1962205811934161, 1.6640473256668615, -0.5182422880856621, -0.09104461089154747, 1.174050812121546, 0.7704220459065971, 1.736308783286906, 0.3670030595453566, 0.6511233712857382, 1.9214649485604967, 1.0447949095649132, 1.6309065726037026, 0.9887611085175568, -0.13166168560629843, 0.3723417595566746, 0.11838875337864718, -0.6649904713794546, 1.3469786130043635, -0.07857523465065452, 1.1412598186573768, 1.3480286017296697, 1.506019380490973, -0.7031069915739607, 0.37868807041659314, 0.7586837654604724, 2.9651207007970357, 0.8160992866460637, 1.6400372552049687, 1.390592630979961, 0.6197383349473777, 1.744146930563323, 1.4408741392669207, -0.3208100812390613, -0.2301674683078372, 2.6761632417409533, 1.5322430831286014, 1.2149581575713873, 2.025863635327005, 0.674004463052085, 1.8973245842591742, 1.8451474975186333, 1.9038877443385562, 1.016012249124329, 0.7963012985218632, 0.8323434656910277, -0.696680996139664, 1.5873369236661141, 0.599108385402196, 0.11185907994231081, 1.1592246760164153, 1.2758193113469365, 0.12839388835990162, 1.0869527184084555, 2.457988780048239, -1.097384725554651, 0.9286719726694614, 1.0721988030883507, -0.06684490150679112, 1.3176422351915142, 1.676501136101472, 2.3136578168818245, 0.18251628920530583, -1.0116055092857814, 0.4109258231139523, 1.5885769876420408, 2.6386108811611884, 0.7126542617148964, 1.6272381140565129, -0.13331031242084967, 1.312129028529503, 0.47641646773096635, 0.3731750705807405, 1.2210908986318758, 0.8133400696565147, 0.08735178857113624, 1.0123606927417375, 0.23577664422593936, 0.5658457047698933, 0.2503390318659665, -0.02417442741412712, 1.371263365922712, -0.5131085141684175, 0.7129792861915958, 1.1076261814969222, -0.19663378838941403, 1.0385938896893945, 1.5522489449498051, 1.7524043907425377, 3.110318333665192, 0.8215064106227058, 1.0024659001869827, 1.448076099848166, 1.915172654595928, -0.16870690056676962, 0.8629423959850624, -0.16851869564613398, 3.0492372967584944, 1.0701836895945276, 0.41869236107134544, 0.9829500453756355, 4.184631606952579, 0.5498307753352247, 0.9445864721996561, 3.6982131597845234, -0.19242981550797844, 0.9331555902057056, 0.9788722687513375, 1.859254259809747, -0.04891054430610908, 0.46861773812357543, 0.6445991751195514, 2.038426821125566, -0.7343436032854511, 1.2620444410880867, -0.14976732317455, 1.189394935110882, 0.24591294186515855, 1.9673981228065598, 2.1210991462527122, -0.4272784885612304, 1.3274377557770456, 0.9776652142228835, 2.233893830564781, 0.9646744307902683, 1.487967555159694, 0.06602663914864759, 0.8860773320363133, 1.6016539865935462, 1.4019425568953614, 0.4409250145049268, 0.3133543498816772, 2.8607816708484863, -1.193026194012516, 2.0672112443049926, 0.6623153017879246, 1.1151731366694992, 1.0943080686575315, 2.1931172176826346, 0.43597181903791926, 0.9451525725646025, -0.5268519067024251, 0.9483142510259611, 0.9497005904156091, -1.7149917159968555, 1.4242612895868716, 1.8415253711100412, -0.4291051141757327, 1.3174037175832392, -0.6940105124789473, 1.3722626554409731, 0.7908273350157432, 1.8436268182535052, -0.09459491455975866, 0.4482981488133815, 0.6937954421902933, 0.07580626368662591, 1.6329790028076192, 1.7928301414890937, 0.25388454616589884, 1.8117435000894289, 0.8701004016901083, 0.33518880302874166, 1.4014710341079861, 0.923998765222495, 1.4312109980861276, 0.40361593791874506, -0.4393335208442486, 1.8385375323941466, 1.1301961668810965, -0.5061689141743353, 1.83754965741121, 1.6947419642370938, 1.8239415718423173, 0.3865671915085499, -0.9070796285433806, 0.9431821656907984, 2.0626916478521347, 1.7445786035923285, -0.3367899926242406, 1.393501342857184, 0.5322844910009685, 0.00039063383151527464, 0.5813471157320265, 0.39529420196258636, 0.8497064057700832, 0.6167952435880052, 0.5632364229517828, 0.3576718237435641, 1.627295659831789, 0.635137870749502, 4.062674726922658, 1.0974590940530375, -0.5440710333322569, 1.753289900403471, -0.314508619791787, 2.5457301757116886, 1.620421221290163, 2.0266385512507403, 0.3285133622497556, -0.1520000745256398, 1.6658364597326507, 1.0983004813875312, 0.5017073670304775, -0.12203040057410197, -0.5052113266391411, 1.1673102353676577, 3.2079015342129495, 0.7961596243972762, 2.2844861240080965, 1.2687000963870267, 1.742895265803592, 1.644417957207153, 1.3830924906351085, -0.08233014487140777, 1.78814221524524, 0.05108443524009221, 2.7364689428426976, 1.3575050841662646, -0.5642078237597199, 0.8154836296429401, 0.9354528441227179, -0.43618431231106514, 0.7764459885998589, 1.6065126509978715, 0.6502780858035827, 1.199416057142457, 0.9408623415159527, 1.5144721577359026, 1.0375395239633023, -0.34382790402175134, -0.26247005821494973, 0.6316930959892356, -0.881830531717996, 1.174357760429553, 1.2652441095262001, 1.6569216151289041, -0.023485720400872934, 0.29720019488786786, 2.2459435098407035, 0.8464298909145423, 1.7784286697840224, 0.7791465232808608, 0.6340472165334432, 0.0834171503349489, 0.9098917205069874, 1.525273134036968, 0.19545992720332683, 0.5059332876849012, 1.0560102278858228, 0.5768521075347006, 3.120589782871983, 0.2588259025055666, 1.4155074692869638, 0.9660848707289079]}],\n",
       "                        {\"barmode\": \"overlay\", \"template\": {\"data\": {\"bar\": [{\"error_x\": {\"color\": \"#2a3f5f\"}, \"error_y\": {\"color\": \"#2a3f5f\"}, \"marker\": {\"line\": {\"color\": \"#E5ECF6\", \"width\": 0.5}}, \"type\": \"bar\"}], \"barpolar\": [{\"marker\": {\"line\": {\"color\": \"#E5ECF6\", \"width\": 0.5}}, \"type\": \"barpolar\"}], \"carpet\": [{\"aaxis\": {\"endlinecolor\": \"#2a3f5f\", \"gridcolor\": \"white\", \"linecolor\": \"white\", \"minorgridcolor\": \"white\", \"startlinecolor\": \"#2a3f5f\"}, \"baxis\": {\"endlinecolor\": \"#2a3f5f\", \"gridcolor\": \"white\", \"linecolor\": \"white\", \"minorgridcolor\": \"white\", \"startlinecolor\": \"#2a3f5f\"}, \"type\": \"carpet\"}], \"choropleth\": [{\"colorbar\": {\"outlinewidth\": 0, \"ticks\": \"\"}, \"type\": \"choropleth\"}], \"contour\": [{\"colorbar\": {\"outlinewidth\": 0, \"ticks\": \"\"}, \"colorscale\": [[0.0, \"#0d0887\"], [0.1111111111111111, \"#46039f\"], [0.2222222222222222, \"#7201a8\"], [0.3333333333333333, \"#9c179e\"], [0.4444444444444444, \"#bd3786\"], [0.5555555555555556, \"#d8576b\"], [0.6666666666666666, \"#ed7953\"], [0.7777777777777778, \"#fb9f3a\"], [0.8888888888888888, \"#fdca26\"], [1.0, \"#f0f921\"]], \"type\": \"contour\"}], \"contourcarpet\": [{\"colorbar\": {\"outlinewidth\": 0, \"ticks\": \"\"}, \"type\": \"contourcarpet\"}], \"heatmap\": [{\"colorbar\": {\"outlinewidth\": 0, \"ticks\": \"\"}, \"colorscale\": [[0.0, \"#0d0887\"], [0.1111111111111111, \"#46039f\"], [0.2222222222222222, \"#7201a8\"], [0.3333333333333333, \"#9c179e\"], [0.4444444444444444, \"#bd3786\"], [0.5555555555555556, \"#d8576b\"], [0.6666666666666666, \"#ed7953\"], [0.7777777777777778, \"#fb9f3a\"], [0.8888888888888888, \"#fdca26\"], [1.0, \"#f0f921\"]], \"type\": \"heatmap\"}], \"heatmapgl\": [{\"colorbar\": {\"outlinewidth\": 0, \"ticks\": \"\"}, \"colorscale\": [[0.0, \"#0d0887\"], [0.1111111111111111, \"#46039f\"], [0.2222222222222222, \"#7201a8\"], [0.3333333333333333, \"#9c179e\"], [0.4444444444444444, \"#bd3786\"], [0.5555555555555556, \"#d8576b\"], [0.6666666666666666, \"#ed7953\"], [0.7777777777777778, \"#fb9f3a\"], [0.8888888888888888, \"#fdca26\"], [1.0, \"#f0f921\"]], \"type\": \"heatmapgl\"}], \"histogram\": [{\"marker\": {\"colorbar\": {\"outlinewidth\": 0, \"ticks\": \"\"}}, \"type\": \"histogram\"}], \"histogram2d\": [{\"colorbar\": {\"outlinewidth\": 0, \"ticks\": \"\"}, \"colorscale\": [[0.0, \"#0d0887\"], [0.1111111111111111, \"#46039f\"], [0.2222222222222222, \"#7201a8\"], [0.3333333333333333, \"#9c179e\"], [0.4444444444444444, \"#bd3786\"], [0.5555555555555556, \"#d8576b\"], [0.6666666666666666, \"#ed7953\"], [0.7777777777777778, \"#fb9f3a\"], [0.8888888888888888, \"#fdca26\"], [1.0, \"#f0f921\"]], \"type\": \"histogram2d\"}], \"histogram2dcontour\": [{\"colorbar\": {\"outlinewidth\": 0, \"ticks\": \"\"}, \"colorscale\": [[0.0, \"#0d0887\"], [0.1111111111111111, \"#46039f\"], [0.2222222222222222, \"#7201a8\"], [0.3333333333333333, \"#9c179e\"], [0.4444444444444444, \"#bd3786\"], [0.5555555555555556, \"#d8576b\"], [0.6666666666666666, \"#ed7953\"], [0.7777777777777778, \"#fb9f3a\"], [0.8888888888888888, \"#fdca26\"], [1.0, \"#f0f921\"]], \"type\": \"histogram2dcontour\"}], \"mesh3d\": [{\"colorbar\": {\"outlinewidth\": 0, \"ticks\": \"\"}, \"type\": \"mesh3d\"}], \"parcoords\": [{\"line\": {\"colorbar\": {\"outlinewidth\": 0, \"ticks\": \"\"}}, \"type\": \"parcoords\"}], \"pie\": [{\"automargin\": true, \"type\": \"pie\"}], \"scatter\": [{\"marker\": {\"colorbar\": {\"outlinewidth\": 0, \"ticks\": \"\"}}, \"type\": \"scatter\"}], \"scatter3d\": [{\"line\": {\"colorbar\": {\"outlinewidth\": 0, \"ticks\": \"\"}}, \"marker\": {\"colorbar\": {\"outlinewidth\": 0, \"ticks\": \"\"}}, \"type\": \"scatter3d\"}], \"scattercarpet\": [{\"marker\": {\"colorbar\": {\"outlinewidth\": 0, \"ticks\": \"\"}}, \"type\": \"scattercarpet\"}], \"scattergeo\": [{\"marker\": {\"colorbar\": {\"outlinewidth\": 0, \"ticks\": \"\"}}, \"type\": \"scattergeo\"}], \"scattergl\": [{\"marker\": {\"colorbar\": {\"outlinewidth\": 0, \"ticks\": \"\"}}, \"type\": \"scattergl\"}], \"scattermapbox\": [{\"marker\": {\"colorbar\": {\"outlinewidth\": 0, \"ticks\": \"\"}}, \"type\": \"scattermapbox\"}], \"scatterpolar\": [{\"marker\": {\"colorbar\": {\"outlinewidth\": 0, \"ticks\": \"\"}}, \"type\": \"scatterpolar\"}], \"scatterpolargl\": [{\"marker\": {\"colorbar\": {\"outlinewidth\": 0, \"ticks\": \"\"}}, \"type\": \"scatterpolargl\"}], \"scatterternary\": [{\"marker\": {\"colorbar\": {\"outlinewidth\": 0, \"ticks\": \"\"}}, \"type\": \"scatterternary\"}], \"surface\": [{\"colorbar\": {\"outlinewidth\": 0, \"ticks\": \"\"}, \"colorscale\": [[0.0, \"#0d0887\"], [0.1111111111111111, \"#46039f\"], [0.2222222222222222, \"#7201a8\"], [0.3333333333333333, \"#9c179e\"], [0.4444444444444444, \"#bd3786\"], [0.5555555555555556, \"#d8576b\"], [0.6666666666666666, \"#ed7953\"], [0.7777777777777778, \"#fb9f3a\"], [0.8888888888888888, \"#fdca26\"], [1.0, \"#f0f921\"]], \"type\": \"surface\"}], \"table\": [{\"cells\": {\"fill\": {\"color\": \"#EBF0F8\"}, \"line\": {\"color\": \"white\"}}, \"header\": {\"fill\": {\"color\": \"#C8D4E3\"}, \"line\": {\"color\": \"white\"}}, \"type\": \"table\"}]}, \"layout\": {\"annotationdefaults\": {\"arrowcolor\": \"#2a3f5f\", \"arrowhead\": 0, \"arrowwidth\": 1}, \"coloraxis\": {\"colorbar\": {\"outlinewidth\": 0, \"ticks\": \"\"}}, \"colorscale\": {\"diverging\": [[0, \"#8e0152\"], [0.1, \"#c51b7d\"], [0.2, \"#de77ae\"], [0.3, \"#f1b6da\"], [0.4, \"#fde0ef\"], [0.5, \"#f7f7f7\"], [0.6, \"#e6f5d0\"], [0.7, \"#b8e186\"], [0.8, \"#7fbc41\"], [0.9, \"#4d9221\"], [1, \"#276419\"]], \"sequential\": [[0.0, \"#0d0887\"], [0.1111111111111111, \"#46039f\"], [0.2222222222222222, \"#7201a8\"], [0.3333333333333333, \"#9c179e\"], [0.4444444444444444, \"#bd3786\"], [0.5555555555555556, \"#d8576b\"], [0.6666666666666666, \"#ed7953\"], [0.7777777777777778, \"#fb9f3a\"], [0.8888888888888888, \"#fdca26\"], [1.0, \"#f0f921\"]], \"sequentialminus\": [[0.0, \"#0d0887\"], [0.1111111111111111, \"#46039f\"], [0.2222222222222222, \"#7201a8\"], [0.3333333333333333, \"#9c179e\"], [0.4444444444444444, \"#bd3786\"], [0.5555555555555556, \"#d8576b\"], [0.6666666666666666, \"#ed7953\"], [0.7777777777777778, \"#fb9f3a\"], [0.8888888888888888, \"#fdca26\"], [1.0, \"#f0f921\"]]}, \"colorway\": [\"#636efa\", \"#EF553B\", \"#00cc96\", \"#ab63fa\", \"#FFA15A\", \"#19d3f3\", \"#FF6692\", \"#B6E880\", \"#FF97FF\", \"#FECB52\"], \"font\": {\"color\": \"#2a3f5f\"}, \"geo\": {\"bgcolor\": \"white\", \"lakecolor\": \"white\", \"landcolor\": \"#E5ECF6\", \"showlakes\": true, \"showland\": true, \"subunitcolor\": \"white\"}, \"hoverlabel\": {\"align\": \"left\"}, \"hovermode\": \"closest\", \"mapbox\": {\"style\": \"light\"}, \"paper_bgcolor\": \"white\", \"plot_bgcolor\": \"#E5ECF6\", \"polar\": {\"angularaxis\": {\"gridcolor\": \"white\", \"linecolor\": \"white\", \"ticks\": \"\"}, \"bgcolor\": \"#E5ECF6\", \"radialaxis\": {\"gridcolor\": \"white\", \"linecolor\": \"white\", \"ticks\": \"\"}}, \"scene\": {\"xaxis\": {\"backgroundcolor\": \"#E5ECF6\", \"gridcolor\": \"white\", \"gridwidth\": 2, \"linecolor\": \"white\", \"showbackground\": true, \"ticks\": \"\", \"zerolinecolor\": \"white\"}, \"yaxis\": {\"backgroundcolor\": \"#E5ECF6\", \"gridcolor\": \"white\", \"gridwidth\": 2, \"linecolor\": \"white\", \"showbackground\": true, \"ticks\": \"\", \"zerolinecolor\": \"white\"}, \"zaxis\": {\"backgroundcolor\": \"#E5ECF6\", \"gridcolor\": \"white\", \"gridwidth\": 2, \"linecolor\": \"white\", \"showbackground\": true, \"ticks\": \"\", \"zerolinecolor\": \"white\"}}, \"shapedefaults\": {\"line\": {\"color\": \"#2a3f5f\"}}, \"ternary\": {\"aaxis\": {\"gridcolor\": \"white\", \"linecolor\": \"white\", \"ticks\": \"\"}, \"baxis\": {\"gridcolor\": \"white\", \"linecolor\": \"white\", \"ticks\": \"\"}, \"bgcolor\": \"#E5ECF6\", \"caxis\": {\"gridcolor\": \"white\", \"linecolor\": \"white\", \"ticks\": \"\"}}, \"title\": {\"x\": 0.05}, \"xaxis\": {\"automargin\": true, \"gridcolor\": \"white\", \"linecolor\": \"white\", \"ticks\": \"\", \"title\": {\"standoff\": 15}, \"zerolinecolor\": \"white\", \"zerolinewidth\": 2}, \"yaxis\": {\"automargin\": true, \"gridcolor\": \"white\", \"linecolor\": \"white\", \"ticks\": \"\", \"title\": {\"standoff\": 15}, \"zerolinecolor\": \"white\", \"zerolinewidth\": 2}}}},\n",
       "                        {\"responsive\": true}\n",
       "                    ).then(function(){\n",
       "                            \n",
       "var gd = document.getElementById('2d889426-d5dc-44cc-8f3e-82eabf5c72ee');\n",
       "var x = new MutationObserver(function (mutations, observer) {{\n",
       "        var display = window.getComputedStyle(gd).display;\n",
       "        if (!display || display === 'none') {{\n",
       "            console.log([gd, 'removed!']);\n",
       "            Plotly.purge(gd);\n",
       "            observer.disconnect();\n",
       "        }}\n",
       "}});\n",
       "\n",
       "// Listen for the removal of the full notebook cells\n",
       "var notebookContainer = gd.closest('#notebook-container');\n",
       "if (notebookContainer) {{\n",
       "    x.observe(notebookContainer, {childList: true});\n",
       "}}\n",
       "\n",
       "// Listen for the clearing of the current output cell\n",
       "var outputEl = gd.closest('.output');\n",
       "if (outputEl) {{\n",
       "    x.observe(outputEl, {childList: true});\n",
       "}}\n",
       "\n",
       "                        })\n",
       "                };\n",
       "                });\n",
       "            </script>\n",
       "        </div>"
      ]
     },
     "metadata": {},
     "output_type": "display_data"
    }
   ],
   "source": [
    "x0 = np.random.randn(500)\n",
    "# Add 1 to shift the mean of the Gaussian distribution\n",
    "x1 = np.random.randn(500) + 1\n",
    "\n",
    "fig = go.Figure()\n",
    "fig.add_trace(go.Histogram(x=x0))\n",
    "fig.add_trace(go.Histogram(x=x1))\n",
    "\n",
    "# Overlay both histograms\n",
    "fig.update_layout(barmode='overlay')\n",
    "# Reduce opacity to see both histograms\n",
    "fig.update_traces(opacity=0.75)\n",
    "fig.show()"
   ]
  },
  {
   "cell_type": "markdown",
   "metadata": {},
   "source": [
    "## 건수가 너무 큰 품목 제외하고 그리기"
   ]
  },
  {
   "cell_type": "code",
   "execution_count": 24,
   "metadata": {},
   "outputs": [
    {
     "name": "stdout",
     "output_type": "stream",
     "text": [
      "List of 'mrhst_induty_cl_nm' sorted by its count Index(['비료/농약/사료/종자', '농기계', '기타농업관련'], dtype='object', name='mrhst_induty_cl_nm')\n"
     ]
    },
    {
     "data": {
      "text/plain": [
       "Text(0.5, 1.0, \"국가표준분류코드 : 96에 해당하는 세분류 구매금액, \\n 포함항목 ['농기계' '비료/농약/사료/종자' '기타농업관련'], \\n 제외항목 : []\")"
      ]
     },
     "execution_count": 24,
     "metadata": {},
     "output_type": "execute_result"
    },
    {
     "data": {
      "image/png": "[encoded data removed]",
      "text/plain": [
       "<Figure size 1440x576 with 2 Axes>"
      ]
     },
     "metadata": {
      "needs_background": "light"
     },
     "output_type": "display_data"
    }
   ],
   "source": [
    "CODES  = ['84', '11', '43', '41', '32', '60', '62', '95', '96']\n",
    "CODE   = '96'\n",
    "X      = card[card[\"mrhst_induty_cl_code\"].str.slice(stop=2) == \"{}\".format(CODE)]\n",
    "Y      = ['selng_cascnt', \"salamt\"]\n",
    "\n",
    "# 건수 및 금액으로 정렬한것중 상위 몇개를 제거한다\n",
    "remove_ctgrys = X.groupby('mrhst_induty_cl_nm').count().sort_values(Y, ascending=False).index\n",
    "print(\"List of 'mrhst_induty_cl_nm' sorted by its count\", remove_ctgrys)\n",
    "\n",
    "if len(remove_ctgrys) >=5:\n",
    "  remove_ctgrys = remove_ctgrys[:2]\n",
    "else:\n",
    "  remove_ctgrys = []\n",
    "\n",
    "for remove_ctgry in remove_ctgrys:\n",
    "    print(len(X[X[\"mrhst_induty_cl_nm\"]== remove_ctgry]))\n",
    "    if len(X[X[\"mrhst_induty_cl_nm\"]== remove_ctgry]) > 0:\n",
    "        print( \"col_name = {}, the number of ctgry removed : {}\".format(str(remove_ctgry),\n",
    "                len( X[X[\"mrhst_induty_cl_nm\"]==remove_ctgry].index)) )\n",
    "        X = X.drop(index = X[X[\"mrhst_induty_cl_nm\"]==remove_ctgry].index)\n",
    "\n",
    "    elif len(X[X[\"mrhst_induty_cl_nm\"]== remove_ctgry]) == 0:\n",
    "        print(\"No ctgrys :\", str(remove_ctgry) )\n",
    "        \n",
    "# 제거된것으로 그래프를 그려본다\n",
    "fig,axes = plt.subplots(2,1,figsize=(20,8))\n",
    "sns.lineplot( x = pd.to_datetime(X['receipt_dttm'], format='%Y%m%d'), \n",
    "              y = Y[0], # 개수\n",
    "              data = X, ax=axes[0], hue = \"mrhst_induty_cl_nm\", estimator = np.sum, ci = None \n",
    ").set_title(\"국가표준분류코드 : {}에 해당하는 세분류 구매건수, \\n 포함항목 {}, \\n 제외항목 : {}\"\n",
    "            .format(CODE, X[\"mrhst_induty_cl_nm\"].unique(), remove_ctgrys[:len(remove_ctgrys)]) )\n",
    "\n",
    "sns.lineplot( x = pd.to_datetime(X['receipt_dttm'], format='%Y%m%d' ), \n",
    "              y = Y[1], # 금액 \n",
    "              data = X, ax=axes[1], hue = \"mrhst_induty_cl_nm\", estimator = np.sum, ci = None \n",
    ").set_title(\"국가표준분류코드 : {}에 해당하는 세분류 구매금액, \\n 포함항목 {}, \\n 제외항목 : {}\"\n",
    "            .format(CODE, X[\"mrhst_induty_cl_nm\"].unique(), remove_ctgrys[:len(remove_ctgrys)]) )"
   ]
  }
 ],
 "metadata": {
  "kernelspec": {
   "display_name": "Python 3",
   "language": "python",
   "name": "python3"
  },
  "language_info": {
   "codemirror_mode": {
    "name": "ipython",
    "version": 3
   },
   "file_extension": ".py",
   "mimetype": "text/x-python",
   "name": "python",
   "nbconvert_exporter": "python",
   "pygments_lexer": "ipython3",
   "version": "3.7.6"
  }
 },
 "nbformat": 4,
 "nbformat_minor": 4
}
